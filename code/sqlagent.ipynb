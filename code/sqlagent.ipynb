{
 "cells": [
  {
   "cell_type": "code",
   "execution_count": 1,
   "id": "748a78a5",
   "metadata": {},
   "outputs": [
    {
     "data": {
      "text/plain": [
       "'c:\\\\Desktop\\\\AgenticSQL\\\\code'"
      ]
     },
     "execution_count": 1,
     "metadata": {},
     "output_type": "execute_result"
    }
   ],
   "source": [
    "import os\n",
    "os.getcwd()"
   ]
  },
  {
   "cell_type": "code",
   "execution_count": 2,
   "id": "fd45f3f3",
   "metadata": {},
   "outputs": [
    {
     "data": {
      "text/plain": [
       "True"
      ]
     },
     "execution_count": 2,
     "metadata": {},
     "output_type": "execute_result"
    }
   ],
   "source": [
    "from dotenv import load_dotenv\n",
    "load_dotenv(\"../.env\")"
   ]
  },
  {
   "cell_type": "code",
   "execution_count": 3,
   "id": "a7fc138c",
   "metadata": {},
   "outputs": [
    {
     "name": "stdout",
     "output_type": "stream",
     "text": [
      "Chinook.db downloaded successfully.\n"
     ]
    }
   ],
   "source": [
    "## download chinook database\n",
    "\n",
    "## it is a small database with tables related to music, albums, track etc. so we can use it with sqlite.\n",
    "\n",
    "import requests\n",
    "\n",
    "url = \"https://github.com/tharani001/MyDatasets/raw/refs/heads/main/db_samples/Chinook.db\"\n",
    "\n",
    "response = requests.get(url)\n",
    "\n",
    "if response.status_code == 200:\n",
    "    with open(\"../database/Chinook.db\", \"wb\") as file:\n",
    "        file.write(response.content)\n",
    "    print(\"Chinook.db downloaded successfully.\")\n",
    "else:\n",
    "    print(f\"Failed to download Chinook.db. Status code: {response.status_code}\")"
   ]
  },
  {
   "cell_type": "markdown",
   "id": "56d03792",
   "metadata": {},
   "source": [
    "### Load Database with Langchain SQLDatabase"
   ]
  },
  {
   "cell_type": "code",
   "execution_count": 6,
   "id": "97bdd05b",
   "metadata": {},
   "outputs": [
    {
     "name": "stdout",
     "output_type": "stream",
     "text": [
      "sqlite\n",
      "\n",
      "CREATE TABLE \"Album\" (\n",
      "\t\"AlbumId\" INTEGER NOT NULL, \n",
      "\t\"Title\" NVARCHAR(160) NOT NULL, \n",
      "\t\"ArtistId\" INTEGER NOT NULL, \n",
      "\tPRIMARY KEY (\"AlbumId\"), \n",
      "\tFOREIGN KEY(\"ArtistId\") REFERENCES \"Artist\" (\"ArtistId\")\n",
      ")\n",
      "\n",
      "/*\n",
      "3 rows from Album table:\n",
      "AlbumId\tTitle\tArtistId\n",
      "1\tFor Those About To Rock We Salute You\t1\n",
      "2\tBalls to the Wall\t2\n",
      "3\tRestless and Wild\t2\n",
      "*/\n",
      "\n",
      "\n",
      "CREATE TABLE \"Artist\" (\n",
      "\t\"ArtistId\" INTEGER NOT NULL, \n",
      "\t\"Name\" NVARCHAR(120), \n",
      "\tPRIMARY KEY (\"ArtistId\")\n",
      ")\n",
      "\n",
      "/*\n",
      "3 rows from Artist table:\n",
      "ArtistId\tName\n",
      "1\tAC/DC\n",
      "2\tAccept\n",
      "3\tAerosmith\n",
      "*/\n",
      "\n",
      "\n",
      "CREATE TABLE \"Customer\" (\n",
      "\t\"CustomerId\" INTEGER NOT NULL, \n",
      "\t\"FirstName\" NVARCHAR(40) NOT NULL, \n",
      "\t\"LastName\" NVARCHAR(20) NOT NULL, \n",
      "\t\"Company\" NVARCHAR(80), \n",
      "\t\"Address\" NVARCHAR(70), \n",
      "\t\"City\" NVARCHAR(40), \n",
      "\t\"State\" NVARCHAR(40), \n",
      "\t\"Country\" NVARCHAR(40), \n",
      "\t\"PostalCode\" NVARCHAR(10), \n",
      "\t\"Phone\" NVARCHAR(24), \n",
      "\t\"Fax\" NVARCHAR(24), \n",
      "\t\"Email\" NVARCHAR(60) NOT NULL, \n",
      "\t\"SupportRepId\" INTEGER, \n",
      "\tPRIMARY KEY (\"CustomerId\"), \n",
      "\tFOREIGN KEY(\"SupportRepId\") REFERENCES \"Employee\" (\"EmployeeId\")\n",
      ")\n",
      "\n",
      "/*\n",
      "3 rows from Customer table:\n",
      "CustomerId\tFirstName\tLastName\tCompany\tAddress\tCity\tState\tCountry\tPostalCode\tPhone\tFax\tEmail\tSupportRepId\n",
      "1\tLuís\tGonçalves\tEmbraer - Empresa Brasileira de Aeronáutica S.A.\tAv. Brigadeiro Faria Lima, 2170\tSão José dos Campos\tSP\tBrazil\t12227-000\t+55 (12) 3923-5555\t+55 (12) 3923-5566\tluisg@embraer.com.br\t3\n",
      "2\tLeonie\tKöhler\tNone\tTheodor-Heuss-Straße 34\tStuttgart\tNone\tGermany\t70174\t+49 0711 2842222\tNone\tleonekohler@surfeu.de\t5\n",
      "3\tFrançois\tTremblay\tNone\t1498 rue Bélanger\tMontréal\tQC\tCanada\tH2G 1A7\t+1 (514) 721-4711\tNone\tftremblay@gmail.com\t3\n",
      "*/\n",
      "\n",
      "\n",
      "CREATE TABLE \"Employee\" (\n",
      "\t\"EmployeeId\" INTEGER NOT NULL, \n",
      "\t\"LastName\" NVARCHAR(20) NOT NULL, \n",
      "\t\"FirstName\" NVARCHAR(20) NOT NULL, \n",
      "\t\"Title\" NVARCHAR(30), \n",
      "\t\"ReportsTo\" INTEGER, \n",
      "\t\"BirthDate\" DATETIME, \n",
      "\t\"HireDate\" DATETIME, \n",
      "\t\"Address\" NVARCHAR(70), \n",
      "\t\"City\" NVARCHAR(40), \n",
      "\t\"State\" NVARCHAR(40), \n",
      "\t\"Country\" NVARCHAR(40), \n",
      "\t\"PostalCode\" NVARCHAR(10), \n",
      "\t\"Phone\" NVARCHAR(24), \n",
      "\t\"Fax\" NVARCHAR(24), \n",
      "\t\"Email\" NVARCHAR(60), \n",
      "\tPRIMARY KEY (\"EmployeeId\"), \n",
      "\tFOREIGN KEY(\"ReportsTo\") REFERENCES \"Employee\" (\"EmployeeId\")\n",
      ")\n",
      "\n",
      "/*\n",
      "3 rows from Employee table:\n",
      "EmployeeId\tLastName\tFirstName\tTitle\tReportsTo\tBirthDate\tHireDate\tAddress\tCity\tState\tCountry\tPostalCode\tPhone\tFax\tEmail\n",
      "1\tAdams\tAndrew\tGeneral Manager\tNone\t1962-02-18 00:00:00\t2002-08-14 00:00:00\t11120 Jasper Ave NW\tEdmonton\tAB\tCanada\tT5K 2N1\t+1 (780) 428-9482\t+1 (780) 428-3457\tandrew@chinookcorp.com\n",
      "2\tEdwards\tNancy\tSales Manager\t1\t1958-12-08 00:00:00\t2002-05-01 00:00:00\t825 8 Ave SW\tCalgary\tAB\tCanada\tT2P 2T3\t+1 (403) 262-3443\t+1 (403) 262-3322\tnancy@chinookcorp.com\n",
      "3\tPeacock\tJane\tSales Support Agent\t2\t1973-08-29 00:00:00\t2002-04-01 00:00:00\t1111 6 Ave SW\tCalgary\tAB\tCanada\tT2P 5M5\t+1 (403) 262-3443\t+1 (403) 262-6712\tjane@chinookcorp.com\n",
      "*/\n",
      "\n",
      "\n",
      "CREATE TABLE \"Genre\" (\n",
      "\t\"GenreId\" INTEGER NOT NULL, \n",
      "\t\"Name\" NVARCHAR(120), \n",
      "\tPRIMARY KEY (\"GenreId\")\n",
      ")\n",
      "\n",
      "/*\n",
      "3 rows from Genre table:\n",
      "GenreId\tName\n",
      "1\tRock\n",
      "2\tJazz\n",
      "3\tMetal\n",
      "*/\n",
      "\n",
      "\n",
      "CREATE TABLE \"Invoice\" (\n",
      "\t\"InvoiceId\" INTEGER NOT NULL, \n",
      "\t\"CustomerId\" INTEGER NOT NULL, \n",
      "\t\"InvoiceDate\" DATETIME NOT NULL, \n",
      "\t\"BillingAddress\" NVARCHAR(70), \n",
      "\t\"BillingCity\" NVARCHAR(40), \n",
      "\t\"BillingState\" NVARCHAR(40), \n",
      "\t\"BillingCountry\" NVARCHAR(40), \n",
      "\t\"BillingPostalCode\" NVARCHAR(10), \n",
      "\t\"Total\" NUMERIC(10, 2) NOT NULL, \n",
      "\tPRIMARY KEY (\"InvoiceId\"), \n",
      "\tFOREIGN KEY(\"CustomerId\") REFERENCES \"Customer\" (\"CustomerId\")\n",
      ")\n",
      "\n",
      "/*\n",
      "3 rows from Invoice table:\n",
      "InvoiceId\tCustomerId\tInvoiceDate\tBillingAddress\tBillingCity\tBillingState\tBillingCountry\tBillingPostalCode\tTotal\n",
      "1\t2\t2009-01-01 00:00:00\tTheodor-Heuss-Straße 34\tStuttgart\tNone\tGermany\t70174\t1.98\n",
      "2\t4\t2009-01-02 00:00:00\tUllevålsveien 14\tOslo\tNone\tNorway\t0171\t3.96\n",
      "3\t8\t2009-01-03 00:00:00\tGrétrystraat 63\tBrussels\tNone\tBelgium\t1000\t5.94\n",
      "*/\n",
      "\n",
      "\n",
      "CREATE TABLE \"InvoiceLine\" (\n",
      "\t\"InvoiceLineId\" INTEGER NOT NULL, \n",
      "\t\"InvoiceId\" INTEGER NOT NULL, \n",
      "\t\"TrackId\" INTEGER NOT NULL, \n",
      "\t\"UnitPrice\" NUMERIC(10, 2) NOT NULL, \n",
      "\t\"Quantity\" INTEGER NOT NULL, \n",
      "\tPRIMARY KEY (\"InvoiceLineId\"), \n",
      "\tFOREIGN KEY(\"TrackId\") REFERENCES \"Track\" (\"TrackId\"), \n",
      "\tFOREIGN KEY(\"InvoiceId\") REFERENCES \"Invoice\" (\"InvoiceId\")\n",
      ")\n",
      "\n",
      "/*\n",
      "3 rows from InvoiceLine table:\n",
      "InvoiceLineId\tInvoiceId\tTrackId\tUnitPrice\tQuantity\n",
      "1\t1\t2\t0.99\t1\n",
      "2\t1\t4\t0.99\t1\n",
      "3\t2\t6\t0.99\t1\n",
      "*/\n",
      "\n",
      "\n",
      "CREATE TABLE \"MediaType\" (\n",
      "\t\"MediaTypeId\" INTEGER NOT NULL, \n",
      "\t\"Name\" NVARCHAR(120), \n",
      "\tPRIMARY KEY (\"MediaTypeId\")\n",
      ")\n",
      "\n",
      "/*\n",
      "3 rows from MediaType table:\n",
      "MediaTypeId\tName\n",
      "1\tMPEG audio file\n",
      "2\tProtected AAC audio file\n",
      "3\tProtected MPEG-4 video file\n",
      "*/\n",
      "\n",
      "\n",
      "CREATE TABLE \"Playlist\" (\n",
      "\t\"PlaylistId\" INTEGER NOT NULL, \n",
      "\t\"Name\" NVARCHAR(120), \n",
      "\tPRIMARY KEY (\"PlaylistId\")\n",
      ")\n",
      "\n",
      "/*\n",
      "3 rows from Playlist table:\n",
      "PlaylistId\tName\n",
      "1\tMusic\n",
      "2\tMovies\n",
      "3\tTV Shows\n",
      "*/\n",
      "\n",
      "\n",
      "CREATE TABLE \"PlaylistTrack\" (\n",
      "\t\"PlaylistId\" INTEGER NOT NULL, \n",
      "\t\"TrackId\" INTEGER NOT NULL, \n",
      "\tPRIMARY KEY (\"PlaylistId\", \"TrackId\"), \n",
      "\tFOREIGN KEY(\"TrackId\") REFERENCES \"Track\" (\"TrackId\"), \n",
      "\tFOREIGN KEY(\"PlaylistId\") REFERENCES \"Playlist\" (\"PlaylistId\")\n",
      ")\n",
      "\n",
      "/*\n",
      "3 rows from PlaylistTrack table:\n",
      "PlaylistId\tTrackId\n",
      "1\t3402\n",
      "1\t3389\n",
      "1\t3390\n",
      "*/\n",
      "\n",
      "\n",
      "CREATE TABLE \"Track\" (\n",
      "\t\"TrackId\" INTEGER NOT NULL, \n",
      "\t\"Name\" NVARCHAR(200) NOT NULL, \n",
      "\t\"AlbumId\" INTEGER, \n",
      "\t\"MediaTypeId\" INTEGER NOT NULL, \n",
      "\t\"GenreId\" INTEGER, \n",
      "\t\"Composer\" NVARCHAR(220), \n",
      "\t\"Milliseconds\" INTEGER NOT NULL, \n",
      "\t\"Bytes\" INTEGER, \n",
      "\t\"UnitPrice\" NUMERIC(10, 2) NOT NULL, \n",
      "\tPRIMARY KEY (\"TrackId\"), \n",
      "\tFOREIGN KEY(\"MediaTypeId\") REFERENCES \"MediaType\" (\"MediaTypeId\"), \n",
      "\tFOREIGN KEY(\"GenreId\") REFERENCES \"Genre\" (\"GenreId\"), \n",
      "\tFOREIGN KEY(\"AlbumId\") REFERENCES \"Album\" (\"AlbumId\")\n",
      ")\n",
      "\n",
      "/*\n",
      "3 rows from Track table:\n",
      "TrackId\tName\tAlbumId\tMediaTypeId\tGenreId\tComposer\tMilliseconds\tBytes\tUnitPrice\n",
      "1\tFor Those About To Rock (We Salute You)\t1\t1\t1\tAngus Young, Malcolm Young, Brian Johnson\t343719\t11170334\t0.99\n",
      "2\tBalls to the Wall\t2\t2\t1\tNone\t342562\t5510424\t0.99\n",
      "3\tFast As a Shark\t3\t2\t1\tF. Baltes, S. Kaufman, U. Dirkscneider & W. Hoffman\t230619\t3990994\t0.99\n",
      "*/\n"
     ]
    }
   ],
   "source": [
    "# sqlite is small database that provides similar functionality to mysql and postgresql.\n",
    "\n",
    "from langchain_community.utilities.sql_database import SQLDatabase\n",
    "\n",
    "db = SQLDatabase.from_uri(\"sqlite:///../database/Chinook.db\")\n",
    "# print(db.table_names())\n",
    "print(db.dialect)\n",
    "print(db.get_table_info()) "
   ]
  },
  {
   "cell_type": "code",
   "execution_count": 8,
   "id": "71f66c56",
   "metadata": {},
   "outputs": [
    {
     "name": "stdout",
     "output_type": "stream",
     "text": [
      "[(1, 'For Those About To Rock We Salute You', 1), (2, 'Balls to the Wall', 2), (3, 'Restless and Wild', 2), (4, 'Let There Be Rock', 1), (5, 'Big Ones', 3)]\n"
     ]
    }
   ],
   "source": [
    "print(db.run(\"SELECT * FROM Album LIMIT 5;\"))"
   ]
  },
  {
   "cell_type": "markdown",
   "id": "bacdb773",
   "metadata": {},
   "source": [
    "### LLM initialization"
   ]
  },
  {
   "cell_type": "code",
   "execution_count": 9,
   "id": "5f5884ef",
   "metadata": {},
   "outputs": [
    {
     "data": {
      "text/plain": [
       "ChatOllama(model='qwen2.5:7b', base_url='http://localhost:11434')"
      ]
     },
     "execution_count": 9,
     "metadata": {},
     "output_type": "execute_result"
    }
   ],
   "source": [
    "# Qwen2.5 is twice the size of LLAMA3.2 model but it performs better on code related tasks.\n",
    "\n",
    "from langchain_ollama import ChatOllama\n",
    "\n",
    "model = \"qwen2.5:7b\"\n",
    "\n",
    "base_url = \"http://localhost:11434\"\n",
    "\n",
    "llm  = ChatOllama(model=model, base_url=base_url)\n",
    "\n",
    "llm"
   ]
  },
  {
   "cell_type": "markdown",
   "id": "ba796c9c",
   "metadata": {},
   "source": [
    "### Building Graph State "
   ]
  },
  {
   "cell_type": "code",
   "execution_count": 10,
   "id": "393f410d",
   "metadata": {},
   "outputs": [],
   "source": [
    "# Graph is workflow that controls the how an agent thinks and acts by managing the flow of states between the nodes.\n",
    "\n",
    "# state is just a dictionary that contains the messages.\n",
    "\n",
    "# each node takes a state and returns a new state. it gets updated with the new state.\n",
    "\n",
    "from typing import TypedDict\n",
    "\n",
    "class State(TypedDict):\n",
    "    question : str\n",
    "    query : str\n",
    "    result : str\n",
    "    answer : str"
   ]
  },
  {
   "cell_type": "markdown",
   "id": "b8b4afca",
   "metadata": {},
   "source": [
    "### SQL Query prompt from Langchain hub"
   ]
  },
  {
   "cell_type": "code",
   "execution_count": 11,
   "id": "cf1f2734",
   "metadata": {},
   "outputs": [
    {
     "data": {
      "text/plain": [
       "ChatPromptTemplate(input_variables=['dialect', 'input', 'table_info', 'top_k'], input_types={}, partial_variables={}, metadata={'lc_hub_owner': 'langchain-ai', 'lc_hub_repo': 'sql-query-system-prompt', 'lc_hub_commit_hash': '360a0e9d0f0f5da0ee9810a2a0ea3c9dc3de31b3ae9d50272420c33e48e6e323'}, messages=[SystemMessagePromptTemplate(prompt=PromptTemplate(input_variables=['dialect', 'table_info', 'top_k'], input_types={}, partial_variables={}, template='Given an input question, create a syntactically correct {dialect} query to run to help find the answer. Unless the user specifies in his question a specific number of examples they wish to obtain, always limit your query to at most {top_k} results. You can order the results by a relevant column to return the most interesting examples in the database.\\n\\nNever query for all the columns from a specific table, only ask for a the few relevant columns given the question.\\n\\nPay attention to use only the column names that you can see in the schema description. Be careful to not query for columns that do not exist. Also, pay attention to which column is in which table.\\n\\nOnly use the following tables:\\n{table_info}'), additional_kwargs={}), HumanMessagePromptTemplate(prompt=PromptTemplate(input_variables=['input'], input_types={}, partial_variables={}, template='Question: {input}'), additional_kwargs={})])"
      ]
     },
     "execution_count": 11,
     "metadata": {},
     "output_type": "execute_result"
    }
   ],
   "source": [
    "from langchain import hub\n",
    "\n",
    "query_prompt_template = hub.pull('langchain-ai/sql-query-system-prompt')\n",
    "\n",
    "query_prompt_template"
   ]
  },
  {
   "cell_type": "code",
   "execution_count": 15,
   "id": "b669baa0",
   "metadata": {},
   "outputs": [
    {
     "name": "stdout",
     "output_type": "stream",
     "text": [
      "================================\u001b[1m System Message \u001b[0m================================\n",
      "\n",
      "Given an input question, create a syntactically correct \u001b[33;1m\u001b[1;3m{dialect}\u001b[0m query to run to help find the answer. Unless the user specifies in his question a specific number of examples they wish to obtain, always limit your query to at most \u001b[33;1m\u001b[1;3m{top_k}\u001b[0m results. You can order the results by a relevant column to return the most interesting examples in the database.\n",
      "\n",
      "Never query for all the columns from a specific table, only ask for a the few relevant columns given the question.\n",
      "\n",
      "Pay attention to use only the column names that you can see in the schema description. Be careful to not query for columns that do not exist. Also, pay attention to which column is in which table.\n",
      "\n",
      "Only use the following tables:\n",
      "\u001b[33;1m\u001b[1;3m{table_info}\u001b[0m\n"
     ]
    },
    {
     "data": {
      "text/plain": [
       "(['dialect', 'input', 'table_info', 'top_k'], None)"
      ]
     },
     "execution_count": 15,
     "metadata": {},
     "output_type": "execute_result"
    }
   ],
   "source": [
    "query_prompt_template.input_variables, query_prompt_template.messages[0].pretty_print()"
   ]
  },
  {
   "cell_type": "markdown",
   "id": "f9cddb70",
   "metadata": {},
   "source": [
    "### Output Parser"
   ]
  },
  {
   "cell_type": "code",
   "execution_count": 16,
   "id": "0a99989b",
   "metadata": {},
   "outputs": [
    {
     "data": {
      "text/plain": [
       "{'query': typing.Annotated[str, Ellipsis, 'Syntactically correct and valid SQL query']}"
      ]
     },
     "execution_count": 16,
     "metadata": {},
     "output_type": "execute_result"
    }
   ],
   "source": [
    "from typing import Annotated\n",
    "\n",
    "class QueryOutput(TypedDict):\n",
    "    \"\"\"Generated SQL query\"\"\"\n",
    "\n",
    "    query: Annotated[str, ..., \"Syntactically correct and valid SQL query\"]\n",
    "\n",
    "QueryOutput({\"query\": \"SELECT * FROM album LIMIT 2\"})\n",
    "QueryOutput.__annotations__"
   ]
  },
  {
   "cell_type": "code",
   "execution_count": 20,
   "id": "57195966",
   "metadata": {},
   "outputs": [
    {
     "data": {
      "text/plain": [
       "RunnableBinding(bound=ChatOllama(model='qwen2.5:7b', base_url='http://localhost:11434'), kwargs={'format': {'title': 'QueryOutput', 'description': 'Generated SQL query', 'type': 'object', 'properties': {'query': {'description': 'Syntactically correct and valid SQL query', 'type': 'string'}}, 'required': ['query']}, 'ls_structured_output_format': {'kwargs': {'method': 'json_schema'}, 'schema': {'title': 'QueryOutput', 'description': 'Generated SQL query', 'type': 'object', 'properties': {'query': {'description': 'Syntactically correct and valid SQL query', 'type': 'string'}}, 'required': ['query']}}}, config={}, config_factories=[])\n",
       "| JsonOutputParser()"
      ]
     },
     "execution_count": 20,
     "metadata": {},
     "output_type": "execute_result"
    }
   ],
   "source": [
    "llm.with_structured_output(QueryOutput)"
   ]
  },
  {
   "cell_type": "markdown",
   "id": "48f55f39",
   "metadata": {},
   "source": [
    "### Write node: It turns question to a SQL Query"
   ]
  },
  {
   "cell_type": "code",
   "execution_count": 25,
   "id": "13315840",
   "metadata": {},
   "outputs": [],
   "source": [
    "def write_query(state: State) -> State:\n",
    "    \"\"\"Generate MySQL query to fetch information\"\"\"\n",
    "\n",
    "    prompt = query_prompt_template.invoke({\n",
    "        \"dialect\": db.dialect,\n",
    "        \"top_k\": 5,\n",
    "        \"table_info\": db.get_table_info(),\n",
    "        \"input\": state[\"question\"]\n",
    "    })\n",
    "     \n",
    "    output_parse_llm = llm.with_structured_output(QueryOutput)\n",
    "\n",
    "    result = output_parse_llm.invoke(prompt)\n",
    "\n",
    "    return {\"query\" : result[\"query\"]}\n",
    "\n"
   ]
  },
  {
   "cell_type": "code",
   "execution_count": 26,
   "id": "758dda57",
   "metadata": {},
   "outputs": [
    {
     "data": {
      "text/plain": [
       "{'query': 'select count(*) from album'}"
      ]
     },
     "execution_count": 26,
     "metadata": {},
     "output_type": "execute_result"
    }
   ],
   "source": [
    "write_query({\"question\": \" How many albums are there in the database?\"})"
   ]
  },
  {
   "cell_type": "markdown",
   "id": "21587159",
   "metadata": {},
   "source": [
    "### Execute Query Node:  It generates the result"
   ]
  },
  {
   "cell_type": "code",
   "execution_count": 27,
   "id": "432c2e43",
   "metadata": {},
   "outputs": [],
   "source": [
    "from langchain_community.tools.sql_database.tool import QuerySQLDataBaseTool\n",
    "\n",
    "def execute_query(state:State):\n",
    "    \"\"\"Execute SQL query and return the result\"\"\"\n",
    "    query = state[\"query\"]\n",
    "    execute_query_tool = QuerySQLDataBaseTool(db=db)\n",
    "\n",
    "    return {'result': execute_query_tool.invoke({\"query\": query})}"
   ]
  },
  {
   "cell_type": "code",
   "execution_count": 28,
   "id": "ee198953",
   "metadata": {},
   "outputs": [
    {
     "name": "stderr",
     "output_type": "stream",
     "text": [
      "C:\\Users\\thara\\AppData\\Local\\Temp\\ipykernel_24432\\4185605201.py:6: LangChainDeprecationWarning: The class `QuerySQLDataBaseTool` was deprecated in LangChain 0.3.12 and will be removed in 1.0. An updated version of the class exists in the :class:`~langchain-community package and should be used instead. To use it run `pip install -U :class:`~langchain-community` and import as `from :class:`~langchain_community.tools import QuerySQLDatabaseTool``.\n",
      "  execute_query_tool = QuerySQLDataBaseTool(db=db)\n"
     ]
    },
    {
     "data": {
      "text/plain": [
       "{'result': \"[(1, 'For Those About To Rock We Salute You', 1), (2, 'Balls to the Wall', 2)]\"}"
      ]
     },
     "execution_count": 28,
     "metadata": {},
     "output_type": "execute_result"
    }
   ],
   "source": [
    "execute_query({\"query\": \"SELECT * FROM album LIMIT 2\"})"
   ]
  },
  {
   "cell_type": "markdown",
   "id": "b01a0428",
   "metadata": {},
   "source": [
    "### Generate Answer Node: It turns the result into a response for the question"
   ]
  },
  {
   "cell_type": "code",
   "execution_count": 29,
   "id": "42e33f7c",
   "metadata": {},
   "outputs": [],
   "source": [
    "def generate_answer(state:State):\n",
    "    \"\"\"Generate answer using retrieved information as the context\"\"\" \n",
    "\n",
    "    prompt = (\n",
    "        \"Given the following user question, corresponding SQL query, \"\n",
    "        \"and SQL result, answer the user question.\\n\\n\"\n",
    "        f'Question: {state[\"question\"]}\\n'\n",
    "        f'SQL Query: {state[\"query\"]}\\n'\n",
    "        f'SQL Result: {state[\"result\"]}'\n",
    "    )\n",
    "\n",
    "    response = llm.invoke(prompt)\n",
    "\n",
    "    return {\"answer\": response.content}"
   ]
  },
  {
   "cell_type": "markdown",
   "id": "1cc89651",
   "metadata": {},
   "source": [
    "### Node Testing"
   ]
  },
  {
   "cell_type": "code",
   "execution_count": 30,
   "id": "d2efbf47",
   "metadata": {},
   "outputs": [
    {
     "data": {
      "text/plain": [
       "{'query': 'SELECT COUNT(*) FROM album'}"
      ]
     },
     "execution_count": 30,
     "metadata": {},
     "output_type": "execute_result"
    }
   ],
   "source": [
    "question =  \"How many albums are there in the database?\"\n",
    "query = write_query({\"question\": question})\n",
    "query"
   ]
  },
  {
   "cell_type": "code",
   "execution_count": 31,
   "id": "b1279263",
   "metadata": {},
   "outputs": [
    {
     "data": {
      "text/plain": [
       "{'result': '[(347,)]'}"
      ]
     },
     "execution_count": 31,
     "metadata": {},
     "output_type": "execute_result"
    }
   ],
   "source": [
    "result = execute_query(query)\n",
    "result"
   ]
  },
  {
   "cell_type": "code",
   "execution_count": 32,
   "id": "a49f75f1",
   "metadata": {},
   "outputs": [
    {
     "data": {
      "text/plain": [
       "{'question': 'How many albums are there in the database?',\n",
       " 'query': 'SELECT COUNT(*) FROM album',\n",
       " 'result': '[(347,)]'}"
      ]
     },
     "execution_count": 32,
     "metadata": {},
     "output_type": "execute_result"
    }
   ],
   "source": [
    "state = {\"question\": question, **query, **result}\n",
    "state"
   ]
  },
  {
   "cell_type": "code",
   "execution_count": 33,
   "id": "620a06d2",
   "metadata": {},
   "outputs": [
    {
     "data": {
      "text/plain": [
       "{'answer': 'Based on the provided SQL query and result, there are 347 albums in the database. The SQL query `SELECT COUNT(*) FROM album` counts all the rows in the `album` table, which corresponds to the number of albums. The result `(347,)` indicates that there are 347 entries in the `album` table.'}"
      ]
     },
     "execution_count": 33,
     "metadata": {},
     "output_type": "execute_result"
    }
   ],
   "source": [
    "generate_answer(state)"
   ]
  },
  {
   "cell_type": "markdown",
   "id": "f67f5dca",
   "metadata": {},
   "source": [
    "### Building Workflow with graph connecting all the nodes"
   ]
  },
  {
   "cell_type": "code",
   "execution_count": 35,
   "id": "ce498007",
   "metadata": {},
   "outputs": [
    {
     "data": {
      "image/png": "[encoded data removed]",
      "text/plain": [
       "<langgraph.graph.state.CompiledStateGraph object at 0x000001DA1C7F3130>"
      ]
     },
     "execution_count": 35,
     "metadata": {},
     "output_type": "execute_result"
    }
   ],
   "source": [
    "from langgraph.graph import StateGraph, START\n",
    "### Add memory to the chatbot\n",
    "\n",
    "from langgraph.checkpoint.memory import MemorySaver\n",
    "\n",
    "memory = MemorySaver() # memory saver to store the state of the graph\n",
    "\n",
    "\n",
    "workflow = StateGraph(State)\n",
    "\n",
    "# Add nodes to the workflow\n",
    "workflow.add_node(\"write_query\", write_query)\n",
    "workflow.add_node(\"execute_query\", execute_query)\n",
    "workflow.add_node(\"generate_answer\", generate_answer)\n",
    "\n",
    "# add edges to the workflow\n",
    "workflow.add_edge(START, \"write_query\")\n",
    "workflow.add_edge(\"write_query\", \"execute_query\")\n",
    "workflow.add_edge(\"execute_query\", \"generate_answer\")\n",
    "\n",
    "graph = workflow.compile(checkpointer=memory) # checkpointer is used for memory)\n",
    "\n",
    "graph"
   ]
  },
  {
   "cell_type": "markdown",
   "id": "415c6bc1",
   "metadata": {},
   "source": [
    "### Testing the graph"
   ]
  },
  {
   "cell_type": "code",
   "execution_count": null,
   "id": "9d8bfa2e",
   "metadata": {},
   "outputs": [
    {
     "data": {
      "text/plain": [
       "{'question': 'How many albums are there in the database?',\n",
       " 'query': 'SELECT COUNT(*) FROM album',\n",
       " 'result': '[(347,)]',\n",
       " 'answer': 'Based on the SQL result provided, there are 347 albums in the database. The result `(347,)` indicates that the count of rows in the `album` table is 347.'}"
      ]
     },
     "execution_count": 39,
     "metadata": {},
     "output_type": "execute_result"
    }
   ],
   "source": [
    "config = {'configurable':{'thread_id':101}}\n",
    "graph.invoke({\"question\": 'How many albums are there in the database?'},config=config)"
   ]
  },
  {
   "cell_type": "code",
   "execution_count": 42,
   "id": "f0a000eb",
   "metadata": {},
   "outputs": [
    {
     "name": "stdout",
     "output_type": "stream",
     "text": [
      "{'write_query': {'query': 'SELECT Composer FROM Track'}}\n",
      "{'execute_query': {'result': '[(\\'Angus Young, Malcolm Young, Brian Johnson\\',), (None,), (\\'F. Baltes, S. Kaufman, U. Dirkscneider & W. Hoffman\\',), (\\'F. Baltes, R.A. Smith-Diesel, S. Kaufman, U. Dirkscneider & W. Hoffman\\',), (\\'Deaffy & R.A. Smith-Diesel\\',), (\\'Angus Young, Malcolm Young, Brian Johnson\\',), (\\'Angus Young, Malcolm Young, Brian Johnson\\',), (\\'Angus Young, Malcolm Young, Brian Johnson\\',), (\\'Angus Young, Malcolm Young, Brian Johnson\\',), (\\'Angus Young, Malcolm Young, Brian Johnson\\',), (\\'Angus Young, Malcolm Young, Brian Johnson\\',), (\\'Angus Young, Malcolm Young, Brian Johnson\\',), (\\'Angus Young, Malcolm Young, Brian Johnson\\',), (\\'Angus Young, Malcolm Young, Brian Johnson\\',), (\\'AC/DC\\',), (\\'AC/DC\\',), (\\'AC/DC\\',), (\\'AC/DC\\',), (\\'AC/DC\\',), (\\'AC/DC\\',), (\\'AC/DC\\',), (\\'AC/DC\\',), (\\'Steven Tyler, Joe Perry, Jack Blades, Tommy Shaw\\',), (\\'Steven Tyler, Joe Perry\\',), (\\'Steven Tyler, Joe Perry, Jim Vallance, Holly Knight\\',), (\\'Steven Tyler, Joe Perry, Desmond Child\\',), (\\'Steven Tyler, Joe Perry, Desmond Child\\',), (\\'Steven Tyler, Tom Hamilton\\',), (\\'Steven Tyler, Joe Perry, Taylor Rhodes\\',), (\\'Steven Tyler, Richie Supa\\',), (\\'Steven Tyler, Joe Perry, Taylor Rhodes\\',), (\\'Steven Tyler, Jim Vallance\\',), (\\'Steven Tyler, Jim Vallance\\',), (\\'Steven Tyler, Joe Perry, Desmond Child\\',), (\\'Steven Tyler, Joe Perry, Jim Vallance\\',), (\\'Steven Tyler, Desmond Child\\',), (\\'Steven Tyler, Joe Perry, Mark Hudson\\',), (\\'Alanis Morissette & Glenn Ballard\\',), (\\'Alanis Morissette & Glenn Ballard\\',), (\\'Alanis Morissette & Glenn Ballard\\',), (\\'Alanis Morissette & Glenn Ballard\\',), (\\'Alanis Morissette & Glenn Ballard\\',), (\\'Alanis Morissette & Glenn Ballard\\',), (\\'Alanis Morissette & Glenn Ballard\\',), (\\'Alanis Morissette & Glenn Ballard\\',), (\\'Alanis Morissette & Glenn Ballard\\',), (\\'Alanis Morissette & Glenn Ballard\\',), (\\'Alanis Morissette & Glenn Ballard\\',), (\\'Alanis Morissette & Glenn Ballard\\',), (\\'Alanis Morissette & Glenn Ballard\\',), (\\'Jerry Cantrell\\',), (\\'Jerry Cantrell, Layne Staley\\',), (\\'Jerry Cantrell\\',), (\\'Jerry Cantrell\\',), (\\'Jerry Cantrell, Layne Staley\\',), (\\'Jerry Cantrell, Layne Staley\\',), (\\'Jerry Cantrell, Michael Starr, Sean Kinney\\',), (\\'Jerry Cantrell\\',), (\\'Jerry Cantrell\\',), (\\'Jerry Cantrell, Michael Starr, Layne Staley\\',), (\\'Jerry Cantrell\\',), (\\'Jerry Cantrell, Layne Staley\\',), (None,), (None,), (None,), (None,), (None,), (None,), (None,), (None,), (None,), (None,), (None,), (None,), (None,), (None,), (\\'Apocalyptica\\',), (\\'Apocalyptica\\',), (\\'Apocalyptica\\',), (\\'Apocalyptica\\',), (\\'Apocalyptica\\',), (\\'Apocalyptica\\',), (\\'Apocalyptica\\',), (\\'Apocalyptica\\',), (\\'Audioslave/Chris Cornell\\',), (\\'Audioslave/Chris Cornell\\',), (\\'Audioslave/Chris Cornell\\',), (\\'Audioslave/Chris Cornell\\',), (\\'Audioslave/Chris Cornell\\',), (\\'Audioslave/Chris Cornell\\',), (\\'Audioslave/Chris Cornell\\',), (\\'Audioslave/Chris Cornell\\',), (\\'Audioslave/Chris Cornell\\',), (\\'Audioslave/Chris Cornell\\',), (\\'Audioslave/Chris Cornell\\',), (\\'Audioslave/Chris Cornell\\',), (\\'Audioslave/Chris Cornell\\',), (\\'Audioslave/Chris Cornell\\',), (\\'Cornell, Commerford, Morello, Wilk\\',), (\\'Cornell, Commerford, Morello, Wilk\\',), (\\'Cornell, Commerford, Morello, Wilk\\',), (\\'Cornell, Commerford, Morello, Wilk\\',), (\\'Cornell, Commerford, Morello, Wilk\\',), (\\'Cornell, Commerford, Morello, Wilk\\',), (\\'Cornell, Commerford, Morello, Wilk\\',), (\\'Cornell, Commerford, Morello, Wilk\\',), (\\'Cornell, Commerford, Morello, Wilk\\',), (\\'Cornell, Commerford, Morello, Wilk\\',), (\\'Cornell, Commerford, Morello, Wilk\\',), (\\'Cornell, Commerford, Morello, Wilk\\',), (\\'Berry Gordy, Jr./Janie Bradford\\',), (\\'Enotris Johnson/Little Richard/Robert \"Bumps\" Blackwell\\',), (\\'Larry Williams\\',), (\\'Bert Russell/Phil Medley\\',), (\\'Brian Holland/Freddie Gorman/Georgia Dobbins/Robert Bateman/William Garrett\\',), (\\'Eddie Cochran/Jerry Capehart\\',), (\\'Chuck Berry\\',), (\\'Larry Williams\\',), (\\'Bo Diddley\\',), (\\'Chuck Berry\\',), (\\'Little Richard\\',), (\\'Ned Fairchild\\',), (\\'Billy Cobham\\',), (\\'Billy Cobham\\',), (\\'Billy Cobham\\',), (\\'Billy Cobham\\',), (\\'Billy Cobham\\',), (\\'Billy Cobham\\',), (\\'Billy Cobham\\',), (\\'George Duke\\',), (None,), (None,), (None,), (None,), (None,), (None,), (None,), (None,), (None,), (None,), (None,), (None,), (None,), (None,), (None,), (None,), (None,), (None,), (None,), (None,), (None,), (None,), (None,), (None,), (None,), (\\'Tony Iommi, Bill Ward, Geezer Butler, Ozzy Osbourne\\',), (\\'Tony Iommi, Bill Ward, Geezer Butler, Ozzy Osbourne\\',), (\\'Tony Iommi, Bill Ward, Geezer Butler, Ozzy Osbourne\\',), (\\'Tony Iommi, Bill Ward, Geezer Butler, Ozzy Osbourne\\',), (\\'Tony Iommi, Bill Ward, Geezer Butler, Ozzy Osbourne\\',), (\\'Tony Iommi, Bill Ward, Geezer Butler, Ozzy Osbourne\\',), (\\'Tony Iommi, Bill Ward, Geezer Butler, Ozzy Osbourne\\',), (\\'Tony Iommi, Bill Ward, Geezer Butler, Ozzy Osbourne\\',), (\\'Tony Iommi, Bill Ward, Geezer Butler, Ozzy Osbourne\\',), (\\'Tony Iommi, Bill Ward, Geezer Butler, Ozzy Osbourne\\',), (None,), (None,), (None,), (None,), (None,), (None,), (None,), (None,), (None,), (None,), (None,), (None,), (None,), (None,), (None,), (None,), (None,), (\\'Roy Z\\',), (\\'Roy Z\\',), (\\'Roy Z\\',), (\\'Adrian Smith\\',), (\\'Eddie Casillas/Roy Z\\',), (\\'Roy Z\\',), (\\'Roy Z\\',), (\\'Roy Z\\',), (\\'Adrian Smith\\',), (\\'Roy Z\\',), (\\'Roy Z\\',), (\\'Eurreal Montgomery\\',), (\\'Willie Dixon\\',), (\\'Buddy Guy\\',), (\\'Willie Dixon\\',), (\\'Al Perkins/Willie Dixon\\',), (\\'Buddy Guy\\',), (\\'Buddy Guy\\',), (\\'Sonny Boy Williamson [I]\\',), (\\'Robert Geddins/Ron Badger/Sheldon Feinberg\\',), (\\'Willie Dixon\\',), (\\'Amos Blakemore/Buddy Guy\\',), (\\'Jorge Ben\\',), (\\'Tradicional\\',), (\\'Tom Jobim - Newton Mendoça\\',), (\\'Caetano Veloso\\',), (\\'Caetano Veloso\\',), (\\'Caetano Veloso\\',), (\\'Gilberto Gil\\',), (\\'Gilberto Gil\\',), (\\'Caetano Veloso\\',), (\\'Chico Buarque\\',), (\\'Peninha\\',), (\\'Caetano Veloso\\',), (\\'Caetano Veloso - Waly Salomão\\',), (\\'Caetano Veloso - Djavan\\',), (\\'Caetano Veloso\\',), (\\'Caetano Veloso\\',), (\\'David Corrêa - Paulinho Carvalho - Carlos Sena - Bira do Ponto\\',), (\\'Fausto Nilo - Armandinho\\',), (None,), (None,), (None,), (None,), (None,), (None,), (None,), (None,), (None,), (None,), (None,), (None,), (None,), (None,), (None,), (None,), (None,), (None,), (None,), (None,), (None,), (None,), (None,), (\\'Chico Science\\',), (\\'Chico Science\\',), (\\'Chico Science\\',), (\\'Chico Science\\',), (\\'Chico Science\\',), (\\'Chico Science\\',), (\\'Chico Science\\',), (\\'Chico Science\\',), (\\'Chico Science\\',), (\\'Chico Science\\',), (\\'Chico Science\\',), (\\'Chico Science\\',), (\\'Chico Science\\',), (\\'Chico Science\\',), (\\'Chico Science\\',), (\\'Chico Science\\',), (\\'Chico Science\\',), (\\'Chico Science\\',), (\\'Chico Science\\',), (\\'Chico Science\\',), (\\'Chico Science\\',), (\\'Chico Science\\',), (\\'Chico Science\\',), (None,), (None,), (None,), (None,), (None,), (None,), (None,), (None,), (None,), (None,), (None,), (None,), (None,), (\\'Bino Farias/Da Gama/Lazão/Pedro Luis/Toni Garrido\\',), (\\'Da Gama/Toni Garrido\\',), (\\'Chuck Berry\\',), (\\'Herbert Vianna\\',), (\\'Bino Farias/Da Gama/Henry Lawes/Lazão/Toni Garrido/Winston Foser-Vers\\',), (\\'Gilberto Gil\\',), (\\'Bernardo Vilhena/Bino Farias/Da Gama/Lazão/Toni Garrido\\',), (\\'Bino Farias/Da Gama/Lazão/Toni Garrido\\',), (\\'Bino Farias/Da Gama/Lazão/Toni Garrido\\',), (\\'Da Gama/Toni Garrido\\',), (\\'Bino Farias/Da Gama/Lazão/Toni Garrido\\',), (\\'Marisa Monte/Nando Reis\\',), (\\'Bino Farias/Da Gamma/Lazão/Rás Bernard\\',), (\\'Da Gama/Lazão/Rás Bernardo\\',), (\\'Bino Farias/Da Gama/Lazão/Toni Garrido\\',), (\\'Bino Farias/Da Gama/Lazão/Rás Bernardo\\',), (\\'Bernardo Vilhena/Da Gama/Lazão\\',), (\\'Marisa Monte/Nando Reis\\',), (\\'Bernardo Vilhena/Bino/Da Gama/Lazao/Toni Garrido\\',), (\\'Da Gama/Toni Garrido\\',), (\\'Da Gama/Lazao/Toni Garrido\\',), (\\'Bino/Da Gama/Ras Bernardo\\',), (\\'Harry Lawes/Winston Foster-Vers\\',), (\\'Bino/Da Gama/Ras Bernardo\\',), (\\'Bino/Da Gamma/Lazao/Toni Garrido\\',), (\\'Bino/Da Gama/Toni Garrido\\',), (\\'Bino/Da Gama/Lazao/Ras Bernardo\\',), (\\'Cidade Negra\\',), (\\'Lulu Santos\\',), (\\'Bernardo Vilhena/Da Gama/Lazao\\',), (\\'Fausto Nilo/Moraes Moreira/Pepeu Gomes\\',), (None,), (None,), (None,), (None,), (None,), (None,), (None,), (None,), (None,), (None,), (\\'Cassiano Costa/Cintia Maviane/J.F./Lucas Costa\\',), (\\'Augusto Conceição/Chiclete Com Banana\\',), (\\'Cal Adan/Paulo Levi\\',), (\\'Paulo Levi/W. Rangel\\',), (\\'Jorge Cardoso/Pierre Onasis\\',), (\\'Fábio Nolasco/Gal Sales/Ivan Brasil\\',), (\\'Garay, Ricardo Engels/Luca Predabom/Ludwig, Carlos Henrique/Maurício Vieira\\',), (\\'Luiz Wanderley/Paulo Levi\\',), (\\'Do Vale, Valverde/Gal Oliveira/Luciano Pinto\\',), (\\'Cal Adan/Ferrugem/Julinho Carioca/Tríona Ní Dhomhnaill\\',), (\\'Lucina/Luli\\',), (\\'Cal Adan/Del Rey, Tension/Edu Casanova\\',), (\\'Jauperi/Zeu Góes\\',), (\\'Adriano Bernandes/Edmar Neves\\',), (\\'J B Lenoir/Willie Dixon\\',), (\\'Willie Dixon\\',), (\\'Jimmy Page/John Bonham/John Paul Jones\\',), (\\'Jimmy Page\\',), (\\'Jimmy Page/John Bonham/John Estes/John Paul Jones/Robert Plant\\',), (\\'Jimmy Page/Robert Plant\\',), (\\'Jimmy Page/John Bonham/John Paul Jones\\',), (\\'Jimmy Page/Robert Johnson/Robert Plant\\',), (\\'Jimmy Page/John Bonham/John Paul Jones/Robert Plant/Willie Dixon\\',), (\\'Bob Cochran/Sharon Sheeley\\',), (\\'Jimmy Page/John Bonham/John Paul Jones\\',), (\\'Willie Dixon\\',), (\\'J B Lenoir/Willie Dixon\\',), (\\'Chester Burnett/Jimmy Page/John Bonham/John Paul Jones/Robert Plant\\',), (\\'Frank Zappa\\',), (\\'Frank Zappa\\',), (\\'Don Van Vliet\\',), (\\'Frank Zappa\\',), (\\'Frank Zappa\\',), (\\'Frank Zappa\\',), (\\'Frank Zappa\\',), (\\'Don Van Vliet\\',), (\\'Frank Zappa\\',), (None,), (None,), (None,), (None,), (None,), (None,), (None,), (None,), (None,), (None,), (None,), (None,), (None,), (None,), (\\'Marcos Valle\\',), (\\'Jorge Ben\\',), (\\'J.r.Bertami/Parana\\',), (\\'Donato/Gilberto Gil\\',), (\\'Antonio Carlos Jobim\\',), (\\'Antonio Carlos Jobim/Vinicius de Moraes\\',), (\\'Baden Powell/Vinicius de Moraes\\',), (\\'Jorge Vercilo/Jota Maranhao\\',), (\\'Caetano Veloso\\',), (\\'Caetano Veloso\\',), (\\'Luiz Melodia/Ricardo Augusto\\',), (\\'Nando Reis\\',), (\\'Alexandre Brazil/Pedro Luis/Rodrigo Cabelo\\',), (\\'Macelo Yuka/O Rappa\\',), (\\'Bombom/Ed Motta\\',), (\\'Luiz Carlos/Oberdan\\',), (\\'Alba Carvalho/Fernando Porto\\',), (\\'Vários\\',), (\\'Vários\\',), (\\'Vários\\',), (\\'Vários\\',), (\\'Vários\\',), (\\'Vários\\',), (\\'Vários\\',), (\\'Vários\\',), (\\'Vários\\',), (\\'Vários\\',), (\\'Vários\\',), (\\'Vários\\',), (\\'Vários\\',), (\\'Vários\\',), (\\'Vários\\',), (\\'Vários\\',), (\\'Vários\\',), (\\'Molaney/Morris/Roberts/Wainwright\\',), (\\'Harris/Tatler\\',), (\\'Black Sabbath\\',), (\\'Seger\\',), (\\'Danzig\\',), (\\'Cave\\',), (\\'Diamond/Shermann\\',), (\\'A.Bouchard/J.Bouchard/S.Pearlman\\',), (\\'Traditional\\',), (\\'Collins/Van Zandt\\',), (\\'Molaney/Morris/Roberts/Wainwright\\',), (\\'Roger Taylor\\',), (\\'Queen & David Bowie\\',), (\\'Roger Taylor\\',), (\\'Queen\\',), (\\'John Deacon\\',), (\\'Queen\\',), (\\'Freddie Mercury\\',), (\\'Queen\\',), (\\'Brian May\\',), (\\'Queen\\',), (\\'Queen\\',), (\\'Queen\\',), (\\'Queen\\',), (\\'Brian May\\',), (\\'Freddie Mercury & John Deacon\\',), (\\'Queen\\',), (\\'Queen\\',), (\\'Paul Stanley, B. Ezrin\\',), (\\'Paul Stanley\\',), (\\'Paul Stanley\\',), (\\'Paul Stanley, Vincent Poncia\\',), (\\'Paul Stanley\\',), (\\'Gene Simmons\\',), (\\'Gene Simmons, S. Coronel\\',), (\\'Ace Frehley\\',), (\\'Paul Stanley, B. Ezrin, K. Fowley\\',), (\\'Gene Simmons, S. Coronel\\',), (\\'Paul Stanley, Vincent Poncia, Desmond Child\\',), (\\'Paul Stanley, Gene Simmons, B. Ezrin\\',), (\\'Paul Stanley\\',), (\\'Gene Simmons\\',), (\\'S. Penridge, Bob Ezrin, Peter Criss\\',), (\\'Paul Stanley, Gene Simmons\\',), (\\'Paul Stanley, Gene Simmons\\',), (\\'Ace Frehley\\',), (\\'Gene Simmons\\',), (\\'Paul Stanley, Gene Simmons, Rus Ballard, Bob Ezrin\\',), (None,), (None,), (None,), (None,), (None,), (None,), (None,), (None,), (None,), (None,), (None,), (None,), (\\'Billie Joe Armstrong -Words Green Day -Music\\',), (\\'Billie Joe Armstrong -Words Green Day -Music\\',), (\\'Billie Joe Armstrong -Words Green Day -Music\\',), (\\'Billie Joe Armstrong -Words Green Day -Music\\',), (\\'Billie Joe Armstrong -Words Green Day -Music\\',), (\\'Billie Joe Armstrong -Words Green Day -Music\\',), (\\'Billie Joe Armstrong -Words Green Day -Music\\',), (\\'Mike Dirnt -Words Green Day -Music\\',), (\\'Billie Joe Armstrong -Words Green Day -Music\\',), (\\'Billie Joe Armstrong -Words Green Day -Music\\',), (\\'Billie Joe Armstrong -Words Green Day -Music\\',), (\\'Billie Joe Armstrong -Words Green Day -Music\\',), (\\'Billie Joe Armstrong -Words Green Day -Music\\',), (\\'Billie Joe Armstrong -Words Green Day -Music\\',), (\\'Billie Joe Armstrong -Words Green Day -Music\\',), (\\'Billie Joe Armstrong -Words Green Day -Music\\',), (\\'Billie Joe Armstrong -Words Green Day -Music\\',), (\\'Billie Joe Armstrong -Words Green Day -Music\\',), (\\'Billie Joe Armstrong -Words Green Day -Music\\',), (\\'Billie Joe Armstrong -Words Green Day -Music\\',), (\\'Billie Joe Armstrong -Words Green Day -Music\\',), (\\'David Coverdale\\',), (\\'David Coverdale\\',), (\\'David Coverdale\\',), (\\'David Coverdale\\',), (\\'David Coverdale/Earl Slick\\',), (\\'David Coverdale/Earl Slick\\',), (\\'Bossi/David Coverdale/Earl Slick\\',), (\\'Bossi/David Coverdale/Earl Slick\\',), (\\'David Coverdale/Earl Slick\\',), (\\'Adrian Vanderberg/David Coverdale\\',), (\\'David Coverdale/Earl Slick\\',), (\\'David Coverdale\\',), (\\'Gonzaga Jr.\\',), (None,), (None,), (None,), (\\'Gonzaga Jr/Gonzaguinha\\',), (None,), (\\'Gonzaga Jr.\\',), (None,), (\\'Gonzaga Jr.\\',), (None,), (None,), (\\'Gonzaga Jr\\',), (None,), (\\'Gonzaguinha\\',), (None,), (None,), (None,), (None,), (None,), (None,), (None,), (None,), (None,), (None,), (None,), (None,), (None,), (None,), (\\'Arnaldo Baptista - Rita Lee\\',), (\\'Arnaldo Baptista - Rita Lee -  Sérgio Dias\\',), (\\'Os Mutantes - Arnolpho Lima Filho\\',), (\\'Caetano Veloso\\',), (\\'Mutantes\\',), (\\'Caetano Veloso - Gilberto Gil\\',), (\\'Orestes Barbosa-Sílvio Caldas\\',), (\\'Rita Lee - Arnaldo Baptista - Sérgio Baptista\\',), (\\'Gilberto Gil - Caetano Veloso\\',), (\\'Arnaldo Baptista - Rita Lee\\',), (\\'Arnaldo Baptista/Rita Lee/Sérgio Dias\\',), (\\'Arnaldo Baptista - Rita Lee - Arnolpho Lima Filho\\',), (\\'B. de Filippi - F. Migliaci - Versão: Fred Jorge\\',), (\\'Arnaldo Baptista - Rita Lee - Sérgio Dias\\',), (\\'Coverdale/Lord/Paice\\',), (\\'Coverdale\\',), (\\'Coverdale/Hughes/Lord/Paice\\',), (\\'Coverdale\\',), (\\'Coverdale\\',), (\\'Gillan/Glover/Lord/Paice\\',), (\\'Coverdale/Lord/Paice\\',), (\\'Jimmy Page/Robert Plant\\',), (\\'Jimmy Page/Robert Plant\\',), (\\'John Bonham/John Paul Jones\\',), (\\'Jimmy Page/Robert Plant\\',), (\\'John Paul Jones\\',), (\\'John Bonham\\',), (\\'Guga/Marquinho Lessa/Tuninho Professor\\',), (\\'Caruso/Cleber/Deo/Osmar\\',), (\\'Dadinho/Gilbreto Gomes/Gustavo/P.C. Portugal/R. Mocoto\\',), (\\'Domenil/J. Brito/Joaozinho/Rap, Marcelo Do\\',), (\\'Douglas/Neves, Vicente Das/Silva, Gilmar L./Toninho Gentil/Wantuir\\',), (\\'Augusto/Craig Negoescu/Rocco Filho/Saara, Ze Carlos Da\\',), (\"Bizuca/Clóvis Pê/Gilson Bernini/Marelo D\\'Aguia\",), (\\'Dito/Djalma Falcao/Ilha, Almir Da/Márcio André\\',), (\\'Carlos Santos/Ciro/Claudio Russo/Zé Luiz\\',), (\\'Flavio Bororo/Paulo Apparicio/Wagner Alves/Zeca Sereno\\',), (\\'Gule/Jorge 101/Lequinho/Luiz Piao\\',), (\\'Adalto Magalha/Lourenco\\',), (\\'Arlindo Cruz/Carlos Sena/Elmo Caetano/Mauricao\\',), (\\'Claudio Martins/David Lima/Kleber Rodrigues/Livre, Cesare Som\\',), (\\'Santana\\',), (\\'Carlos Santana & Dave Matthews\\',), (\\'E. Shrody\\',), (\\'I. Toure, S. Tidiane Toure, Carlos Santana & K. Perazzo\\',), (\\'M. Itaal Shur & Rob Thomas\\',), (\\'L. Hill\\',), (\\'W. Jean, J. Duplessis, Carlos Santana, K. Perazzo & R. Rekow\\',), (\\'R. Taha, Carlos Santana & T. Lindsay\\',), (\\'F. Olivera\\',), (\\'Eale-Eye Cherry, M. Simpson, J. King & M. Nishita\\',), (\\'Carlos Santana & KC Porter\\',), (\\'KC Porter & JB Eckl\\',), (\\'Carlos Santana & C. Thompson\\',), (None,), (None,), (None,), (None,), (None,), (None,), (None,), (None,), (None,), (None,), (None,), (None,), (None,), (None,), (\\'Miles Davis\\',), (\\'Miles Davis\\',), (\\'Miles Davis\\',), (\\'Miles Davis\\',), (\\'Miles Davis\\',), (\\'Miles Davis\\',), (\\'Miles Davis\\',), (\\'Miles Davis\\',), (\\'Miles Davis\\',), (\\'Miles Davis\\',), (\\'Miles Davis\\',), (\\'Miles Davis\\',), (\\'Miles Davis\\',), (\\'Miles Davis\\',), (\\'Miles Davis\\',), (\\'Miles Davis\\',), (\\'Miles Davis\\',), (\\'Miles Davis\\',), (\\'Miles Davis\\',), (\\'Miles Davis\\',), (\\'Miles Davis\\',), (\\'Miles Davis\\',), (\\'Miles Davis\\',), (\\'Blackmore/Gillan/Glover/Lord/Paice\\',), (\\'Gillan/Glover/Lord/Nix - Blackmore/Paice\\',), (\\'Blackmore/Coverdale\\',), (\\'Blackmore/Coverdale/Lord/Paice\\',), (None,), (None,), (None,), (None,), (None,), (None,), (None,), (None,), (None,), (None,), (None,), (None,), (None,), (None,), (None,), (None,), (None,), (None,), (None,), (None,), (None,), (None,), (None,), (None,), (None,), (None,), (None,), (None,), (None,), (None,), (None,), (None,), (None,), (None,), (None,), (None,), (None,), (None,), (None,), (None,), (None,), (None,), (None,), (None,), (None,), (None,), (None,), (None,), (None,), (None,), (None,), (\\'Hawkins-Lewis-Broadwater\\',), (\\'Jay Hawkins\\',), (\\'J. C. Fogerty\\',), (\\'J. C. Fogerty\\',), (\\'J. C. Fogerty\\',), (\\'J. C. Fogerty\\',), (\\'J. C. Fogerty\\',), (\\'J. C. Fogerty\\',), (\\'J. C. Fogerty\\',), (\\'J. C. Fogerty\\',), (\\'J. C. Fogerty\\',), (\\'J. C. Fogerty\\',), (\\'J. C. Fogerty\\',), (\\'J. C. Fogerty\\',), (\\'J. C. Fogerty\\',), (\\'Whitfield-Strong\\',), (\\'J. C. Fogerty\\',), (\\'J. C. Fogerty\\',), (\\'J. C. Fogerty\\',), (\\'J. C. Fogerty\\',), (\\'J.C. Fogerty\\',), (\\'J.C. Fogerty\\',), (\\'J.C. Fogerty\\',), (\\'J.C. Fogerty\\',), (\\'J.C. Fogerty\\',), (\\'J.C. Fogerty\\',), (\\'J.C. Fogerty\\',), (\\'J.C. Fogerty\\',), (\\'J.C. Fogerty\\',), (\\'J.C. Fogerty\\',), (\\'J.C. Fogerty\\',), (\\'J.C. Fogerty\\',), (\\'J.C. Fogerty\\',), (\\'J.C. Fogerty\\',), (\\'J.C. Fogerty\\',), (\\'J.C. Fogerty\\',), (\\'J.C. Fogerty\\',), (\\'J.C. Fogerty\\',), (\\'J.C. Fogerty\\',), (\\'J.C. Fogerty\\',), (None,), (None,), (None,), (None,), (None,), (None,), (None,), (None,), (None,), (None,), (None,), (None,), (None,), (None,), (None,), (None,), (None,), (None,), (None,), (None,), (None,), (None,), (None,), (None,), (None,), (None,), (None,), (None,), (None,), (None,), (\\'Bolin/Coverdale/Paice\\',), (\\'Cook/Coverdale\\',), (\\'Bolin/Hughes\\',), (\\'Bolin/Coverdale\\',), (\\'Bolin/Coverdale\\',), (\\'Bolin/Coverdale\\',), (\\'Bolin/Coverdale\\',), (\\'Bolin/Hughes/Lord\\',), (\\'Coverdale/Hughes\\',), (\\'Blackmore, Gillan, Glover, Lord, Paice\\',), (\\'Blackmore, Gillan, Glover, Lord, Paice\\',), (\\'Blackmore, Gillan, Glover, Lord, Paice\\',), (\\'Blackmore, Gillan, Glover, Lord, Paice\\',), (\\'Blackmore, Gillan, Glover, Lord, Paice\\',), (\\'Blackmore, Gillan, Glover, Lord, Paice\\',), (\\'Blackmore, Gillan, Glover, Lord, Paice\\',), (\\'Ritchie Blackmore, Ian Gillan, Roger Glover, Jon Lord, Ian Paice\\',), (\\'Ritchie Blackmore, Ian Gillan, Roger Glover, Jon Lord, Ian Paice\\',), (\\'Ritchie Blackmore, Ian Gillan, Roger Glover, Jon Lord, Ian Paice\\',), (\\'Ritchie Blackmore, Ian Gillan, Roger Glover, Jon Lord, Ian Paice\\',), (\\'Ritchie Blackmore, Ian Gillan, Roger Glover, Jon Lord, Ian Paice\\',), (\\'Ritchie Blackmore, Ian Gillan, Roger Glover, Jon Lord, Ian Paice\\',), (\\'Ritchie Blackmore, Ian Gillan, Roger Glover, Jon Lord, Ian Paice\\',), (\\'Richie Blackmore, Ian Gillian, Roger Glover\\',), (\\'Richie Blackmore, Ian Gillian, Roger Glover, Jon Lord\\',), (\\'Richie Blackmore, Ian Gillian, Roger Glover, Jon Lord, Ian Paice\\',), (\\'Richie Blackmore, Ian Gillian, Roger Glover, Jon Lord, Ian Paice\\',), (\\'Richie Blackmore, Ian Gillian, Roger Glover, Jon Lord, Ian Paice\\',), (\\'Richie Blackmore, Ian Gillian, Roger Glover\\',), (\\'Richie Blackmore, Ian Gillian, Roger Glover, Ian Paice\\',), (\\'Richie Blackmore, Ian Gillian, Roger Glover, Jon Lord\\',), (\\'South\\',), (\\'Richie Blackmore, Ian Gillian, Roger Glover, Jon Lord, Ian Paice\\',), (\\'Richie Blackmore, Ian Gillian, Roger Glover, Jon Lord, Ian Paice\\',), (\\'Ian Gillan/Ian Paice/Jon Lord/Ritchie Blckmore/Roger Glover\\',), (\\'Ian Gillan/Ian Paice/Jon Lord/Ritchie Blckmore/Roger Glover\\',), (\\'Ian Gillan/Ian Paice/Jon Lord/Ritchie Blckmore/Roger Glover\\',), (\\'Ian Gillan/Ian Paice/Jon Lord/Ritchie Blckmore/Roger Glover\\',), (\\'Ian Gillan/Ian Paice/Jon Lord/Ritchie Blckmore/Roger Glover\\',), (\\'Ian Gillan/Ian Paice/Jon Lord/Ritchie Blckmore/Roger Glover\\',), (\\'Ian Gillan/Ian Paice/Jon Lord/Ritchie Blckmore/Roger Glover\\',), (\\'Ian Gillan, Roger Glover, Jon Lord, Steve Morse, Ian Paice\\',), (\\'Ian Gillan, Roger Glover, Jon Lord, Steve Morse, Ian Paice\\',), (\\'Ian Gillan, Roger Glover, Jon Lord, Steve Morse, Ian Paice\\',), (\\'Ian Gillan, Roger Glover, Jon Lord, Steve Morse, Ian Paice\\',), (\\'Ian Gillan, Roger Glover, Jon Lord, Steve Morse, Ian Paice\\',), (\\'Ian Gillan, Roger Glover, Jon Lord, Steve Morse, Ian Paice\\',), (\\'Ian Gillan, Roger Glover, Jon Lord, Steve Morse, Ian Paice\\',), (\\'Ian Gillan, Roger Glover, Jon Lord, Steve Morse, Ian Paice\\',), (\\'Ian Gillan, Roger Glover, Jon Lord, Steve Morse, Ian Paice\\',), (\\'Ian Gillan, Roger Glover, Jon Lord, Steve Morse, Ian Paice\\',), (\\'Ian Gillan, Roger Glover, Jon Lord, Steve Morse, Ian Paice\\',), (\\'Ian Gillan, Roger Glover, Jon Lord, Steve Morse, Ian Paice\\',), (\\'Blackmore, Glover, Turner\\',), (\\'Blackmore, Glover, Turner, Lord, Paice\\',), (\\'Blackmore, Glover, Turner, Lord, Paice\\',), (\\'Blackmore, Glover, Turner\\',), (\\'Blackmore, Glover, Turner\\',), (\\'Blackmore, Glover, Turner\\',), (\\'Blackmore, Glover, Turner, Lord, Paice\\',), (\\'Turner, Held, Greenwood\\',), (\\'Blackmore, Glover, Turner, Lord, Paice\\',), (\\'D.Coverdale/R.Blackmore/Ritchie Blackmore\\',), (\\'D.Coverdale/G.Hughes/Glenn Hughes/I.Paice/Ian Paice/J.Lord/John Lord/R.Blackmore/Ritchie Blackmore\\',), (\\'D.Coverdale/G.Hughes/Glenn Hughes/J.Lord/John Lord\\',), (\\'D.Coverdal/G.Hughes/Glenn Hughes/I.Paice/Ian Paice/J.Lord/John Lord\\',), (\\'D.Coverdale/R.Blackmore/Ritchie Blackmore\\',), (\\'D.Coverdale/G.Hughes/Glenn Hughes/R.Blackmore/Ritchie Blackmore\\',), (\\'D.Coverdale/G.Hughes/Glenn Hughes/I.Paice/Ian Paice/J.Lord/John Lord/R.Blackmore/Ritchie Blackmore\\',), (\\'D.Coverdale/G.Hughes/Glenn Hughes/I.Paice/Ian Paice/J.Lord/John Lord/R.Blackmore/Ritchie Blackmore\\',), (\\'D.Coverdale/R.Blackmore/Ritchie Blackmore\\',), (\\'ian paice/jon lord\\',), (\\'roger glover\\',), (\\'jon lord/roger glover\\',), (\\'roger glover\\',), (\\'roger glover\\',), (\\'roger glover\\',), (\\'roger glover\\',), (\\'jon lord/roger glover\\',), (\\'roger glover\\',), (\\'roger glover\\',), (None,), (None,), (None,), (None,), (None,), (None,), (None,), (None,), (None,), (None,), (None,), (None,), (None,), (None,), (None,), (None,), (\\'Jim Beard\\',), (\\'John Scofield, Robert Aries, Milton Chambers and Gary Grainger\\',), (\\'Jim Beard\\',), (\\'Jon Herington\\',), (\\'Sylvester Stewart\\',), (\\'Dean Brown, Dennis Chambers & Jim Beard\\',), (\\'Jim Beard & Jon Herington\\',), (\\'John Scofield\\',), (\\'James Brown & Bobby Byrd\\',), (None,), (None,), (None,), (None,), (None,), (None,), (None,), (None,), (None,), (None,), (None,), (None,), (None,), (\\'Djavan\\',), (\\'Djavan\\',), (\\'Djavan\\',), (\\'Djavan\\',), (\\'Djavan\\',), (\\'Djavan\\',), (\\'Djavan\\',), (\\'Djavan\\',), (\\'Djavan\\',), (\\'Djavan - Gabriel, O Pensador\\',), (\\'Djavan\\',), (\\'Djavan\\',), (\\'Djavan\\',), (None,), (None,), (None,), (None,), (None,), (None,), (None,), (None,), (None,), (None,), (None,), (None,), (None,), (None,), (\\'Clapton/Gordon\\',), (\\'Clapton/Harrison\\',), (\\'Bruce/Clapton\\',), (\\'Bruce/Clapton\\',), (\\'Clapton/Robert Johnson Arr: Eric Clapton\\',), (\\'Clapton/Collins/Pappalardi\\',), (\\'Bruce/Clapton\\',), (\\'Clapton\\',), (\\'Cale/Clapton\\',), (\\'Marley\\',), (\\'Clapton/J. J. Cale\\',), (\\'Clapton/Trad. Arr. Clapton\\',), (\\'Clapton/Levy\\',), (\\'Clapton/Dylan\\',), (\\'Clapton\\',), (\\'Clapton\\',), (\\'Clapton/F.eldman/Linn\\',), (\\'Clapton\\',), (\\'Eric Clapton\\',), (\\'Eugene McDaniel\\',), (\\'Big Bill Broonzy\\',), (\\'Eric Clapton, Will Jennings\\',), (\\'Eric Clapton\\',), (\\'Jimmy Cox\\',), (\\'Eric Clapton, Jim Gordon\\',), (\\'Jerry Lynn Williams\\',), (\\'Robert Johnson\\',), (\\'Traditional\\',), (\\'Jesse Fuller\\',), (\\'Robert Johnson\\',), (\\'Eric Clapton, Robert Cray\\',), (\\'McKinley Morgenfield (Muddy Waters)\\',), (\\'Jon Hudson/Mike Patton\\',), (\\'Jon Hudson/Mike Bordin/Mike Patton\\',), (\\'Bill Gould/Mike Patton\\',), (\\'Mike Patton\\',), (\\'Bill Gould/Mike Bordin/Mike Patton\\',), (\\'Bill Gould/Jon Hudson/Mike Bordin/Mike Patton\\',), (\\'Bill Gould/Jon Hudson/Mike Bordin/Mike Patton/Roddy Bottum\\',), (\\'Bill Gould/Mike Bordin/Mike Patton\\',), (\\'Mike Patton\\',), (\\'Bill Gould/Jon Hudson/Mike Bordin/Mike Patton/Roddy Bottum\\',), (\\'Mike Patton\\',), (\\'Bill Gould/Mike Patton\\',), (None,), (None,), (None,), (None,), (None,), (None,), (None,), (None,), (None,), (None,), (None,), (None,), (None,), (None,), (\\'Mike Bordin, Billy Gould, Mike Patton\\',), (\\'Mike Bordin, Billy Gould, Mike Patton\\',), (\\'Mike Bordin, Billy Gould, Mike Patton, Trey Spruance\\',), (\\'Mike Bordin, Billy Gould, Mike Patton\\',), (\\'Mike Bordin, Billy Gould, Mike Patton\\',), (\\'Mike Bordin, Billy Gould, Mike Patton, Trey Spruance\\',), (\\'Mike Bordin, Billy Gould, Mike Patton, Trey Spruance\\',), (\\'Mike Bordin, Billy Gould, Mike Patton\\',), (\\'Mike Bordin, Billy Gould, Mike Patton\\',), (\\'Mike Bordin, Billy Gould, Mike Patton, Trey Spruance\\',), (\\'Mike Bordin, Billy Gould, Mike Patton, Trey Spruance\\',), (\\'Mike Bordin, Billy Gould, Mike Patton\\',), (\\'Mike Bordin, Billy Gould, Mike Patton\\',), (\\'Mike Bordin, Billy Gould, Mike Patton\\',), (\\'Mike Bordin, Billy Gould, Mike Patton\\',), (\\'Faith No More\\',), (\\'Faith No More\\',), (\\'Faith No More\\',), (\\'Faith No More\\',), (\\'Faith No More\\',), (\\'Faith No More\\',), (\\'Faith No More\\',), (\\'Faith No More\\',), (\\'Faith No More\\',), (\\'Tony Iommi, Bill Ward, Geezer Butler, Ozzy Osbourne\\',), (\\'Faith No More\\',), (None,), (None,), (None,), (None,), (None,), (None,), (None,), (None,), (None,), (None,), (None,), (None,), (None,), (None,), (\\'Dave Grohl, Taylor Hawkins, Nate Mendel, Chris Shiflett\\',), (\\'Dave Grohl, Taylor Hawkins, Nate Mendel, Chris Shiflett\\',), (\\'Dave Grohl, Taylor Hawkins, Nate Mendel, Chris Shiflett\\',), (\\'Dave Grohl, Taylor Hawkins, Nate Mendel, Chris Shiflett\\',), (\\'Dave Grohl, Taylor Hawkins, Nate Mendel, Chris Shiflett\\',), (\\'Dave Grohl, Taylor Hawkins, Nate Mendel, Chris Shiflett\\',), (\\'Dave Grohl, Taylor Hawkins, Nate Mendel, Chris Shiflett\\',), (\\'Dave Grohl, Taylor Hawkins, Nate Mendel, Chris Shiflett\\',), (\\'Dave Grohl, Taylor Hawkins, Nate Mendel, Chris Shiflett\\',), (\\'Dave Grohl, Taylor Hawkins, Nate Mendel, Chris Shiflett\\',), (\\'Dave Grohl, Taylor Hawkins, Nate Mendel, Chris Shiflett/FOO FIGHTERS\\',), (\\'Dave Grohl, Taylor Hawkins, Nate Mendel, Chris Shiflett/FOO FIGHTERS\\',), (\\'Dave Grohl, Taylor Hawkins, Nate Mendel, Chris Shiflett/FOO FIGHTERS\\',), (\\'Dave Grohl, Taylor Hawkins, Nate Mendel, Chris Shiflett/FOO FIGHTERS\\',), (\\'Dave Grohl, Taylor Hawkins, Nate Mendel, Chris Shiflett/FOO FIGHTERS\\',), (\\'Dave Grohl, Taylor Hawkins, Nate Mendel, Chris Shiflett/FOO FIGHTERS\\',), (\\'Dave Grohl, Taylor Hawkins, Nate Mendel, Chris Shiflett/FOO FIGHTERS\\',), (\\'Dave Grohl, Taylor Hawkins, Nate Mendel, Chris Shiflett/FOO FIGHTERS\\',), (\\'Dave Grohl, Taylor Hawkins, Nate Mendel, Chris Shiflett/FOO FIGHTERS\\',), (\\'Dave Grohl, Taylor Hawkins, Nate Mendel, Chris Shiflett/FOO FIGHTERS\\',), (\\'Foo Fighters\\',), (\\'Foo Fighters\\',), (\\'Foo Fighters\\',), (\\'Foo Fighters\\',), (\\'Foo Fighters\\',), (\\'Foo Fighters\\',), (\\'Foo Fighters\\',), (\\'Foo Fighters\\',), (\\'Foo Fighters\\',), (\\'Foo Fighters\\',), (\\'Foo Fighters\\',), (\\'Dave, Taylor, Nate, Chris\\',), (\\'Dave, Taylor, Nate, Chris\\',), (\\'Dave, Taylor, Nate, Chris\\',), (\\'Dave, Taylor, Nate, Chris\\',), (\\'Dave, Taylor, Nate, Chris\\',), (\\'Dave, Taylor, Nate, Chris\\',), (\\'Dave, Taylor, Nate, Chris\\',), (\\'Dave, Taylor, Nate, Chris\\',), (\\'Dave Grohl\\',), (\\'Dave, Taylor, Nate, Chris\\',), (\\'Dave Grohl\\',), (\\'Dave Grohl\\',), (\\'Dave, Taylor, Nate, Chris\\',), (\\'claude françois/gilles thibault/jacques revaux/paul anka\\',), (\\'berthold kaempfert/charles singleton/eddie snyder\\',), (\\'fred ebb/john kander\\',), (\\'cole porter\\',), (\\'carson c. parks\\',), (\\'henry mancini/johnny mercer\\',), (\\'carl sigman/gilbert becaud/pierre leroyer\\',), (\\'hans bradtke/heinz meier/johnny mercer\\',), (\\'orlando murden/ronald miller\\',), (\\'jimmy van heusen/sammy cahn\\',), (\\'george gershwin/ira gershwin\\',), (\\'jimmy van heusen/sammy cahn\\',), (\\'bart howard\\',), (\\'cole porter\\',), (\\'carolyn leigh/cy coleman\\',), (\\'ervin drake\\',), (\\'jimmy van heusen/sammy cahn\\',), (\\'dean kay thompson/kelly gordon\\',), (\\'antonio carlos jobim/norman gimbel/vinicius de moraes\\',), (\\'lorenz hart/richard rodgers\\',), (\\'jim croce\\',), (\\'bert brecht/kurt weill/marc blitzstein\\',), (\\'rod mckuen\\',), (\\'alan bergman/marilyn bergman/peggy lipton jones/quincy jones\\',), (None,), (None,), (None,), (None,), (None,), (None,), (None,), (None,), (\\'Emerson Villani\\',), (None,), (None,), (None,), (None,), (None,), (None,), (None,), (None,), (None,), (\\'Manuca/Raimundinho DoAcordion/Targino Godim\\',), (\\'Humberto Teixeira/Luiz Gonzaga\\',), (\\'Corumbá/José Gumarães/Venancio\\',), (\\'Humberto Teixeira/Luiz Gonzaga\\',), (\\'Humberto Teixeira/Luiz Gonzaga\\',), (\\'Humberto Teixeira/Luiz Gonzaga\\',), (\\'Guio De Morais E Seus \"Parentes\"/Luiz Gonzaga\\',), (\\'Luiz Gonzaga/Zé Dantas\\',), (\\'Gilberto Gil\\',), (\\'Gilberto Gil\\',), (\\'Dominguinhos/Gilberto Gil\\',), (\\'Gilberto Gil\\',), (None,), (None,), (None,), (None,), (None,), (None,), (None,), (None,), (None,), (None,), (None,), (None,), (None,), (None,), (None,), (None,), (None,), (None,), (\\'Gilberto Gil\\',), (\\'Gilberto Gil\\',), (\\'Gilberto Gil\\',), (\\'Gilberto Gil\\',), (\\'Gilberto Gil\\',), (\\'Gilberto Gil\\',), (\\'Gilberto Gil\\',), (\\'Gilberto Gil\\',), (\\'Gilberto Gil\\',), (\\'Gilberto Gil\\',), (\\'Gilberto Gil\\',), (\\'Gilberto Gil\\',), (\\'Gilberto Gil\\',), (\\'Gilberto Gil\\',), (\\'Gilberto Gil\\',), (\\'Gilberto Gil\\',), (\\'Sully Erna\\',), (\\'Sully Erna\\',), (\\'Sully Erna; Tony Rombola\\',), (\\'Sully Erna\\',), (\\'Sully Erna\\',), (\\'Sully Erna\\',), (\\'Sully Erna\\',), (\\'Sully Erna\\',), (\\'Sully Erna\\',), (\\'Sully Erna\\',), (\\'Sully Erna\\',), (\\'Sully Erna; Tony Rombola\\',), (\\'Billie Joe Armstrong, Mike Dirnt, Tré Cool\\',), (\\'Billie Joe Armstrong/Green Day\\',), (\\'Billie Joe Armstrong, Mike Dirnt, Tré Cool\\',), (\\'Mike Dint, Billie Joe, Tré Cool\\',), (\\'Green Day\\',), (\\'Green Day\\',), (\\'Green Day\\',), (\\'Green Day\\',), (\\'Green Day\\',), (\\'Green Day\\',), (\\'Mike Dint, Billie Joe, Tré Cool\\',), (\\'Mike Dirnt/Tré Cool\\',), (\\'Green Day\\',), (None,), (None,), (None,), (None,), (None,), (None,), (None,), (None,), (None,), (None,), (None,), (None,), (None,), (None,), (None,), (None,), (None,), (None,), (None,), (None,), (None,), (None,), (None,), (None,), (None,), (None,), (None,), (None,), (\\'Duff McKagan/Slash/W. Axl Rose\\',), (\"Izzy Stradlin\\'/W. Axl Rose\",), (\\'Billy/Del James/W. Axl Rose/West Arkeen\\',), (\\'Bob Dylan\\',), (\\'Duff McKagan/Slash/W. Axl Rose\\',), (\\'W. Axl Rose\\',), (\\'W. Axl Rose\\',), (\"Izzy Stradlin\\'\",), (\\'Slash/W. Axl Rose\\',), (\\'Duff McKagan\\',), (\\'W. Axl Rose\\',), (\"Izzy Stradlin\\'/W. Axl Rose\",), (\"Izzy Stradlin\\'/W. Axl Rose\",), (\\'W. Axl Rose\\',), (\\'Richard Bull\\',), (\\'R. Carless\\',), (\\'Patrick Claher/Richard Bull\\',), (\\'Richard Bull\\',), (\\'Kevin Robinson/Richard Bull\\',), (\\'Kevin Robinson\\',), (\\'Jean Paul Maunick\\',), (\\'Graham Harvey\\',), (\\'Maxton Gig Beesley Jnr.\\',), (\\'Fayyaz Virgi/Richard Bull\\',), (\\'Julian Crampton\\',), (\\'G Harvey/R Hope-Taylor\\',), (\\'Jean Paul Maunick\\',), (None,), (None,), (None,), (None,), (None,), (None,), (None,), (None,), (None,), (None,), (None,), (\\'Steve Harris\\',), (\\'Steve Harris\\',), (\\'Steve Harris\\',), (\\'Steve Harris\\',), (\"Paul Di\\'Anno/Steve Harris\",), (\\'Steve Harris\\',), (\"David Murray/Paul Di\\'Anno/Steve Harris\",), (\"Paul Di\\'Anno/Steve Harris\",), (\\'Steve Harris\\',), (\\'Adrian Smith/Bruce Dickinson\\',), (\\'Steve Harris\\',), (\\'Steve Harris\\',), (\\'Bruce Dickinson/Janick Gers\\',), (\\'Steve Harris\\',), (\\'Adrian Smith/Bruce Dickinson/Steve Harris\\',), (\\'Bruce Dickinson/Janick Gers\\',), (\\'Bruce Dickinson/Steve Harris\\',), (\\'Adrian Smith/Bruce Dickinson/Steve Harris\\',), (\\'Steve Harris\\',), (\\'Bruce Dickinson\\',), (\\'Steve Harris\\',), (\\'Steve Harris\\',), (\\'Steve Harris\\',), (\\'Adrian Smith/Bruce Dickinson/Steve Harris\\',), (\\'Bruce Dickinson/Janick Gers/Steve Harris\\',), (\\'Bruce Dickinson/David Murray/Steve Harris\\',), (\\'Steve Harris\\',), (\\'Janick Gers/Steve Harris\\',), (\\'Janick Gers/Steve Harris\\',), (\\'Adrian Smith/Steve Harris\\',), (\\'David Murray/Steve Harris\\',), (\\'Bruce Dickinson/Janick Gers/Steve Harris\\',), (\\'David Murray/Steve Harris\\',), (\\'Adrian Smith/Steve Harris\\',), (\\'Bruce Dickinson/David Murray/Steve Harris\\',), (\\'Steve Harris\\',), (\\'Bruce Dickinson/Janick Gers/Steve Harris\\',), (\\'Janick Gers/Steve Harris\\',), (\\'Bruce Dickinson/Janick Gers/Steve Harris\\',), (\\'Adrian Smith/Bruce Dickinson/Nicko McBrain\\',), (\\'Adrian Smith/Steve Harris\\',), (\\'Adrian Smith/Bruce Dickinson/Steve Harris\\',), (\\'David Murray/Steve Harris\\',), (\\'Bruce Dickinson/David Murray/Steve Harris\\',), (\\'Bruce Dickinson/Janick Gers\\',), (\\'Steve Harris\\',), (\\'Steve Harris\\',), (\\'Bruce Dickinson/Janick Gers\\',), (\\'Steve Harris\\',), (\\'Bruce Dickinson/Janick Gers\\',), (\\'Steve Harris\\',), (\\'Bruce Dickinson/David Murray\\',), (\\'Janick Gers/Steve Harris\\',), (\\'Bruce Dickinson/David Murray\\',), (\\'Janick Gers/Steve Harris\\',), (\\'Steve Harris\\',), (\\'Steve Harris\\',), (\"David Murray/Paul Di\\'Anno/Steve Harris\",), (\\'Harris/Paul Di´Anno\\',), (\\'Harris/Paul Di´Anno\\',), (\\'Steve Harris\\',), (\\'Steve Harris\\',), (\\'Steve Harris\\',), (\\'Murray  Dave\\',), (\\'Steve Harris\\',), (\\'Steve Harris\\',), (\\'Steve Harris\\',), (\\'Steve Harris\\',), (\\'Steve Harris\\',), (\\'Steve Harris\\',), (\\'Di´Anno/Harris\\',), (\\'Steve Harris\\',), (\\'Steve Harris\\',), (\\'Steve Harris\\',), (\\'Steve Harris\\',), (None,), (None,), (\\'Smith/Dickinson\\',), (\\'Harris\\',), (\\'Dickinson\\',), (\\'Smith/Dickinson\\',), (None,), (None,), (\\'Harris\\',), (\\'Harris\\',), (\\'Harris\\',), (\\'Harris\\',), (\\'Harris/Di Anno\\',), (\\'Steve Harris\\',), (None,), (\\'Steve Harris\\',), (\\'Adrian Smith/Bruce Dickinson/Steve Harris\\',), (\\'Steve Harris\\',), (None,), (None,), (None,), (None,), (None,), (None,), (None,), (None,), (None,), (None,), (None,), (None,), (None,), (None,), (\\'Adrian Smith/Bruce Dickinson\\',), (None,), (None,), (None,), (None,), (None,), (\\'Bruce Dickinson/Steve Harris\\',), (\\'Bruce Dickinson/Steve Harris\\',), (\\'Steve Harris\\',), (\\'Bruce Dickinson/David Murray\\',), (\\'David Murray/Steve Harris\\',), (\\'Steve Harris\\',), (\\'Bruce Dickinson/Steve Harris\\',), (\\'Adrian Smith/Bruce Dickinson\\',), (\\'Bruce Dickinson\\',), (\\'Steve Harris\\',), (\\'Steve Harris\\',), (\\'Bruce Dickinson\\',), (\\'Adrian Smith/Bruce Dickinson\\',), (\\'Adrian Smith/Bruce Dickinson/Steve Harris\\',), (\\'Steve Harris\\',), (\\'David Murray/Steve Harris\\',), (\\'Steve Harris\\',), (\\'Adrian Smith/Bruce Dickinson\\',), (\\'Steve Harris\\',), (\\'Harris\\',), (\\'Smith/Dickinson\\',), (\\'Steve Harris\\',), (\\'Dickinson\\',), (\\'Steve Harris\\',), (\\'Dickinson/Smith\\',), (\\'Dickinson\\',), (\\'Harris\\',), (None,), (\\'Adrian Smith/Bruce Dickinson/Steve Harris\\',), (\\'Bruce Dickinson/Janick Gers/Steve Harris\\',), (\\'Bruce Dickinson/David Murray/Steve Harris\\',), (\\'Steve Harris\\',), (\\'Adrian Smith/Bruce Dickinson\\',), (\\'Steve Harris\\',), (\\'Steve Harris\\',), (\\'Janick Gers/Steve Harris\\',), (\\'Steve Harris\\',), (\\'Janick Gers/Steve Harris\\',), (\\'Steve Harris\\',), (\\'Adrian Smith/Bruce Dickinson/Steve Harris\\',), (\\'Steve Harris\\',), (\\'Steve Harris\\',), (\\'Steve Harris\\',), (\\'Steve Harris\\',), (\"David Murray/Paul Di\\'Anno/Steve Harris\",), (\\'Steve Harris\\',), (\\'Adrian Smith; Bruce Dickinson\\',), (\\'Steve Harris\\',), (\\'Adrian Smith; Bruce Dickinson; Steve Harris\\',), (\\'Adrian Smith; Bruce Dickinson; Steve Harris\\',), (\\'Steve Harris\\',), (\\'Dave Murray; Steve Harris\\',), (\\'Adrian Smith; Bruce Dickinson; Steve Harris\\',), (\\'Bruce Dickinson; Harris\\',), (\\'Steve Harris\\',), (\\'Adrian Smith\\',), (\\'Adrian Smith\\',), (\\'Steve Harris\\',), (\\'Adrian Smith\\',), (\\'Steve Harris\\',), (\\'David Murray/Steve Harris\\',), (\\'Steve Harris\\',), (\\'Adrian Smith/Steve Harris\\',), (\\'Steve Harris\\',), (\\'Adrian Smith/Clive Burr/Steve Harris\\',), (\\'Steve Harris\\',), (\\'Steve Harris\\',), (\\'Steve Harris\\',), (\\'Steve Harris\\',), (\\'Adrian Smith/Steve Harris\\',), (\\'Steve Harris\\',), (\\'Janick Gers/Steve Harris\\',), (\\'Blaze Bayley/Janick Gers\\',), (\\'Steve Harris\\',), (\\'Blaze Bayley/Janick Gers/Steve Harris\\',), (\\'Blaze Bayley/Janick Gers/Steve Harris\\',), (\\'Steve Harris\\',), (\\'Steve Harris\\',), (\\'Blaze Bayley/Janick Gers/Steve Harris\\',), (\\'Blaze Bayley/Janick Gers/Steve Harris\\',), (\\'Janick Gers/Steve Harris\\',), (\\'Blaze Bayley/Steve Harris\\',), (\\'Steve Harris\\',), (\\'David Murray/Steve Harris\\',), (\\'Steve Harris\\',), (\\'Blaze Bayley/David Murray/Steve Harris\\',), (\\'Steve Harris\\',), (\\'Steve Harris\\',), (\\'Blaze Bayley/Janick Gers\\',), (\\'James Brown/Johnny Terry\\',), (\\'Lowman Pauling\\',), (\\'Jimmy Forrest/Lewis C. Simpkins/Oscar Washington\\',), (\\'Ted Wright\\',), (\\'James Brown\\',), (\\'James Brown\\',), (\\'Betty Newsome/James Brown\\',), (\\'Alfred Ellis/James Brown\\',), (\\'Alfred Ellis/James Brown\\',), (\\'Bobby Byrd/James Brown/Ron Lenhoff\\',), (\\'Addie William Jones/Nat Jones\\',), (\\'Charles Bobbitt/James Brown\\',), (\\'Charles Bobbitt/James Brown\\',), (\\'Fred Wesley/James Brown/Joseph Mims\\',), (\\'Deanna Brown/Deidra Jenkins/Yamma Brown\\',), (\\'Brad Shapiro/George Jackson/Robert Miller/Walter Shaw\\',), (\\'Charlie Midnight/Dan Hartman\\',), (\\'Full Force/James Brown\\',), (\\'Fred Wesley/James Brown\\',), (\\'James Brown\\',), (\\'Jay Kay/Kay, Jay\\',), (\\'Smith, Toby\\',), (\\'Smith, Toby\\',), (\\'Gelder, Nick van\\',), (\\'Smith, Toby\\',), (\\'Smith, Toby\\',), (\\'Jay Kay/Kay, Jay\\',), (\\'Smith, Toby\\',), (\\'Smith, Toby\\',), (\\'Buchanan, Wallis\\',), (\\'Jay Kay\\',), (\\'Jay Kay/Toby Smith\\',), (\\'Jay Kay\\',), (\\'Jay Kay/Toby Smith\\',), (\\'Jay Kay/Toby Smith\\',), (\\'Derrick McKenzie/Jay Kay/Toby Smith\\',), (\\'Jay Kay\\',), (\\'Jay Kay/Toby Smith\\',), (\\'Jay Kay\\',), (\\'Jay Kay/Toby Smith\\',), (\\'Toby Smith\\',), (\\'Toby Smith\\',), (\\'Toby Smith\\',), (\\'Toby Smith\\',), (\\'Toby Smith\\',), (\\'Toby Smith\\',), (\\'Toby Smith\\',), (\\'Stuard Zender/Toby Smith\\',), (\\'Stuart Zender\\',), (\\'Toby Smith/Wallis Buchanan\\',), (\\'J. Kay/Jay Kay\\',), (\\'J. Kay/Jay Kay\\',), (\\'C. Cester/C. Muncey\\',), (\\'C. Muncey/N. Cester\\',), (\\'C. Cester/N. Cester\\',), (\\'N. Cester\\',), (\\'C. Cester/C. Muncey/N. Cester\\',), (\\'C. Cester/N. Cester\\',), (\\'C. Cester/C. Muncey/N. Cester\\',), (\\'C. Cester/N. Cester\\',), (\\'C. Cester/C. Muncey/N. Cester\\',), (\\'C. Muncey/N. Cester\\',), (\\'C. Muncey/N. Cester\\',), (\\'C. Cester/N. Cester\\',), (\\'C. Cester\\',), (\\'Jimi Hendrix\\',), (\\'Jimi Hendrix\\',), (\\'Jimi Hendrix\\',), (\\'Jimi Hendrix\\',), (\\'Jimi Hendrix\\',), (\\'Jimi Hendrix\\',), (\\'Jimi Hendrix\\',), (\\'Jimi Hendrix\\',), (\\'Jimi Hendrix\\',), (\\'Jimi Hendrix\\',), (\\'Jimi Hendrix\\',), (\\'Billy Roberts\\',), (\\'Jimi Hendrix\\',), (\\'Jimi Hendrix\\',), (\\'Jimi Hendrix\\',), (\\'Jimi Hendrix\\',), (\\'Jimi Hendrix\\',), (None,), (None,), (None,), (None,), (None,), (\\'J. Satriani\\',), (None,), (\\'J. Satriani\\',), (\\'J. Satriani\\',), (\\'J. Satriani\\',), (None,), (None,), (None,), (None,), (None,), (None,), (None,), (None,), (None,), (None,), (None,), (None,), (None,), (None,), (None,), (\\'Hyldon\\',), (None,), (None,), (None,), (None,), (\\'Marco Tulio Lara/Rogerio Flausino\\',), (None,), (None,), (None,), (None,), (None,), (\\'João Suplicy\\',), (\\'João Suplicy\\',), (\\'João Suplicy\\',), (\\'João Suplicy\\',), (\\'João Suplicy\\',), (\\'João Suplicy\\',), (\\'João Suplicy\\',), (\\'João Suplicy\\',), (\\'João Suplicy\\',), (\\'João Suplicy\\',), (\\'João Suplicy\\',), (\\'João Suplicy\\',), (\\'João Suplicy\\',), (\\'João Suplicy\\',), (None,), (None,), (None,), (None,), (None,), (None,), (None,), (None,), (None,), (None,), (None,), (None,), (None,), (None,), (None,), (None,), (\\'Paul Stanley, Ace Frehley\\',), (\\'Gene Simmons\\',), (\\'Gene Simmons, Stephen Coronel\\',), (\\'Paul Stanley, Bob Ezrin, Kim Fowley\\',), (\\'Gene Simmons\\',), (\\'Paul Stanley, Vincent Poncia\\',), (\\'Paul Stanley, Gene Simmons, Bob Ezrin, Lewis Reed\\',), (\\'Paul Stanley, Ace Frehley\\',), (\\'Gene Simmons\\',), (\\'Paul Stanley\\',), (\\'Paul Stanley, Vincent Cusano\\',), (\\'Mick Jagger, Keith Richard\\',), (\\'Peter Criss, Stan Penridge, Bob Ezrin\\',), (\\'Gene Simmons\\',), (\\'Paul Stanley, Gene Simmons\\',), (\\'Robert Plant\\',), (\\'John Bonham/John Paul Jones/Robert Plant\\',), (\\'John Paul Jones/Robert Plant\\',), (\\'John Paul Jones/Robert Plant\\',), (\\'Jimmy Page/Led Zeppelin\\',), (\\'Robert Plant\\',), (\\'Robert Plant\\',), (\\'Robert Plant\\',), (\\'Arthur Crudup/Bernard Besman/Bukka White/Doc Pomus/John Bonham/John Lee Hooker/John Paul Jones/Mort Shuman/Robert Plant/Willie Dixon\\',), (\\'Robert Plant\\',), (\\'Ben E.King/James Bethea\\',), (\\'Jimmy Page/Robert Plant\\',), (\\'Willie Dixon\\',), (\\'Jimmy Page, Robert Plant\\',), (\\'Jimmy Page, Robert Plant\\',), (\\'Jimmy Page, Robert Plant, John Bonham, John Paul Jones\\',), (\\'John Bonham\\',), (\\'Jimmy Page, Robert Plant\\',), (\\'Jimmy Page/Jimmy Page & Robert Plant/Robert Plant\\',), (\\'Jimmy Page/Jimmy Page & Robert Plant/Robert Plant\\',), (\\'Jimmy Page/Jimmy Page & Robert Plant/Robert Plant\\',), (\\'John Bonham/John Paul Jones\\',), (\\'Jimmy Page/Jimmy Page & Robert Plant/Robert Plant\\',), (\\'John Bonham/John Paul Jones\\',), (\\'John Paul Jones\\',), (\\'John Bonham/John Paul Jones\\',), (\\'Jimmy Page, Robert Plant & John Paul Jones\\',), (\\'John Paul Jones & Robert Plant\\',), (\\'Jimmy Page, Robert Plant & John Paul Jones\\',), (\\'Jimmy Page & Robert Plant\\',), (\\'John Paul Jones, Jimmy Page & Robert Plant\\',), (\\'Robert Plant & John Paul Jones\\',), (\\'Jimmy Page, Robert Plant & John Paul Jones\\',), (\\'Jimmy Page, Robert Plant, John Paul Jones\\',), (\\'Jimmy Page, Robert Plant, John Paul Jones, John Bonham\\',), (\\'Jimmy Page, Robert Plant\\',), (\\'Jimmy Page, Robert Plant\\',), (\\'Jimmy Page, Robert Plant, John Paul Jones\\',), (\\'Jimmy Page, Robert Plant\\',), (\\'Jimmy Page, Robert Plant\\',), (\\'Jimmy Page, Robert Plant, John Paul Jones, John Bonham, Memphis Minnie\\',), (\\'Jimmy Page/John Bonham/John Paul Jones\\',), (\\'Jimmy Page/Robert Plant\\',), (\\'J. B. Lenoir/Willie Dixon\\',), (\\'Jimmy Page\\',), (\\'Jimmy Page/John Paul Jones\\',), (\\'Jimmy Page\\',), (\\'Jimmy Page/John Bonham/John Paul Jones\\',), (\\'Willie Dixon\\',), (\\'Jimmy Page/John Bonham/John Paul Jones\\',), (\\'Jimmy Page, Robert Plant, John Paul Jones, John Bonham\\',), (\\'Jimmy Page, Robert Plant\\',), (\\'Jimmy Page, Robert Plant, John Paul Jones, John Bonham\\',), (\\'Jimmy Page, Robert Plant\\',), (\\'Jimmy Page, Robert Plant, John Paul Jones, John Bonham\\',), (\\'Jimmy Page, Robert Plant\\',), (\\'Jimmy Page, Robert Plant\\',), (\\'John Bonham, John Paul Jones, Jimmy Page\\',), (\\'Jimmy Page, Robert Plant\\',), (\\'Jimmy Page, Robert Plant\\',), (\\'Jimmy Page, Robert Plant\\',), (\\'Jimmy Page, Robert Plant, John Paul Jones\\',), (\\'Jimmy Page, Robert Plant, John Paul Jones\\',), (\\'Jimmy Page, Robert Plant, John Bonham\\',), (\\'Traditional\\',), (\\'Jimmy Page\\',), (\\'Jimmy Page, Robert Plant\\',), (\\'Jimmy Page, Robert Plant, John Paul Jones\\',), (\\'Traditional\\',), (\\'John Paul Jones/Robert Plant\\',), (\\'Jimmy Page\\',), (\\'Robert Plant\\',), (\\'Robert Plant\\',), (\\'John Paul Jones/Robert Plant\\',), (\\'Robert Plant\\',), (\\'Ian Stewart/John Bonham/John Paul Jones/Mrs. Valens/Robert Plant\\',), (\\'Robert Plant\\',), (\\'Robert Plant\\',), (\\'Jimmy Page/Robert Plant\\',), (\\'Jimmy Page/Robert Plant\\',), (\\'John Bonham/John Paul Jones\\',), (\\'Jimmy Page/Robert Plant\\',), (\\'Jimmy Page/Robert Plant\\',), (\\'Jimmy Page/Robert Plant\\',), (\\'Jimmy Page/Robert Plant\\',), (\\'John Bonham/John Paul Jones/Robert Plant\\',), (\\'John Paul Jones/Robert Plant\\',), (\\'Robert Plant\\',), (\\'Robert Plant\\',), (\\'Jimmy Page\\',), (\\'John Paul Jones/Robert Plant\\',), (\\'Robert Plant\\',), (\\'John Bonham/John Paul Jones\\',), (\\'John Bonham/John Paul Jones/Robert Plant/Willie Dixon\\',), (\\'Renato Russo\\',), (\\'Renato Russo\\',), (\\'Renato Russo\\',), (\\'Renato Russo - Marcelo Bonfá\\',), (\\'Renato Russo\\',), (\\'Renato Russo\\',), (\\'Renato Russo\\',), (\\'Renato Russo - Marisa Monte\\',), (\\'Renato Russo\\',), (\\'Renato Russo\\',), (\\'Renato Russo\\',), (\\'Renato Russo\\',), (\\'Renato Russo\\',), (\\'Renato Russo\\',), (\\'Renato Russo\\',), (\\'Dado Villa-Lobos/Marcelo Bonfá\\',), (\\'Dado Villa-Lobos/Ico Ouro-Preto/Marcelo Bonfá\\',), (\\'Renato Russo\\',), (\\'Renato Russo\\',), (\\'Renato Russo\\',), (\\'Renato Russo\\',), (\\'Renato Russo\\',), (\\'Renato Russo\\',), (\\'Dado Villa-Lobos/Marcelo Bonfá\\',), (\\'Dado Villa-Lobos/Marcelo Bonfá\\',), (\\'Dado Villa-Lobos/Marcelo Bonfá\\',), (\\'Dado Villa-Lobos/Marcelo Bonfá\\',), (\\'Dado Villa-Lobos/Marcelo Bonfá\\',), (\\'Dado Villa-Lobos/Marcelo Bonfá\\',), (\\'Dado Villa-Lobos/Marcelo Bonfá\\',), (\\'Dado Villa-Lobos\\',), (\\'Craig Ross/Lenny Kravitz\\',), (\\'Lenny Kravitz\\',), (\\'Lenny Kravitz\\',), (\\'Lenny Kravitz\\',), (\\'Lenny Kravitz\\',), (\\'Lenny Kravitz\\',), (\\'Lenny Kravitz\\',), (\\'B. Cummings/G. Peterson/M.J. Kale/R. Bachman\\',), (\\'Henry Kirssch/Lenny Kravitz/S. Pasch A. Krizan\\',), (\\'Lenny Kravitz/Slash\\',), (\\'Gerry DeVeaux/Terry Britten\\',), (\\'Lenny Kravitz\\',), (\\'Henry Hirsch/Lenny Kravitz\\',), (\\'Lenny Kravitz\\',), (\\'Lenny Kravitz\\',), (None,), (None,), (None,), (None,), (None,), (None,), (None,), (None,), (None,), (None,), (None,), (None,), (None,), (None,), (None,), (None,), (None,), (None,), (None,), (None,), (None,), (None,), (None,), (None,), (None,), (None,), (None,), (None,), (\\'Kelly, Mosley, Rothery, Trewaves\\',), (\\'Kelly, Mosley, Rothery, Trewaves\\',), (\\'Kelly, Mosley, Rothery, Trewaves\\',), (\\'Kelly, Mosley, Rothery, Trewaves\\',), (\\'Kelly, Mosley, Rothery, Trewaves\\',), (\\'Kelly, Mosley, Rothery, Trewaves\\',), (\\'Kelly, Mosley, Rothery, Trewaves\\',), (\\'Kelly, Mosley, Rothery, Trewaves\\',), (\\'Kelly, Mosley, Rothery, Trewaves\\',), (\\'Kelly, Mosley, Rothery, Trewaves\\',), (\\'Carlinhos Brown\\',), (\\'Carlinhos Brown\\',), (\\'Morais\\',), (\\'Gilberto Gil\\',), (\\'Lulu Santos\\',), (\\'Carlinhos Brown\\',), (\\'Marisa Monte/poema de Octavio Paz/versão: Haroldo de Campos\\',), (\\'Caetano Veloso e Gilberto Gil\\',), (\\'Caetano Veloso e Gilberto Gil\\',), (\\'Caetano Veloso e Gilberto Gil\\',), (\\'Caetano Veloso e Gilberto Gil\\',), (\\'Caetano Veloso e Gilberto Gil\\',), (\\'Caetano Veloso e Gilberto Gil\\',), (\\'Caetano Veloso e Gilberto Gil\\',), (\\'Caetano Veloso e Gilberto Gil\\',), (\\'Caetano Veloso e Gilberto Gil\\',), (\\'Caetano Veloso e Gilberto Gil\\',), (\\'Caetano Veloso e Gilberto Gil\\',), (None,), (None,), (\\'William \"Mickey\" Stevenson\\',), (\\'Brian Holland/Eddie Holland/Lamont Dozier\\',), (\\'Robert Rogers/Warren \"Pete\" Moore/William \"Mickey\" Stevenson\\',), (\\'Allen Story/George Gordy/Robert Gordy\\',), (\\'Ivy Hunter/Stevie Wonder\\',), (\\'Smokey Robinson/Warren \"Pete\" Moore\\',), (\\'Ivy Hunter/William \"Mickey\" Stevenson\\',), (\\'Barrett Strong/Norman Whitfield\\',), (\\'Barrett Strong/Norman Whitfield\\',), (\\'Barrett Strong/Norman Whitfield/Roger Penzabene\\',), (\\'Dick Holler\\',), (\\'Al Cleveland/Marvin Gaye/Renaldo Benson\\',), (\\'Marvin Gaye\\',), (\\'Marvin Gaye\\',), (\\'Marvin Gaye\\',), (\\'Marvin Gaye\\',), (None,), (None,), (None,), (None,), (None,), (None,), (None,), (None,), (None,), (None,), (\\'James Hetfield, Lars Ulrich and Kirk Hammett\\',), (\\'Ulrich\\',), (\\'Ulrich\\',), (\\'James Hetfield, Lars Ulrich and Kirk Hammett\\',), (\\'Ulrich\\',), (\\'Ulrich\\',), (\\'James Hetfield, Lars Ulrich and Kirk Hammett\\',), (\\'Ulrich\\',), (\\'James Hetfield, Lars Ulrich and Kirk Hammett\\',), (\\'Ulrich\\',), (\\'James Hetfield, Lars Ulrich and Jason Newsted\\',), (\\'Ulrich\\',), (\\'Harris/Tatler\\',), (\\'Holocaust\\',), (\\'Killing Joke\\',), (\\'Bourge/Phillips/Shelley\\',), (\\'Danzig\\',), (\\'Harris/Tatler\\',), (\\'Jones/Sirotto/Smith\\',), (\\'Bourge/Phillips/Shelley\\',), (\\'Harris/Tatler\\',), (\\'Deacon/May/Mercury/Taylor\\',), (\\'Culmer/Exalt\\',), (\\'Sweet Savage\\',), (\\'Clarke/Kilmister/Tayler\\',), (\\'Clarke/Farren/Kilmister/Tayler\\',), (\\'Clarke/Kilmister/Tayler\\',), (\\'Clarke/Kilmister/Tayler\\',), (\\'James Hetfield, Lars Ulrich\\',), (\\'James Hetfield, Lars Ulrich, Dave Mustaine\\',), (\\'James Hetfield\\',), (\\'James Hetfield, Lars Ulrich, Dave Mustaine\\',), (\\'Cliff Burton\\',), (\\'James Hetfield, Lars Ulrich\\',), (\\'James Hetfield, Lars Ulrich, Dave Mustaine\\',), (\\'James Hetfield, Lars Ulrich\\',), (\\'James Hetfield, Lars Ulrich\\',), (\\'James Hetfield, Lars Ulrich, Dave Mustaine\\',), (\\'James Hetfield, Lars Ulrich\\',), (\\'James Hetfield, Lars Ulrich, Kirk Hammett\\',), (\\'James Hetfield, Lars Ulrich, Kirk Hammett\\',), (\\'James Hetfield, Lars Ulrich\\',), (\\'James Hetfield, Lars Ulrich, Kirk Hammett\\',), (\\'James Hetfield, Lars Ulrich, Kirk Hammett\\',), (\\'James Hetfield, Lars Ulrich, Kirk Hammett\\',), (\\'James Hetfield, Lars Ulrich\\',), (\\'James Hetfield, Lars Ulrich\\',), (\\'James Hetfield, Lars Ulrich, Kirk Hammett\\',), (\\'James Hetfield, Lars Ulrich\\',), (\\'James Hetfield, Lars Ulrich, Kirk Hammett\\',), (\\'James Hetfield, Lars Ulrich\\',), (\\'James Hetfield, Lars Ulrich\\',), (\\'J.Hetfield/L.Ulrich\\',), (\\'K.Hammett\\',), (\\'K.Hammett\\',), (\\'K.Hammett\\',), (\\'J.Hetfield/L.Ulrich\\',), (\\'C.Burton\\',), (\\'K.Hammett\\',), (\\'K.Hammett\\',), (\\'Hetfield, Ulrich, Hammett\\',), (\\'Hetfield, Ulrich\\',), (\\'Hetfield, Ulrich\\',), (\\'Hetfield, Ulrich, Hammett\\',), (\\'Hetfield, Ulrich\\',), (\\'Hetfield, Ulrich, Hammett\\',), (\\'Hetfield, Ulrich, Hammett\\',), (\\'Hetfield, Ulrich, Hammett\\',), (\\'Hetfield, Ulrich, Newsted\\',), (\\'Hetfield, Ulrich\\',), (\\'Hetfield, Ulrich\\',), (\\'Hetfield, Ulrich\\',), (\\'Hetfield, Ulrich, Hammett\\',), (\\'Metallica\\',), (\\'Metallica\\',), (\\'Metallica\\',), (\\'Metallica\\',), (\\'Metallica\\',), (\\'Metallica\\',), (\\'Metallica\\',), (\\'Metallica\\',), (\\'Bob Rock/James Hetfield/Kirk Hammett/Lars Ulrich\\',), (\\'Bob Rock/James Hetfield/Kirk Hammett/Lars Ulrich\\',), (\\'Bob Rock/James Hetfield/Kirk Hammett/Lars Ulrich\\',), (\\'Bob Rock/James Hetfield/Kirk Hammett/Lars Ulrich\\',), (\\'Bob Rock/James Hetfield/Kirk Hammett/Lars Ulrich\\',), (\\'Bob Rock/James Hetfield/Kirk Hammett/Lars Ulrich\\',), (\\'Bob Rock/James Hetfield/Kirk Hammett/Lars Ulrich\\',), (\\'Bob Rock/James Hetfield/Kirk Hammett/Lars Ulrich\\',), (\\'Bob Rock/James Hetfield/Kirk Hammett/Lars Ulrich\\',), (\\'Bob Rock/James Hetfield/Kirk Hammett/Lars Ulrich\\',), (\\'Bob Rock/James Hetfield/Kirk Hammett/Lars Ulrich\\',), (\\'James Hetfield, Lars Ulrich & Jason Newsted\\',), (\\'James Hetfield, Lars Ulrich & Kirk Hammett\\',), (\\'James Hetfield, Lars Ulrich & Kirk Hammett\\',), (\\'James Hetfield & Lars Ulrich\\',), (\\'James Hetfield and Lars Ulrich\\',), (\\'James Hetfield and Lars Ulrich\\',), (\\'James Hetfield, Lars Ulrich and Kirk Hammett\\',), (\\'James Hetfield, Lars Ulrich and Cliff Burton\\',), (\\'James Hetfield, Lars Ulrich and Kirk Hammett\\',), (\\'J. Carisi\\',), (\\'L. Delibes\\',), (\\'Dave Brubeck\\',), (\\'Ira Gershwin, Kurt Weill\\',), (\\'Miles Davis, Gil Evans\\',), (\\'Gil Evans\\',), (\\'A. Jamal\\',), (\\'R. Troup, L. Worth\\',), (\\'J.J. Johnson\\',), (\\'H. Spina, J. Elliott\\',), (\\'J. Carisi\\',), (\\'Gil Evans\\',), (\\'J.J. Johnson/R. Troup, L. Worth\\',), (\\'H. Spina, J. Elliott\\',), (\\'Wagner Tiso, Milton Nascimento\\',), (\\'Dolores Duran\\',), (\\'Lô Borges, Fernando Brant\\',), (\\'Folclore\\',), (\\'Milton Nascimento, Fernando Brant\\',), (\\'Milton Nascimento, Fernando Brant\\',), (\\'Milton Nascimento, Fernando Brant\\',), (\\'Milton Nascimento, Fernando Brant\\',), (\\'Beto Guedes, Ronaldo Bastos\\',), (\\'Milton Nascimento, Ronaldo Bastos\\',), (\\'Milton Nascimento, Fernando Brant\\',), (\\'Lô Borges, Márcio Borges, Fernando Brant\\',), (\\'Milton Nascimento, Fernando Brant\\',), (\\'Milton Nascimento, Caetano Veloso\\',), (\\'Milton Nascimento, Ronaldo Bastos\\',), (\\'Toninho Horta\\',), (\\'Milton Nascimento, Fernando Brant\\',), (\\'Milton Nascimento, Márcio Borges\\',), (\\'Milton Nascimento, Fernando Brant\\',), (\\'Milton Nascimento, Ronaldo Bastos\\',), (\\'Milton Nascimento, Fernando Brant\\',), (\\'Milton Nascimento\\',), (\\'Milton Nascimento, Caetano Veloso\\',), (\\'Nelson Angelo\\',), (\\'John Lennon, Paul McCartney\\',), (\\'Beto Guedes, Márcio Borges\\',), (\\'Clarke/Kilmister/Taylor\\',), (\\'Clarke/Kilmister/Taylor\\',), (\\'Clarke/Kilmister/Taylor\\',), (\\'Clarke/Kilmister/Taylor\\',), (\\'Clarke/Kilmister/Taylor\\',), (\\'Clarke/Kilmister/Taylor\\',), (\\'Clarke/Kilmister/Taylor\\',), (\\'Clarke/Kilmister/Taylor\\',), (\\'Clarke/Kilmister/Taylor\\',), (\\'Clarke/Kilmister/Taylor\\',), (\\'Clarke/Kilmister/Taylor\\',), (\\'Clarke/Kilmister/Taylor\\',), (\\'Clarke/Kilmister/Taylor\\',), (\\'Heath/Robinson\\',), (\\'Dufort/Johnson/McAuliffe/Williams\\',), (\\'Mônica Marianno\\',), (\\'Mônica Marianno\\',), (\\'Mônica Marianno\\',), (\\'Mônica Marianno\\',), (\\'Mônica Marianno\\',), (\\'Mônica Marianno\\',), (\\'Mônica Marianno\\',), (\\'Mônica Marianno\\',), (\\'Mônica Marianno\\',), (\\'Mônica Marianno\\',), (\\'Mônica Marianno\\',), (\\'Mônica Marianno\\',), (\\'Mick Mars/Nikki Sixx/Tommy Lee/Vince Neil\\',), (\\'Mick Mars/Nikki Sixx/Tommy Lee\\',), (\\'Mick Mars/Nikki Sixx/Tommy Lee\\',), (\\'Nikki Sixx\\',), (\\'Nikki Sixx/Tommy Lee/Vince Neil\\',), (\\'Bryan Adams/Nikki Sixx/Scott Humphrey\\',), (\\'Mick Mars/Nikki Sixx\\',), (\\'Mick Mars/Nikki Sixx/Tommy Lee/Vince Neil\\',), (\\'Nikki Sixx/Tommy Lee/Vince Neil\\',), (\\'Nikki Sixx\\',), (\\'Mick Mars/Nikki Sixx\\',), (\\'Mick Mars/Nikki Sixx\\',), (\\'Cub Coda/Michael Lutz\\',), (\\'Mick Mars/Nikki Sixx/Tommy Lee/Vince Neil\\',), (\\'Nikki Sixx\\',), (\\'Nikki Sixx\\',), (\\'Nikki Sixx\\',), (\\'Kurt Cobain\\',), (\\'Kurt Cobain\\',), (\\'Kurt Cobain\\',), (\\'Nirvana\\',), (\\'Nirvana\\',), (\\'Kurt Cobain\\',), (\\'Kurt Cobain\\',), (\\'Kurt Cobain\\',), (\\'Kurt Cobain\\',), (\\'Nirvana\\',), (\\'Kurt Cobain\\',), (\\'Kurt Cobain\\',), (\\'Kurt Cobain\\',), (\\'Kurt Cobain\\',), (\\'Kurt Cobain\\',), (\\'Kurt Cobain\\',), (\\'Kurt Cobain\\',), (\\'Kurt Cobain\\',), (\\'Kurt Cobain\\',), (\\'Kurt Cobain\\',), (\\'Kurt Cobain\\',), (\\'Kurt Cobain\\',), (\\'Kurt Cobain\\',), (\\'Kurt Cobain\\',), (\\'Kurt Cobain\\',), (\\'Kurt Cobain\\',), (\\'Kurt Cobain\\',), (\\'Kurt Cobain\\',), (\\'Kurt Cobain\\',), (None,), (None,), (None,), (None,), (None,), (None,), (None,), (None,), (None,), (None,), (None,), (None,), (None,), (None,), (None,), (None,), (None,), (None,), (None,), (None,), (None,), (None,), (None,), (None,), (None,), (None,), (None,), (None,), (None,), (\\'Bi Ribeira/Herbert Vianna/João Barone\\',), (\\'Herbert Vianna\\',), (\\'Chico Science/Dengue/Lúcio Maia\\',), (\\'Herbert Vianna\\',), (\\'Herbert Vianna\\',), (\\'Herbert Vianna\\',), (\\'James Brown/Tim Maia\\',), (\\'Herbert Vianna\\',), (\\'C. A./C.A./Celso Alvim/Herbert Vianna/Mário Moura/Pedro Luís/Sidon Silva\\',), (\\'Herbert Vianna\\',), (\\'Bi Ribeiro/Herbert Vianna/João Barone\\',), (\\'Herbert Vianna\\',), (\\'Herbert Vianna/Tet Tillett\\',), (\\'Renato Russo\\',), (\\'Herbert Vianna\\',), (\\'Beto Guedes/Fernando Brant/L Borges\\',), (\\'Bahiano/Chuck Rio/Diego Blanco/Herbert Vianna\\',), (\\'Herbert Vianna\\',), (\\'Chris Frantz/David Byrne/Jerry Harrison/Tina Weymouth\\',), (\\'Herbert Vianna\\',), (\\'Herbert Vianna\\',), (\\'Fito Paez/Herbert Vianna\\',), (\\'Herbert Vianna/Tetê Tillet\\',), (\\'Herbert Vianna\\',), (\\'Bahiano/Diego Blanco/Herbert Vianna\\',), (\\'Herbert Vianna\\',), (\\'Herbert Vianna\\',), (\\'Carlinhos Brown/Herbert Vianna\\',), (\\'Herbert Vianna\\',), (\\'Herbert Vianna\\',), (\\'Herbert Vianna\\',), (\\'Herbert Vianna\\',), (\\'Herbert Vianna/Paulo Sérgio Valle\\',), (None,), (None,), (None,), (None,), (None,), (None,), (None,), (None,), (None,), (None,), (None,), (None,), (None,), (None,), (None,), (None,), (\\'O. Osbourne\\',), (\\'B. Daisley, O. Osbourne & R. Rhoads\\',), (\\'B. Daisley, O. Osbourne & R. Rhoads\\',), (\\'L. Kerslake, O. Osbourne, R. Daisley & R. Rhoads\\',), (\\'L. Kilmister, O. Osbourne & Z. Wylde\\',), (\\'J. Purdell, M. Inez, O. Osbourne, R. Castillo & Z. Wylde\\',), (\\'O. Osbourne, R. Daisley, R. Rhoads\\',), (\\'O. Osbourne, R. Daisley, R. Rhoads\\',), (\\'O. Osbourne, R. Daisley, R. Rhoads\\',), (\\'O. Osbourne, R. Daisley, R. Rhoads\\',), (\\'O. Osbourne, R. Daisley, R. Rhoads, L. Kerslake\\',), (\\'O. Osbourne, R. Daisley, R. Rhoads\\',), (\\'O. Osbourne, R. Daisley, R. Rhoads\\',), (\\'O. Osbourne, R. Daisley, R. Rhoads\\',), (\\'A. F. Iommi, W. Ward, T. Butler, J. Osbourne\\',), (\\'A. F. Iommi, W. Ward, T. Butler, J. Osbourne\\',), (\\'A. F. Iommi, W. Ward, T. Butler, J. Osbourne\\',), (\\'O. Osbourne, R. Daisley, R. Rhoads\\',), (\\'O. Osbourne, R. Daisley, R. Rhoads\\',), (\\'R. Rhoads\\',), (\\'Jimmy Page, Robert Plant, Charlie Jones, Michael Lee\\',), (\\'Jimmy Page, Robert Plant, Charlie Jones, Michael Lee\\',), (\\'Jimmy Page, Robert Plant, Charlie Jones, Michael Lee\\',), (\\'Jimmy Page, Robert Plant, Charlie Jones, Michael Lee\\',), (\\'Jimmy Page, Robert Plant, Charlie Jones, Michael Lee\\',), (\\'Jimmy Page, Robert Plant, Charlie Jones, Michael Lee\\',), (\\'Jimmy Page, Robert Plant, Charlie Jones, Michael Lee\\',), (\\'Jimmy Page, Robert Plant, Charlie Jones, Michael Lee\\',), (\\'Jimmy Page, Robert Plant, Charlie Jones, Michael Lee\\',), (\\'Jimmy Page, Robert Plant, Charlie Jones, Michael Lee\\',), (\\'Jimmy Page, Robert Plant, Charlie Jones, Michael Lee\\',), (\\'Jimmy Page, Robert Plant, Charlie Jones, Michael Lee\\',), (\\'Brian Eno, Bono, Adam Clayton, The Edge & Larry Mullen Jnr.\\',), (\\'Brian Eno, Bono, Adam Clayton, The Edge & Larry Mullen Jnr.\\',), (\\'Brian Eno, Bono, Adam Clayton, The Edge & Larry Mullen Jnr.\\',), (\\'Brian Eno, Bono, Adam Clayton, The Edge & Larry Mullen Jnr.\\',), (\\'Brian Eno, Bono, Adam Clayton, The Edge & Larry Mullen Jnr.\\',), (\\'Brian Eno, Bono, Adam Clayton, The Edge & Larry Mullen Jnr.\\',), (\\'Brian Eno, Bono, Adam Clayton, The Edge & Larry Mullen Jnr.\\',), (\\'Brian Eno, Bono, Adam Clayton, The Edge & Larry Mullen Jnr.\\',), (\\'Brian Eno, Bono, Adam Clayton, The Edge & Larry Mullen Jnr.\\',), (\\'Brian Eno, Bono, Adam Clayton, The Edge & Larry Mullen Jnr.\\',), (\\'Brian Eno, Bono, Adam Clayton, The Edge & Larry Mullen Jnr.\\',), (\\'Brian Eno, Bono, Adam Clayton, The Edge & Larry Mullen Jnr.\\',), (\\'Brian Eno, Bono, Adam Clayton, The Edge & Larry Mullen Jnr.\\',), (\\'Brian Eno, Bono, Adam Clayton, The Edge & Larry Mullen Jnr.\\',), (\\'Steve Harris\\',), (\"Paul Di\\'Anno/Steve Harris\",), (\\'Steve Harris\\',), (\\'Steve Harris\\',), (\\'Greg Macainsh\\',), (\"Paul Di\\'Anno/Steve Harris\",), (\"David Murray/Paul Di\\'Anno/Steve Harris\",), (\"Paul Di\\'Anno/Steve Harris\",), (\\'Steve Harris\\',), (\\'Steve Harris\\',), (\\'Pearl Jam & Eddie Vedder\\',), (\\'Eddie Vedder & Mike McCready\\',), (\\'Stone Gossard & Eddie Vedder & Jeff Ament & Mike McCready\\',), (\\'Dave Abbruzzese & Jeff Ament & Stone Gossard & Mike McCready & Eddie Vedder\\',), (\\'Dave Abbruzzese & Jeff Ament & Stone Gossard & Mike McCready & Eddie Vedder\\',), (\\'Pearl Jam\\',), (\\'Eddie Vedder\\',), (\\'Dave Abbruzzese & Jeff Ament & Stone Gossard & Mike McCready & Eddie Vedder\\',), (\\'Jeff Ament & Stone Gossard & Jack Irons & Mike McCready & Eddie Vedder\\',), (\\'Stone Gossard & Eddie Vedder\\',), (\\'Eddie Vedder\\',), (\\'Jeff Ament & Eddie Vedder\\',), (\\'Eddie Vedder & Stone Gossard\\',), (\\'Eddie Vedder\\',), (\\'Stone Gossard & Eddie Vedder\\',), (\\'Neil Young\\',), (\\'Stone Gossard\\',), (\\'Eddie Vedder\\',), (\\'Mike McCready & Stone Gossard\\',), (\\'Eddie Vedder\\',), (\\'Mike McCready\\',), (\\'Stone Gossard\\',), (\\'Matt Cameron & Mike McCready\\',), (\\'Jeff Ament\\',), (\\'Eddie Vedder\\',), (\\'Stone Gossard\\',), (\\'Jeff Ament\\',), (\\'Eddie Vedder & Mike McCready\\',), (\\'Eddie Vedder & Mike McCready\\',), (\\'Eddie Vedder\\',), (\\'Eddie Vedder/Jeff Ament/Matt Cameron/Mike McCready/Stone Gossard\\',), (\\'Eddie Vedder\\',), (\\'Matt Cameron\\',), (\\'Jeff Ament\\',), (\\'Eddie Vedder\\',), (\\'Eddie Vedder\\',), (\\'Matt Cameron\\',), (\\'Matt Cameron\\',), (\\'Eddie Vedder\\',), (\\'Jeff Ament\\',), (\\'Stone Gossard\\',), (\\'Jeff Ament\\',), (\\'Pearl Jam\\',), (\\'Stone Gossard\\',), (\\'Stone Gossard\\',), (\\'Stone Gossard\\',), (\\'Stone Gossard\\',), (\\'Jeff Ament\\',), (\\'Dave Krusen/Stone Gossard\\',), (\\'Jeff Ament\\',), (\\'Jeff Ament/Stone Gossard\\',), (\\'Eddie Vedder\\',), (\\'Jeff Ament/Stone Gossard\\',), (\\'Jeff Ament/Stone Gossard\\',), (\\'Jeff Ament/Mike McCready/Stone Gossard\\',), (\\'Dave Abbruzzese/Eddie Vedder/Jeff Ament/Mike McCready/Stone Gossard\\',), (\\'Dave Abbruzzese/Eddie Vedder/Jeff Ament/Mike McCready/Stone Gossard\\',), (\\'Dave Abbruzzese/Eddie Vedder/Jeff Ament/Mike McCready/Stone Gossard\\',), (\\'Dave Abbruzzese/Eddie Vedder/Jeff Ament/Mike McCready/Stone Gossard\\',), (\\'Dave Abbruzzese/Eddie Vedder/Jeff Ament/Mike McCready/Stone Gossard\\',), (\\'Dave Abbruzzese/Eddie Vedder/Jeff Ament/Mike McCready/Stone Gossard\\',), (\\'Dave Abbruzzese/Eddie Vedder/Jeff Ament/Mike McCready/Stone Gossard\\',), (\\'Dave Abbruzzese/Eddie Vedder/Jeff Ament/Mike McCready/Stone Gossard\\',), (\\'Dave Abbruzzese/Eddie Vedder/Jeff Ament/Mike McCready/Stone Gossard\\',), (\\'Dave Abbruzzese/Eddie Vedder/Jeff Ament/Mike McCready/Stone Gossard\\',), (\\'Dave Abbruzzese/Eddie Vedder/Jeff Ament/Mike McCready/Stone Gossard\\',), (\\'Dave Abbruzzese/Eddie Vedder/Jeff Ament/Mike McCready/Stone Gossard\\',), (None,), (None,), (None,), (None,), (None,), (None,), (None,), (None,), (None,), (None,), (None,), (None,), (None,), (\\'Mason/Waters, Gilmour, Wright\\',), (\\'Gilmour, Waters\\',), (\\'Mason, Waters, Wright, Gilmour\\',), (\\'Wright, Waters\\',), (\\'Waters\\',), (\\'Waters, Wright\\',), (\\'Gilmour, Mason, Wright, Waters\\',), (\\'Waters\\',), (\\'Waters\\',), (None,), (None,), (None,), (None,), (None,), (None,), (None,), (None,), (None,), (None,), (None,), (None,), (None,), (None,), (None,), (None,), (\\'Mercury, Freddie\\',), (\\'Deacon, John\\',), (\\'Mercury, Freddie\\',), (\\'May, Brian\\',), (\\'Mercury, Freddie\\',), (\\'Deacon, John\\',), (\\'Mercury, Freddie\\',), (\\'May, Brian\\',), (\\'Mercury, Freddie\\',), (\\'Mercury, Freddie\\',), (\\'May, Brian\\',), (\\'Mercury, Freddie\\',), (\\'Mercury, Freddie\\',), (\\'May, Brian\\',), (\\'Mercury, Freddie\\',), (\\'Deacon, John/May, Brian\\',), (\\'Mercury, Freddie\\',), (\\'May\\',), (\\'Mercury\\',), (\\'Taylor\\',), (\\'May\\',), (\\'Deacon\\',), (\\'Taylor\\',), (\\'Mercury\\',), (\\'May\\',), (\\'Deacon\\',), (\\'May\\',), (\\'Mercury\\',), (\\'Bill Berry/Michael Stipe/Mike Mills/Peter Buck\\',), (\\'Bill Berry/Michael Stipe/Mike Mills/Peter Buck\\',), (\\'Bill Berry/Michael Stipe/Mike Mills/Peter Buck\\',), (\\'Bill Berry-Peter Buck-Mike Mills-Michael Stipe\\',), (\\'Bill Berry-Peter Buck-Mike Mills-Michael Stipe\\',), (\\'Bill Berry-Peter Buck-Mike Mills-Michael Stipe\\',), (\\'Bill Berry-Peter Buck-Mike Mills-Michael Stipe\\',), (\\'Bill Berry-Peter Buck-Mike Mills-Michael Stipe\\',), (\\'Bill Berry-Peter Buck-Mike Mills-Michael Stipe\\',), (\\'Bill Berry-Peter Buck-Mike Mills-Michael Stipe\\',), (\\'Bill Berry-Peter Buck-Mike Mills-Michael Stipe\\',), (\\'Bill Berry-Peter Buck-Mike Mills-Michael Stipe\\',), (\\'Bill Berry-Peter Buck-Mike Mills-Michael Stipe\\',), (\\'Bill Berry-Peter Buck-Mike Mills-Michael Stipe\\',), (\\'Bill Berry-Peter Buck-Mike Mills-Michael Stipe\\',), (\\'Bill Berry-Peter Buck-Mike Mills-Michael Stipe\\',), (\\'Bill Berry-Peter Buck-Mike Mills-Michael Stipe\\',), (\\'Bill Berry-Peter Buck-Mike Mills-Michael Stipe\\',), (\\'Bill Berry-Peter Buck-Mike Mills-Michael Stipe\\',), (\\'Bill Berry-Peter Buck-Mike Mills-Michael Stipe\\',), (\\'Bill Berry-Peter Buck-Mike Mills-Michael Stipe\\',), (\\'Bill Berry-Peter Buck-Mike Mills-Michael Stipe\\',), (\\'Bill Berry-Peter Buck-Mike Mills-Michael Stipe\\',), (\\'Bill Berry-Peter Buck-Mike Mills-Michael Stipe\\',), (\\'Bill Berry-Peter Buck-Mike Mills-Michael Stipe\\',), (\\'Bill Berry-Peter Buck-Mike Mills-Michael Stipe\\',), (\\'Bill Berry-Peter Buck-Mike Mills-Michael Stipe\\',), (\\'Bill Berry-Peter Buck-Mike Mills-Michael Stipe\\',), (\\'Bill Berry/Michael Stipe/Mike Mills/Peter Buck\\',), (\\'Bill Berry/Michael Stipe/Mike Mills/Peter Buck\\',), (\\'Bill Berry/Michael Stipe/Mike Mills/Peter Buck\\',), (\\'Bill Berry/Michael Stipe/Mike Mills/Peter Buck\\',), (\\'Bill Berry/Michael Stipe/Mike Mills/Peter Buck\\',), (\\'Bill Berry/Michael Stipe/Mike Mills/Peter Buck\\',), (\\'Bill Berry/Michael Stipe/Mike Mills/Peter Buck\\',), (\\'Bill Berry/Michael Stipe/Mike Mills/Peter Buck\\',), (\\'R.E.M.\\',), (\\'R.E.M.\\',), (\\'R.E.M.\\',), (\\'R.E.M.\\',), (\\'R.E.M.\\',), (\\'R.E.M.\\',), (\\'R.E.M.\\',), (\\'R.E.M.\\',), (\\'R.E.M.\\',), (\\'R.E.M.\\',), (\\'R.E.M.\\',), (\\'R.E.M.\\',), (\\'R.E.M.\\',), (\\'R.E.M.\\',), (\\'R.E.M.\\',), (\\'R.E.M.\\',), (\\'Rodolfo\\',), (\\'Rodolfo\\',), (\\'Rodolfo\\',), (\\'Rodolfo\\',), (\\'Rodolfo\\',), (\\'Rodolfo\\',), (\\'Rodolfo\\',), (\\'Rodolfo\\',), (\\'Rodolfo\\',), (\\'Rodolfo\\',), (None,), (None,), (None,), (None,), (None,), (None,), (None,), (None,), (None,), (None,), (None,), (None,), (None,), (None,), (\\'Anthony Kiedis/Chad Smith/Flea/John Frusciante\\',), (\\'Anthony Kiedis/Chad Smith/Flea/John Frusciante\\',), (\\'Anthony Kiedis/Chad Smith/Flea/John Frusciante\\',), (\\'Anthony Kiedis/Chad Smith/Flea/John Frusciante\\',), (\\'Anthony Kiedis/Chad Smith/Flea/John Frusciante\\',), (\\'Anthony Kiedis/Chad Smith/Flea/John Frusciante\\',), (\\'Anthony Kiedis/Chad Smith/Flea/John Frusciante\\',), (\\'Anthony Kiedis/Chad Smith/Flea/John Frusciante\\',), (\\'Anthony Kiedis/Chad Smith/Flea/John Frusciante\\',), (\\'Anthony Kiedis/Chad Smith/Flea/John Frusciante\\',), (\\'Anthony Kiedis/Chad Smith/Flea/John Frusciante\\',), (\\'Anthony Kiedis/Chad Smith/Flea/John Frusciante\\',), (\\'Anthony Kiedis/Chad Smith/Flea/John Frusciante\\',), (\\'Anthony Kiedis/Chad Smith/Flea/John Frusciante\\',), (\\'Anthony Kiedis/Chad Smith/Flea/John Frusciante\\',), (\\'Anthony Kiedis/Chad Smith/Flea/John Frusciante\\',), (\\'Robert Johnson\\',), (\\'Anthony Kiedis, Flea, John Frusciante, and Chad Smith\\',), (\\'Anthony Kiedis, Flea, John Frusciante, and Chad Smith\\',), (\\'Anthony Kiedis, Flea, John Frusciante, and Chad Smith\\',), (\\'Anthony Kiedis, Flea, John Frusciante, and Chad Smith\\',), (\\'Anthony Kiedis, Flea, John Frusciante, and Chad Smith\\',), (\\'Anthony Kiedis, Flea, John Frusciante, and Chad Smith\\',), (\\'Anthony Kiedis, Flea, John Frusciante, and Chad Smith\\',), (\\'Anthony Kiedis, Flea, John Frusciante, and Chad Smith\\',), (\\'Anthony Kiedis, Flea, John Frusciante, and Chad Smith\\',), (\\'Anthony Kiedis, Flea, John Frusciante, and Chad Smith\\',), (\\'Anthony Kiedis, Flea, John Frusciante, and Chad Smith\\',), (\\'Anthony Kiedis, Flea, John Frusciante, and Chad Smith\\',), (\\'Anthony Kiedis, Flea, John Frusciante, and Chad Smith\\',), (\\'Anthony Kiedis, Flea, John Frusciante, and Chad Smith\\',), (\\'Anthony Kiedis, Flea, John Frusciante, and Chad Smith\\',), (\\'Anthony Kiedis, Flea, John Frusciante, and Chad Smith\\',), (\\'Anthony Kiedis/Chad Smith/Flea/John Frusciante\\',), (\\'Red Hot Chili Peppers\\',), (\\'Red Hot Chili Peppers\\',), (\\'Red Hot Chili Peppers\\',), (\\'Red Hot Chili Peppers\\',), (\\'Red Hot Chili Peppers\\',), (\\'Red Hot Chili Peppers\\',), (\\'Anthony Kiedis/Chad Smith/Flea/John Frusciante\\',), (\\'Red Hot Chili Peppers\\',), (\\'Red Hot Chili Peppers\\',), (\\'Red Hot Chili Peppers\\',), (\\'Anthony Kiedis/Chad Smith/Flea/John Frusciante\\',), (\\'Red Hot Chili Peppers\\',), (\\'Red Hot Chili Peppers\\',), (\\'Red Hot Chili Peppers\\',), (\\'Geddy Lee And Alex Lifeson/Geddy Lee And Neil Peart/Rush\\',), (\\'Geddy Lee And Alex Lifeson/Geddy Lee And Neil Peart/Rush\\',), (\\'Geddy Lee And Alex Lifeson/Geddy Lee And Neil Peart/Rush\\',), (\\'Geddy Lee And Alex Lifeson/Geddy Lee And Neil Peart/Rush\\',), (\\'Geddy Lee And Alex Lifeson/Geddy Lee And Neil Peart/Rush\\',), (\\'Geddy Lee And Alex Lifeson/Geddy Lee And Neil Peart/Rush\\',), (\\'Geddy Lee And Alex Lifeson/Geddy Lee And Neil Peart/Rush\\',), (\\'Geddy Lee And Alex Lifeson/Geddy Lee And Neil Peart/Rush\\',), (\\'Geddy Lee And Alex Lifeson/Geddy Lee And Neil Peart/Rush\\',), (\\'Geddy Lee And Alex Lifeson/Geddy Lee And Neil Peart/Rush\\',), (\\'Geddy Lee And Alex Lifeson/Geddy Lee And Neil Peart/Rush\\',), (\\'Geddy Lee And Alex Lifeson/Geddy Lee And Neil Peart/Rush\\',), (\\'Geddy Lee And Alex Lifeson/Geddy Lee And Neil Peart/Rush\\',), (\\'Geddy Lee And Alex Lifeson/Geddy Lee And Neil Peart/Rush\\',), (\\'M.Babatunde Olantunji\\',), (\\'E.Weiss\\',), (\\'E.Weiss\\',), (\\'Carlos Santana\\',), (\\'Albert King\\',), (\\'Carlos Santana\\',), (\\'W.Correa\\',), (\\'Carlos Santana\\',), (None,), (None,), (None,), (None,), (None,), (None,), (\\'Mick Hucknall and Neil Moss\\',), (\\'John and William Valentine\\',), (\\'Mick Hucknall\\',), (\\'Jimmy and Vella Cameron\\',), (\\'Mick Hucknall\\',), (\\'Mick Hucknall and Lamont Dozier\\',), (\\'Kenny Gamble and Leon Huff\\',), (\\'Mick Hucknall\\',), (\\'Mick Hucknall and Fritz McIntyre\\',), (\\'Mick Hucknall and Fritz McIntyre\\',), (\\'Mick Hucknall\\',), (\\'Mick Hucknall\\',), (\\'Mick Hucknall\\',), (\\'Carolyn Franklin and Sonny Saunders\\',), (\\'Mick Hucknall\\',), (\\'Chico Amaral/Edgard Scandurra/Samuel Rosa\\',), (\\'Chico Amaral/Samuel Rosa\\',), (\\'Chico Amaral/Samuel Rosa\\',), (\\'Fausto Fawcett/Samuel Rosa\\',), (\\'Chico Amaral/Lelo Zanettik\\',), (\\'Leão, Rodrigo F./Samuel Rosa\\',), (\\'Chico Amaral/Samuel Rosa\\',), (\\'Chico Amaral/Samuel Rosa\\',), (\\'Leão, Rodrigo F./Lô Borges/Samuel Rosa\\',), (\\'Chico Amaral/Samuel Rosa\\',), (\\'Nando Reis/Samuel Rosa\\',), (\\'Chico Amaral/Samuel Rosa\\',), (\\'Samuel Rosa\\',), (\\'Samuel Rosa\\',), (\\'Samuel Rosa\\',), (\\'Samuel Rosa\\',), (\\'Samuel Rosa\\',), (\\'Samuel Rosa\\',), (\\'Samuel Rosa\\',), (\\'Samuel Rosa\\',), (\\'Samuel Rosa\\',), (\\'Samuel Rosa\\',), (\\'Samuel Rosa\\',), (\\'Billy Corgan\\',), (\\'Billy Corgan\\',), (\\'Billy Corgan\\',), (\\'Billy Corgan\\',), (\\'James Iha\\',), (\\'Billy Corgan\\',), (\\'Billy Corgan\\',), (\\'Billy Corgan\\',), (\\'Billy Corgan\\',), (\\'Billy Corgan\\',), (\\'Billy Corgan\\',), (\\'David Cook\\',), (\\'Billy Corgan\\',), (\\'Billy Corgan\\',), (\\'Billy Corgan\\',), (\\'Billy Corgan\\',), (\\'Billy Corgan\\',), (\\'Billy Corgan\\',), (\\'Billy Corgan\\',), (\\'Billy Corgan\\',), (\\'Billy Corgan\\',), (\\'Billy Corgan\\',), (\\'Stevie Nicks\\',), (\\'Billy Corgan\\',), (\\'Billy Corgan\\',), (\\'Billy Corgan\\',), (\\'Billy Corgan\\',), (\\'Billy Corgan\\',), (\\'Billy Corgan\\',), (\\'Billy Corgan\\',), (\\'Billy Corgan\\',), (\\'Billy Corgan\\',), (\\'Billy Corgan\\',), (\\'Billy Corgan\\',), (\\'Chris Cornell/Kim Thayil\\',), (\\'Chris Cornell/Kim Thayil\\',), (\\'Chris Cornell\\',), (\\'Chris Cornell/Kim Thayil\\',), (\\'Chris Cornell/Kim Thayil\\',), (\\'Ben Shepherd/Chris Cornell/Kim Thayil/Matt Cameron\\',), (\\'Chris Cornell\\',), (\\'Chris Cornell\\',), (\\'Chris Cornell\\',), (\\'Chris Cornell\\',), (\\'Soundgarden\\',), (\\'Chris Cornell\\',), (\\'Chris Cornell\\',), (\\'Chris Cornell\\',), (\\'Chris Cornell\\',), (\\'Ben Shepherd/Chris Cornell\\',), (\\'Chris Cornell\\',), (\\'Jay Beckenstein\\',), (\\'Jeremy Wall\\',), (\\'Jeremy Wall\\',), (\\'Jay Beckenstein\\',), (\\'Jeremy Wall\\',), (\\'Jay Beckenstein\\',), (\\'Chet Catallo\\',), (\\'Jeremy Wall\\',), (\\'Rick Strauss\\',), (\\'Doyle Bramhall/Stevie Ray Vaughan\\',), (\\'B. Carter/C. Layton/R. Ellsworth/R. Wynans/T. Shannon\\',), (\\'Doyle Bramhall/Stevie Ray Vaughan\\',), (\\'Willie Dixon\\',), (\\'B. Guy\\',), (\\'Stevie Ray Vaughan\\',), (\\'Doyle Bramhall/Stevie Ray Vaughan\\',), (\\'Doyle Bramhall/Stevie Ray Vaughan\\',), (\\'C. Burnett\\',), (\\'Stevie Ray Vaughan\\',), (\\'R. DeLeo/Weiland\\',), (\\'D. DeLeo/Kretz/Weiland\\',), (\\'D. DeLeo/R. DeLeo/Weiland\\',), (\\'Dean Deleo\\',), (\\'R. DeLeo/Weiland\\',), (\\'D. DeLeo/Kretz/R. DeLeo/Weiland\\',), (\\'R. DeLeo/Weiland\\',), (\\'R. DeLeo/Weiland\\',), (\\'R. DeLeo/Weiland\\',), (\\'R. DeLeo/Weiland\\',), (\\'Kretz/R. DeLeo/Weiland\\',), (\\'D. DeLeo/Kretz/Weiland\\',), (\\'Dolmayan, John/Malakian, Daron/Odadjian, Shavo\\',), (\\'Tankian, Serj\\',), (\\'Tankian, Serj\\',), (\\'Tankian, Serj\\',), (\\'Dolmayan, John/Malakian, Daron/Odadjian, Shavo\\',), (\\'Tankian, Serj\\',), (\\'Dolmayan, John/Malakian, Daron/Odadjian, Shavo\\',), (\\'Tankian, Serj\\',), (\\'Tankian, Serj\\',), (\\'Dolmayan, John/Malakian, Daron/Odadjian, Shavo\\',), (\\'Tankian, Serj\\',), (\\'Terry Bozzio, Steve Stevens, Tony Levin\\',), (\\'Terry Bozzio, Steve Stevens, Tony Levin\\',), (\\'Terry Bozzio, Steve Stevens, Tony Levin\\',), (\\'Terry Bozzio, Steve Stevens, Tony Levin\\',), (\\'Terry Bozzio, Steve Stevens, Tony Levin\\',), (\\'Terry Bozzio, Steve Stevens, Tony Levin\\',), (\\'Terry Bozzio, Steve Stevens, Tony Levin\\',), (\\'Chris Robinson/Rich Robinson\\',), (\\'Chris Robinson/Rich Robinson\\',), (\\'Chris Robinson/Rich Robinson\\',), (\\'Chris Robinson/Rich Robinson\\',), (\\'Chris Robinson/Rich Robinson\\',), (\\'Chris Robinson/Rich Robinson\\',), (\\'Chris Robinson/Rich Robinson\\',), (\\'Chris Robinson/Rich Robinson\\',), (\\'Chris Robinson/Rich Robinson\\',), (\\'Chris Robinson/Rich Robinson\\',), (\\'Chris Robinson/Rich Robinson\\',), (\\'Chris Robinson/Rich Robinson\\',), (\\'Chris Robinson/Rich Robinson\\',), (\\'Chris Robinson/Rich Robinson\\',), (\\'Chris Robinson/Rich Robinson\\',), (\\'Chris Robinson/Rich Robinson\\',), (\\'Chris Robinson/Rich Robinson\\',), (\\'A.Isbell/A.Jones/O.Redding\\',), (\\'Chris Robinson/Rich Robinson\\',), (\\'Joe Strummer/Mick Jones\\',), (\\'Joe Strummer/Mick Jones\\',), (\\'Joe Strummer/Mick Jones\\',), (\\'Joe Strummer/Mick Jones\\',), (\\'Joe Strummer/Mick Jones\\',), (\\'Joe Strummer/Mick Jones\\',), (\\'Mick Jones/Traditional arr. Joe Strummer\\',), (\\'Sonny Curtis\\',), (\\'Joe Strummer/Mick Jones\\',), (\\'Joe Strummer/Mick Jones\\',), (\\'Joe Strummer/Mick Jones\\',), (\\'The Clash\\',), (\\'The Clash\\',), (\\'The Clash\\',), (\\'The Clash\\',), (\\'The Clash\\',), (\\'The Clash\\',), (\\'The Clash\\',), (\\'Billy Duffy/Ian Astbury\\',), (\\'Billy Duffy/Ian Astbury\\',), (\\'Billy Duffy/Ian Astbury\\',), (\\'Billy Duffy/Ian Astbury\\',), (\\'Billy Duffy/Ian Astbury/Marti Frederiksen/Mick Jones\\',), (\\'Billy Duffy/Ian Astbury\\',), (\\'Billy Duffy/Ian Astbury\\',), (\\'Billy Duffy/Bob Rock/Ian Astbury\\',), (\\'Billy Duffy/Ian Astbury\\',), (\\'Billy Duffy/Bob Rock/Ian Astbury\\',), (\\'Billy Duffy/Ian Astbury\\',), (\\'Billy Duffy/Ian Astbury\\',), (None,), (None,), (None,), (None,), (None,), (None,), (None,), (None,), (None,), (None,), (None,), (None,), (None,), (None,), (None,), (None,), (None,), (None,), (\\'Robby Krieger, Ray Manzarek, John Densmore, Jim Morrison\\',), (\\'Robby Krieger, Ray Manzarek, John Densmore, Jim Morrison\\',), (\\'Robby Krieger, Ray Manzarek, John Densmore, Jim Morrison\\',), (\\'Robby Krieger, Ray Manzarek, John Densmore, Jim Morrison\\',), (\\'Weill-Brecht\\',), (\\'Robby Krieger, Ray Manzarek, John Densmore, Jim Morrison\\',), (\\'Willie Dixon, C. Burnett\\',), (\\'Robby Krieger, Ray Manzarek, John Densmore, Jim Morrison\\',), (\\'Robby Krieger, Ray Manzarek, John Densmore, Jim Morrison\\',), (\\'Robby Krieger, Ray Manzarek, John Densmore, Jim Morrison\\',), (\\'Robby Krieger, Ray Manzarek, John Densmore, Jim Morrison\\',), (\\'G M Sumner\\',), (\\'G M Sumner\\',), (\\'G M Sumner\\',), (\\'G M Sumner\\',), (\\'G M Sumner\\',), (\\'G M Sumner\\',), (\\'G M Sumner\\',), (\\'G M Sumner\\',), (\\'G M Sumner\\',), (\\'G M Sumner\\',), (\\'G M Sumner\\',), (\\'G M Sumner\\',), (\\'G M Sumner\\',), (\\'G M Sumner\\',), (\\'Jerry Ragavoy\\',), (\\'Jagger/Richards\\',), (\\'Nanker Phelge\\',), (\\'Jagger/Richards\\',), (\\'Jagger/Richards/Oldham\\',), (\\'Jagger/Richards\\',), (\\'Jagger/Richards\\',), (\\'Jagger/Richards\\',), (\\'Jagger/Richards\\',), (\\'Jagger/Richards\\',), (\\'Jagger/Richards\\',), (\\'Jagger/Richards\\',), (\\'Jagger/Richards\\',), (\\'Jagger/Richards\\',), (\\'Jagger/Richards\\',), (\\'Jagger/Richards\\',), (\\'Jagger/Richards\\',), (\\'Jesse Ed Davis III/Taj Mahal\\',), (\\'Jagger/Richards\\',), (\\'Jagger/Richards\\',), (\\'Faithfull/Jagger/Richards\\',), (\\'Jagger/Richards\\',), (\\'Jagger/Richards\\',), (\\'De Beauport/Jagger/Richards\\',), (\\'Jagger/Richards\\',), (\\'Jagger/Richards\\',), (\\'Jagger/Richards\\',), (\\'Jagger/Richards\\',), (\\'Jagger/Richards\\',), (\\'Jagger/Richards\\',), (\\'Jagger/Richards\\',), (\\'Jagger/Richards\\',), (\\'Jagger/Richards\\',), (\\'Jagger/Richards\\',), (\\'Jagger/Richards\\',), (\\'Jagger/Richards\\',), (\\'Jagger/Richards\\',), (\\'Jagger/Richards\\',), (\\'Jagger/Richards\\',), (\\'Jagger/Richards\\',), (\\'Jagger/Richards\\',), (\\'The Tea Party\\',), (\\'The Tea Party\\',), (\\'Daniel Lanois\\',), (\\'The Tea Party\\',), (\\'The Tea Party\\',), (\\'The Tea Party\\',), (\\'The Tea Party\\',), (\\'The Tea Party\\',), (\\'The Tea Party\\',), (\\'The Tea Party\\',), (\\'The Tea Party\\',), (\\'The Tea Party\\',), (\\'The Tea Party\\',), (\\'The Tea Party\\',), (\\'Keith Richards/Mick Jagger\\',), (\\'The Tea Party\\',), (\\'The Tea Party\\',), (\\'The Tea Party\\',), (\\'The Tea Party\\',), (\\'The Tea Party\\',), (\\'The Tea Party\\',), (\\'The Tea Party\\',), (\\'The Tea Party\\',), (\\'The Tea Party\\',), (\\'The Tea Party\\',), (\\'The Tea Party\\',), (\\'Pete Townshend\\',), (\\'Pete Townshend, Roger Daltrey\\',), (\\'John Entwistle/Pete Townshend\\',), (\\'Pete Townshend\\',), (\\'Pete Townshend\\',), (\\'John Entwistle\\',), (\\'Pete Townshend\\',), (\\'Pete Townshend\\',), (\\'Pete Townshend\\',), (\\'Pete Townshend\\',), (\\'John Entwistle/Pete Townshend\\',), (\\'Pete Townshend\\',), (\\'John Entwistle/Pete Townshend\\',), (\\'John Entwistle/Pete Townshend\\',), (\\'Pete Townshend\\',), (\\'Pete Townshend\\',), (\\'Pete Townshend\\',), (\\'Pete Townshend\\',), (\\'John Entwistle/Pete Townshend\\',), (\\'Pete Townshend\\',), (\\'Genival Cassiano/Silvio Rochael\\',), (\\'Tim Maia\\',), (\\'Tim Maia\\',), (\\'Gilson Mendonça/Michel\\',), (\\'Tim Maia\\',), (\\'Do Vale, João/Luiz Wanderley\\',), (\\'Tim Maia\\',), (\\'Tim Maia\\',), (\\'Tim Maia\\',), (\\'Carlos Imperial/Edardo Araújo\\',), (\\'Genival Cassiano\\',), (\\'Carlos Imperial/Tim Maia\\',), (\\'Tim Maia\\',), (\\'Tim Maia\\',), (\\'Tim Maia\\',), (None,), (None,), (None,), (None,), (None,), (None,), (None,), (None,), (None,), (None,), (None,), (None,), (None,), (None,), (None,), (\\'Titãs\\',), (\\'Titãs\\',), (\\'Titãs\\',), (\\'Titãs\\',), (\\'Titãs\\',), (\\'Titãs\\',), (\\'Titãs\\',), (\\'Titãs\\',), (\\'Titãs\\',), (\\'Titãs\\',), (\\'Titãs\\',), (\\'Titãs\\',), (\\'Titãs\\',), (\\'Titãs\\',), (\\'Titãs\\',), (\\'Titãs\\',), (\\'Titãs\\',), (\\'Titãs\\',), (\\'Titãs\\',), (\\'Titãs\\',), (\\'Titãs\\',), (\\'Titãs\\',), (\\'Branco Mello/Carlos Barmack/Ciro Pessoa/Marcelo Fromer/Toni Belloto\\',), (\\'Arnaldo Antunes/Charles Gavin/Marcelo Fromer/Sérgio Britto/Toni Bellotto\\',), (\\'Nando Reis\\',), (\\'Charles Gavin/Marcelo Fromer/Sérgio Britto\\',), (\\'Arnaldo Antunes\\',), (\\'Sérgio Britto/Toni Bellotto\\',), (\\'Sérgio Britto\\',), (\\'Toni Bellotto\\',), (\\'Arnaldo Anutnes/Marcelo Fromer/Paulo Miklos\\',), (\\'Arnaldo Anutnes/Branco Mello/Marcelo Fromer/Sergio Brotto/Toni Bellotto\\',), (\\'Arnaldo Antunes/Britto, SergioMiklos, Paulo\\',), (\\'Sérgio Britto\\',), (\\'Nando Reis\\',), (\\'Ciro Pressoa/Marcelo Fromer\\',), (\\'Erasmo Carlos/Roberto Carlos\\',), (\\'Antonio Lopes\\',), (None,), (None,), (None,), (None,), (None,), (None,), (None,), (None,), (None,), (None,), (None,), (None,), (None,), (None,), (None,), (None,), (None,), (None,), (None,), (None,), (None,), (None,), (None,), (None,), (None,), (None,), (None,), (None,), (None,), (None,), (None,), (None,), (None,), (None,), (None,), (None,), (None,), (None,), (None,), (None,), (None,), (None,), (None,), (None,), (None,), (None,), (None,), (None,), (None,), (None,), (None,), (None,), (None,), (None,), (None,), (None,), (None,), (None,), (None,), (None,), (None,), (None,), (None,), (None,), (None,), (None,), (None,), (None,), (None,), (None,), (None,), (None,), (None,), (None,), (None,), (None,), (None,), (None,), (None,), (None,), (None,), (None,), (None,), (None,), (None,), (None,), (None,), (None,), (None,), (None,), (None,), (None,), (None,), (None,), (None,), (None,), (None,), (None,), (None,), (None,), (None,), (None,), (None,), (None,), (None,), (None,), (None,), (\\'U2\\',), (\\'U2\\',), (\\'U2\\',), (\\'U2\\',), (\\'U2\\',), (\\'U2\\',), (\\'U2\\',), (\\'U2\\',), (\\'U2\\',), (\\'U2\\',), (\\'U2\\',), (\\'U2\\',), (\\'Adam Clayton, Bono, Larry Mullen, The Edge\\',), (\\'Adam Clayton, Bono, Larry Mullen, The Edge\\',), (\\'Adam Clayton, Bono, Larry Mullen, The Edge\\',), (\\'Adam Clayton, Bono, Larry Mullen, The Edge\\',), (\\'Adam Clayton, Bono, Larry Mullen, The Edge\\',), (\\'Adam Clayton, Bono, Larry Mullen, The Edge\\',), (\\'Adam Clayton, Bono, Larry Mullen, The Edge\\',), (\\'Adam Clayton, Bono, Larry Mullen, The Edge\\',), (\\'Adam Clayton, Bono, Larry Mullen, The Edge\\',), (\\'Adam Clayton, Bono, Larry Mullen, The Edge\\',), (\\'Adam Clayton, Bono, Larry Mullen, The Edge\\',), (\\'U2\\',), (\\'U2\\',), (\\'U2\\',), (\\'U2\\',), (\\'U2\\',), (\\'Ivan Kral/Patti Smith\\',), (\\'Buzz Cason/Mac Gayden\\',), (\\'Alex North/Hy Zaret\\',), (\\'U2\\',), (\\'Brian Eno/U2\\',), (\\'U2\\',), (\\'Bono\\',), (\\'U2\\',), (\\'U2\\',), (\\'U2\\',), (\\'Adam Clayton, Bono, Larry Mullen & The Edge\\',), (\\'Adam Clayton, Bono, Larry Mullen & The Edge\\',), (\\'Adam Clayton, Bono, Larry Mullen & The Edge\\',), (\\'Adam Clayton, Bono, Larry Mullen & The Edge\\',), (\\'Adam Clayton, Bono, Larry Mullen & The Edge\\',), (\\'Adam Clayton, Bono, Larry Mullen & The Edge\\',), (\\'Adam Clayton, Bono, Larry Mullen & The Edge\\',), (\\'Adam Clayton, Bono, Larry Mullen & The Edge\\',), (\\'Adam Clayton, Bono, Larry Mullen & The Edge\\',), (\\'Adam Clayton, Bono, Larry Mullen & The Edge\\',), (\\'Adam Clayton, Bono, Larry Mullen & The Edge\\',), (\\'Bono, The Edge, Adam Clayton, and Larry Mullen\\',), (\\'Bono, The Edge, Adam Clayton, and Larry Mullen\\',), (\\'Bono, The Edge, Adam Clayton, and Larry Mullen\\',), (\\'Bono, The Edge, Adam Clayton, and Larry Mullen\\',), (\\'Bono, The Edge, Adam Clayton, and Larry Mullen\\',), (\\'Bono, The Edge, Adam Clayton, and Larry Mullen\\',), (\\'Bono, The Edge, Adam Clayton, and Larry Mullen\\',), (\\'Bono, The Edge, Adam Clayton, and Larry Mullen\\',), (\\'Bono, The Edge, Adam Clayton, and Larry Mullen\\',), (\\'Bono, The Edge, Adam Clayton, and Larry Mullen\\',), (\\'Bono, The Edge, Adam Clayton, and Larry Mullen\\',), (\\'Bono, The Edge, Adam Clayton, and Larry Mullen\\',), (\\'Lennon, John/McCartney, Paul\\',), (\\'Bono/Clayton, Adam/Mullen Jr., Larry/The Edge\\',), (\\'Bono/Clayton, Adam/Mullen Jr., Larry/The Edge\\',), (\\'Bono/Clayton, Adam/Mullen Jr., Larry/The Edge\\',), (\\'Dylan, Bob\\',), (\\'Bono/Clayton, Adam/Mullen Jr., Larry/The Edge\\',), (\\'Mabins, Macie/Magee, Sterling/Robinson, Bobby\\',), (\\'Bono/Clayton, Adam/Mullen Jr., Larry/The Edge\\',), (\\'Bono/Clayton, Adam/Mullen Jr., Larry/The Edge\\',), (\\'Bono/Clayton, Adam/Mullen Jr., Larry/The Edge\\',), (\\'Bono/Clayton, Adam/Dylan, Bob/Mullen Jr., Larry/The Edge\\',), (\\'Bono/Clayton, Adam/Mullen Jr., Larry/The Edge\\',), (\\'Bono/Clayton, Adam/Mullen Jr., Larry/The Edge\\',), (\\'Bono/Clayton, Adam/Mullen Jr., Larry/The Edge\\',), (\\'Hendrix, Jimi\\',), (\\'Bono/Clayton, Adam/Mullen Jr., Larry/The Edge\\',), (\\'Bono/Clayton, Adam/Mullen Jr., Larry/The Edge\\',), (\\'U2\\',), (\\'U2\\',), (\\'U2\\',), (\\'U2\\',), (\\'U2\\',), (\\'U2\\',), (\\'U2\\',), (\\'U2\\',), (\\'U2\\',), (\"U2 & Daragh O\\'Toole\",), (\\'U2\\',), (\\'U2\\',), (\\'U2\\',), (\\'U2 & Van Dyke Parks\\',), (\\'U2\\',), (\\'U2\\',), (\\'U2\\',), (\\'U2\\',), (\\'U2\\',), (\\'U2\\',), (\\'U2\\',), (\\'U2\\',), (\\'U2\\',), (\\'U2\\',), (\\'U2; Bono\\',), (\\'U2; Bono\\',), (\\'U2; Edge, The\\',), (\\'U2; Bono\\',), (\\'U2; Bono\\',), (\\'U2; Bono\\',), (\\'U2; Bono\\',), (\\'U2; Bono\\',), (\\'U2; Bono & Edge, The\\',), (\\'U2; Bono\\',), (None,), (None,), (None,), (None,), (None,), (None,), (None,), (None,), (None,), (None,), (None,), (None,), (None,), (None,), (\\'Ray Davies\\',), (\\'Alex Van Halen/David Lee Roth/Edward Van Halen/Michael Anthony\\',), (\\'Alex Van Halen/David Lee Roth/Edward Van Halen/Michael Anthony\\',), (\\'Alex Van Halen/David Lee Roth/Edward Van Halen/Michael Anthony\\',), (\\'Alex Van Halen/David Lee Roth/Edward Van Halen/Michael Anthony\\',), (\\'Bill Dees/Roy Orbison\\',), (\\'Ivy Jo Hunter/Marvin Gaye/William Stevenson\\',), (\\'Alex Van Halen/David Lee Roth/Edward Van Halen/Michael Anthony\\',), (\\'Alex Van Halen/David Lee Roth/Edward Van Halen/Michael Anthony\\',), (\\'Jack Yellen/Milton Ager\\',), (\\'Alex Van Halen/David Lee Roth/Edward Van Halen/Michael Anthony\\',), (\\'Dale Evans\\',), (\\'Edward Van Halen, Alex Van Halen, David Lee Roth, Michael Anthony\\',), (\\'Edward Van Halen, Alex Van Halen, David Lee Roth, Michael Anthony\\',), (\\'Edward Van Halen, Alex Van Halen, David Lee Roth, Michael Anthony\\',), (\\'Edward Van Halen, Alex Van Halen, David Lee Roth, Michael Anthony\\',), (\\'Edward Van Halen, Alex Van Halen, David Lee Roth, Michael Anthony\\',), (\\'Edward Van Halen, Alex Van Halen, David Lee Roth, Michael Anthony\\',), (\\'Edward Van Halen, Alex Van Halen, David Lee Roth\\',), (\\'Edward Van Halen, Alex Van Halen, David Lee Roth\\',), (\\'Van Halen\\',), (\\'Edward Van Halen, Alex Van Halen, Michael Anthony,/Edward Van Halen, Alex Van Halen, Michael Anthony, Sammy Hagar\\',), (\\'Edward Van Halen, Alex Van Halen, Michael Anthony,/Edward Van Halen, Alex Van Halen, Michael Anthony, Sammy Hagar\\',), (\\'Edward Van Halen, Alex Van Halen, Michael Anthony,/Edward Van Halen, Alex Van Halen, Michael Anthony, Sammy Hagar\\',), (\\'Van Halen\\',), (\\'Van Halen\\',), (\\'Edward Van Halen, Alex Van Halen, Michael Anthony,/Edward Van Halen, Alex Van Halen, Michael Anthony, Sammy Hagar\\',), (\\'Edward Van Halen, Alex Van Halen, Michael Anthony,/Edward Van Halen, Alex Van Halen, Michael Anthony, David Lee Roth\\',), (\\'Edward Van Halen, Alex Van Halen, Michael Anthony,/Edward Van Halen, Alex Van Halen, Michael Anthony, David Lee Roth\\',), (\\'Edward Van Halen, Alex Van Halen, Michael Anthony and David Lee Roth\\',), (\\'Edward Van Halen, Alex Van Halen, Michael Anthony and David Lee Roth\\',), (\\'Ray Davies\\',), (\\'Edward Van Halen, Alex Van Halen, Michael Anthony and David Lee Roth\\',), (\\'Edward Van Halen, Alex Van Halen, Michael Anthony and David Lee Roth\\',), (\\'Edward Van Halen, Alex Van Halen, Michael Anthony and David Lee Roth\\',), (\\'Edward Van Halen, Alex Van Halen, Michael Anthony and David Lee Roth\\',), (\\'Edward Van Halen, Alex Van Halen, Michael Anthony and David Lee Roth\\',), (\\'Edward Van Halen, Alex Van Halen, Michael Anthony and David Lee Roth\\',), (\\'John Brim\\',), (\\'Edward Van Halen, Alex Van Halen, Michael Anthony and David Lee Roth\\',), (\\'Van Halen\\',), (\\'Van Halen\\',), (\\'Van Halen\\',), (\\'Van Halen\\',), (\\'Van Halen\\',), (\\'Van Halen\\',), (\\'Van Halen\\',), (\\'Van Halen\\',), (\\'Van Halen\\',), (\\'Van Halen\\',), (\\'Van Halen\\',), (\\'Van Halen\\',), (\\'Dave Kushner, Duff, Matt Sorum, Scott Weiland & Slash\\',), (\\'Dave Kushner, Duff, Matt Sorum, Scott Weiland & Slash\\',), (\\'Dave Kushner, Duff, Matt Sorum, Scott Weiland & Slash\\',), (\\'Dave Kushner, Duff, Matt Sorum, Scott Weiland & Slash\\',), (\\'Dave Kushner, Duff, Matt Sorum, Scott Weiland & Slash\\',), (\\'Dave Kushner, Duff, Matt Sorum, Scott Weiland & Slash\\',), (\\'Dave Kushner, Duff, Matt Sorum, Scott Weiland & Slash\\',), (\\'Dave Kushner, Duff, Matt Sorum, Scott Weiland & Slash\\',), (\\'Dave Kushner, Duff, Matt Sorum, Scott Weiland & Slash\\',), (\\'Dave Kushner, Duff, Matt Sorum, Scott Weiland & Slash\\',), (\\'Dave Kushner, Duff, Matt Sorum, Scott Weiland & Slash\\',), (\\'Dave Kushner, Duff, Keith Nelson, Matt Sorum, Scott Weiland & Slash\\',), (\\'Dave Kushner, Duff, Matt Sorum, Scott Weiland & Slash\\',), (None,), (None,), (None,), (None,), (None,), (None,), (None,), (None,), (None,), (None,), (None,), (None,), (None,), (None,), (None,), (\\'Sykes\\',), (\\'Marsden\\',), (\\'Sykes\\',), (\\'Galley\\',), (\\'Sykes\\',), (\\'Vandenberg\\',), (\\'Coverdale\\',), (\\'Moody\\',), (\\'Vandenberg\\',), (\\'Sykes\\',), (\\'Vandenberg\\',), (\\'Coverdale\\',), (\\'Marsden/Moody\\',), (\\'Vandenberg\\',), (\\'Beto Gogo/Jessé Pai/Luiz Carlos/Zeca Pagodinho\\',), (\\'Dudu Nobre\\',), (\\'Jorge Aragão/Zeca Pagodinho\\',), (\\'Alcides Dias Lopes\\',), (\\'Mauro Diniz/Ratino Sigem\\',), (\\'Paulinho Rezende/Toninho Geraes\\',), (\\'Alcino Corrêa/Monarco\\',), (\\'Augusto Garcez/Nelson Cavaquinho\\',), (\\'Arlindo Cruz/Franco/Marquinhos PQD/Negro, Jovelina Pérolo/Zeca Pagodinho\\',), (\\'Aldir Blanc/Jayme Vignoli\\',), (\\'Dudu Nobre/Zeca Pagodinho\\',), (\\'Almir Guineto/Dedé Paraiso/Luverci Ernesto\\',), (\\'Acyr Marques/Arlindo Cruz/Franco\\',), (\\'Acyi Marques/Arlindo Bruz/Braço, Beto Sem/Zeca Pagodinho\\',), (\\'Nei Lopes/Wilson Moreira\\',), (\\'Murilão\\',), (\\'Ratinho/Zeca Pagodinho\\',), (\\'Grazielle/Roque Ferreira\\',), (\\'Carlinhos Santana/Nelson Rufino\\',), (None,), (None,), (None,), (None,), (None,), (None,), (None,), (None,), (None,), (None,), (None,), (None,), (None,), (None,), (None,), (None,), (None,), (None,), (None,), (None,), (None,), (None,), (None,), (None,), (None,), (None,), (None,), (None,), (None,), (None,), (None,), (None,), (None,), (None,), (None,), (None,), (None,), (None,), (None,), (None,), (None,), (None,), (None,), (None,), (None,), (None,), (None,), (None,), (None,), (None,), (None,), (None,), (None,), (None,), (None,), (None,), (None,), (None,), (None,), (None,), (\\'Page, Jones\\',), (None,), (None,), (None,), (None,), (None,), (None,), (None,), (None,), (None,), (None,), (None,), (None,), (None,), (None,), (None,), (None,), (None,), (None,), (None,), (None,), (None,), (None,), (None,), (None,), (None,), (None,), (None,), (None,), (None,), (None,), (None,), (None,), (None,), (None,), (None,), (None,), (None,), (None,), (None,), (None,), (None,), (None,), (None,), (None,), (None,), (None,), (None,), (None,), (None,), (None,), (None,), (None,), (None,), (None,), (None,), (None,), (None,), (None,), (None,), (None,), (None,), (None,), (None,), (None,), (None,), (None,), (None,), (None,), (None,), (None,), (None,), (None,), (None,), (None,), (\\'E. Schrody/L. Muggerud\\',), (\\'E. Schrody/L. Dimant\\',), (\\'E. Schrody/L. Freese/L. Muggerud\\',), (\\'E. Schrody/L. Dimant\\',), (\\'L. Muggerud\\',), (\\'E. Schrody/J. Vasquez/L. Dimant\\',), (\\'E. Schrody/L. Dimant\\',), (\\'E. Schrody/L. Dimant\\',), (\\'E. Schrody/L. Muggerud\\',), (\\'E. Schrody/L. Muggerud\\',), (\\'L. Muggerud\\',), (\\'E. Schrody/L. Muggerud\\',), (\\'E. Schrody/L. Muggerud/R. Medrano\\',), (\\'E. Schrody/R. Medrano\\',), (\\'E. Schrody/L. Dimant/L. Muggerud\\',), (\\'E. Schrody/R. Medrano\\',), (\\'E. Schrody/L. Dimant\\',), (\\'E. Schrody/L. Muggerud\\',), (\\'E. Schrody/L. Dimant\\',), (None,), (None,), (None,), (None,), (None,), (None,), (None,), (None,), (None,), (None,), (None,), (None,), (None,), (None,), (None,), (None,), (None,), (None,), (None,), (None,), (None,), (None,), (None,), (None,), (None,), (None,), (None,), (None,), (None,), (None,), (\\'Luca Gusella\\',), (\\'Andrea Dulbecco\\',), (\\'Habib Koité\\',), (\\'Karsh Kale/Vishal Vaid\\',), (\\'Darius \"Take One\" Minwalla/Jon Auer/Ken Stringfellow/Matt Harris\\',), (\\'Habib Koité\\',), (\\'Darius \"Take One\" Minwalla/Jon Auer/Ken Stringfellow/Matt Harris\\',), (\\'Luciana Souza\\',), (\\'Aaron Goldberg\\',), (\\'Karsh Kale\\',), (\\'Ludwig van Beethoven\\',), (None,), (None,), (None,), (None,), (None,), (None,), (None,), (None,), (None,), (None,), (None,), (None,), (None,), (None,), (None,), (\\'Chris Cornell\\',), (\\'Chris Cornell\\',), (\\'Chris Cornell\\',), (\\'Chris Cornell\\',), (\\'Chris Cornell\\',), (\\'Chris Cornell\\',), (\\'Chris Cornell\\',), (\\'Michael Jackson\\',), (\\'Chris Cornell\\',), (\\'Chris Cornell\\',), (\\'Chris Cornell\\',), (\\'Chris Cornell\\',), (\\'Chris Cornell\\',), (\\'Chris Cornell\\',), (None,), (None,), (None,), (None,), (None,), (None,), (None,), (None,), (None,), (None,), (None,), (None,), (None,), (None,), (\\'Anonymous\\',), (\\'Gregorio Allegri\\',), (\\'Johann Pachelbel\\',), (\\'Antonio Vivaldi\\',), (\\'Johann Sebastian Bach\\',), (\\'Johann Sebastian Bach\\',), (\\'Johann Sebastian Bach\\',), (\\'George Frideric Handel\\',), (\\'George Frideric Handel\\',), (\\'Wolfgang Amadeus Mozart\\',), (\\'Wolfgang Amadeus Mozart\\',), (\\'Franz Joseph Haydn\\',), (\\'Ludwig van Beethoven\\',), (\\'Franz Schubert\\',), (\\'Giuseppe Verdi\\',), (\\'Richard Wagner\\',), (\\'Gabriel Fauré\\',), (\\'Peter Ilyich Tchaikovsky\\',), (\\'Edward Elgar\\',), (\\'Giacomo Puccini\\',), (\\'Gustav Holst\\',), (\\'Giacomo Puccini\\',), (\\'Samuel Barber\\',), (\\'Carl Orff\\',), (\\'Aaron Copland\\',), (None,), (None,), (\\'Johann Sebastian Bach\\',), (\\'Sergei Prokofiev\\',), (\\'Nikolai Rimsky-Korsakov\\',), (\\'Johann Sebastian Bach\\',), (\\'Frédéric Chopin\\',), (\\'Pietro Mascagni\\',), (\\'Jean Sibelius\\',), (\\'Ludwig van Beethoven\\',), (\\'Ralph Vaughan Williams\\',), (\\'Gustav Mahler\\',), (\\'Edward Elgar\\',), (\\'John Adams\\',), (\\'Ludwig van Beethoven\\',), (\\'Giovanni Pierluigi da Palestrina\\',), (None,), (\\'Johann Strauss II\\',), (\\'Hector Berlioz\\',), (\\'Georges Bizet\\',), (\\'Thomas Tallis\\',), (\\'George Frideric Handel\\',), (\\'Edvard Grieg\\',), (\\'Wolfgang Amadeus Mozart\\',), (None,), (\\'John Dowland\\',), (\\'Wolfgang Amadeus Mozart\\',), (None,), (None,), (None,), (None,), (\\'Mark Ronson\\',), (None,), (\\'Nickolas Ashford & Valerie Simpson\\',), (\"Paul O\\'duffy\",), (None,), (\\'Richard Poindexter & Robert Poindexter\\',), (None,), (None,), (None,), (None,), (\\'Salaam Remi\\',), (None,), (\\'Isham Jones & Marty Symes\\',), (\\'Salaam Remi\\',), (\\'Luke Smith\\',), (\\'Matt Rowe & Stefan Skarbek\\',), (\\'Delroy \"Chris\" Cooper, Donovan Jackson, Earl Chinna Smith, Felix Howard, Gordon Williams, Luke Smith, Paul Watson & Wilburn Squiddley Cole\\',), (\\'Freddy James, Jimmy hogarth & Larry Stock\\',), (\\'Astor Campbell, Delroy \"Chris\" Cooper, Donovan Jackson, Dorothy Fields, Earl Chinna Smith, Felix Howard, Gordon Williams, James Moody, Jimmy McHugh, Matt Rowe, Salaam Remi & Stefan Skarbek\\',), (None,), (\\'Ludwig van Beethoven\\',), (\\'Béla Bartók\\',), (None,), (\\'Johann Sebastian Bach\\',), (\\'Marc-Antoine Charpentier\\',), (\\'Astor Piazzolla\\',), (\\'Henryk Górecki\\',), (\\'Henry Purcell\\',), (\\'Erik Satie\\',), (\\'Henry Purcell\\',), (\\'Kurt Weill\\',), (\\'Johann Sebastian Bach\\',), (\\'Igor Stravinsky\\',), (\\'William Byrd\\',), (\\'Karol Szymanowski\\',), (\\'Carl Nielsen\\',), (\\'Niccolò Paganini\\',), (None,), (None,), (\\'Pietro Antonio Locatelli\\',), (None,), (\\'Franz Schubert\\',), (\\'Claudio Monteverdi\\',), (\\'Wolfgang Amadeus Mozart\\',), (\\'Philip Glass\\',)]'}}\n",
      "{'generate_answer': {'answer': 'This appears to be a list of composers, performers, and songwriters. It contains the names of various artists who have created music in different genres and time periods.\\n\\nSome notable points about this list:\\n\\n1. It includes well-known classical composers like Bach, Beethoven, Mozart, and Wagner.\\n2. There are also contemporary pop and rock musicians represented (e.g., Chris Cornell, Michael Jackson).\\n3. Some entries are anonymous or have \"Anonymous\" listed as the creator.\\n4. The list spans a wide range of musical styles, from classical to popular music.\\n5. It includes some well-known collaborations and production teams.\\n\\nThis list could be used for various purposes such as:\\n\\n- Creating a chronological history of Western music\\n- Studying composition techniques across different time periods\\n- Analyzing the development of musical genres\\n- Teaching about famous composers and performers\\n\\nIf you have any specific questions or need further analysis on this list, feel free to ask!'}}\n"
     ]
    }
   ],
   "source": [
    "for step in graph.stream({'question':'List down the composers in Track table?'}, stream_mode=\"updates\",config=config):\n",
    "    print(step)"
   ]
  },
  {
   "cell_type": "markdown",
   "id": "0b901e17",
   "metadata": {},
   "source": [
    "##### This graph workflow works well for simple tasks. it can be deceitful when you ask complex questions."
   ]
  },
  {
   "cell_type": "markdown",
   "id": "c94f08e1",
   "metadata": {},
   "source": [
    "### Building Agent with LangchainSQL Tools and LLM"
   ]
  },
  {
   "cell_type": "code",
   "execution_count": 43,
   "id": "a7c8bf04",
   "metadata": {},
   "outputs": [],
   "source": [
    "from langchain import hub\n",
    "\n",
    "prompt = hub.pull(\"langchain-ai/sql-agent-system-prompt\")"
   ]
  },
  {
   "cell_type": "code",
   "execution_count": 44,
   "id": "a52c72d3",
   "metadata": {},
   "outputs": [
    {
     "name": "stdout",
     "output_type": "stream",
     "text": [
      "================================\u001b[1m System Message \u001b[0m================================\n",
      "\n",
      "You are an agent designed to interact with a SQL database.\n",
      "Given an input question, create a syntactically correct \u001b[33;1m\u001b[1;3m{dialect}\u001b[0m query to run, then look at the results of the query and return the answer.\n",
      "Unless the user specifies a specific number of examples they wish to obtain, always limit your query to at most \u001b[33;1m\u001b[1;3m{top_k}\u001b[0m results.\n",
      "You can order the results by a relevant column to return the most interesting examples in the database.\n",
      "Never query for all the columns from a specific table, only ask for the relevant columns given the question.\n",
      "You have access to tools for interacting with the database.\n",
      "Only use the below tools. Only use the information returned by the below tools to construct your final answer.\n",
      "You MUST double check your query before executing it. If you get an error while executing a query, rewrite the query and try again.\n",
      "\n",
      "DO NOT make any DML statements (INSERT, UPDATE, DELETE, DROP etc.) to the database.\n",
      "\n",
      "To start you should ALWAYS look at the tables in the database to see what you can query.\n",
      "Do NOT skip this step.\n",
      "Then you should query the schema of the most relevant tables.\n"
     ]
    }
   ],
   "source": [
    "prompt.messages[0].pretty_print()"
   ]
  },
  {
   "cell_type": "code",
   "execution_count": 45,
   "id": "a6ccfa5d",
   "metadata": {},
   "outputs": [],
   "source": [
    "system_prompt = prompt.invoke({'dialect': db.dialect, 'top_k': 5})\n",
    "system_prompt = prompt.format(dialect = db.dialect, top_k = 5)"
   ]
  },
  {
   "cell_type": "code",
   "execution_count": 46,
   "id": "1b731b68",
   "metadata": {},
   "outputs": [],
   "source": [
    "from langchain_community.agent_toolkits import SQLDatabaseToolkit\n",
    "\n",
    "toolkit = SQLDatabaseToolkit(db=db, llm=llm)"
   ]
  },
  {
   "cell_type": "code",
   "execution_count": 47,
   "id": "f5af7a4e",
   "metadata": {},
   "outputs": [
    {
     "data": {
      "text/plain": [
       "{'table_info': '\\nCREATE TABLE \"Album\" (\\n\\t\"AlbumId\" INTEGER NOT NULL, \\n\\t\"Title\" NVARCHAR(160) NOT NULL, \\n\\t\"ArtistId\" INTEGER NOT NULL, \\n\\tPRIMARY KEY (\"AlbumId\"), \\n\\tFOREIGN KEY(\"ArtistId\") REFERENCES \"Artist\" (\"ArtistId\")\\n)\\n\\n/*\\n3 rows from Album table:\\nAlbumId\\tTitle\\tArtistId\\n1\\tFor Those About To Rock We Salute You\\t1\\n2\\tBalls to the Wall\\t2\\n3\\tRestless and Wild\\t2\\n*/\\n\\n\\nCREATE TABLE \"Artist\" (\\n\\t\"ArtistId\" INTEGER NOT NULL, \\n\\t\"Name\" NVARCHAR(120), \\n\\tPRIMARY KEY (\"ArtistId\")\\n)\\n\\n/*\\n3 rows from Artist table:\\nArtistId\\tName\\n1\\tAC/DC\\n2\\tAccept\\n3\\tAerosmith\\n*/\\n\\n\\nCREATE TABLE \"Customer\" (\\n\\t\"CustomerId\" INTEGER NOT NULL, \\n\\t\"FirstName\" NVARCHAR(40) NOT NULL, \\n\\t\"LastName\" NVARCHAR(20) NOT NULL, \\n\\t\"Company\" NVARCHAR(80), \\n\\t\"Address\" NVARCHAR(70), \\n\\t\"City\" NVARCHAR(40), \\n\\t\"State\" NVARCHAR(40), \\n\\t\"Country\" NVARCHAR(40), \\n\\t\"PostalCode\" NVARCHAR(10), \\n\\t\"Phone\" NVARCHAR(24), \\n\\t\"Fax\" NVARCHAR(24), \\n\\t\"Email\" NVARCHAR(60) NOT NULL, \\n\\t\"SupportRepId\" INTEGER, \\n\\tPRIMARY KEY (\"CustomerId\"), \\n\\tFOREIGN KEY(\"SupportRepId\") REFERENCES \"Employee\" (\"EmployeeId\")\\n)\\n\\n/*\\n3 rows from Customer table:\\nCustomerId\\tFirstName\\tLastName\\tCompany\\tAddress\\tCity\\tState\\tCountry\\tPostalCode\\tPhone\\tFax\\tEmail\\tSupportRepId\\n1\\tLuís\\tGonçalves\\tEmbraer - Empresa Brasileira de Aeronáutica S.A.\\tAv. Brigadeiro Faria Lima, 2170\\tSão José dos Campos\\tSP\\tBrazil\\t12227-000\\t+55 (12) 3923-5555\\t+55 (12) 3923-5566\\tluisg@embraer.com.br\\t3\\n2\\tLeonie\\tKöhler\\tNone\\tTheodor-Heuss-Straße 34\\tStuttgart\\tNone\\tGermany\\t70174\\t+49 0711 2842222\\tNone\\tleonekohler@surfeu.de\\t5\\n3\\tFrançois\\tTremblay\\tNone\\t1498 rue Bélanger\\tMontréal\\tQC\\tCanada\\tH2G 1A7\\t+1 (514) 721-4711\\tNone\\tftremblay@gmail.com\\t3\\n*/\\n\\n\\nCREATE TABLE \"Employee\" (\\n\\t\"EmployeeId\" INTEGER NOT NULL, \\n\\t\"LastName\" NVARCHAR(20) NOT NULL, \\n\\t\"FirstName\" NVARCHAR(20) NOT NULL, \\n\\t\"Title\" NVARCHAR(30), \\n\\t\"ReportsTo\" INTEGER, \\n\\t\"BirthDate\" DATETIME, \\n\\t\"HireDate\" DATETIME, \\n\\t\"Address\" NVARCHAR(70), \\n\\t\"City\" NVARCHAR(40), \\n\\t\"State\" NVARCHAR(40), \\n\\t\"Country\" NVARCHAR(40), \\n\\t\"PostalCode\" NVARCHAR(10), \\n\\t\"Phone\" NVARCHAR(24), \\n\\t\"Fax\" NVARCHAR(24), \\n\\t\"Email\" NVARCHAR(60), \\n\\tPRIMARY KEY (\"EmployeeId\"), \\n\\tFOREIGN KEY(\"ReportsTo\") REFERENCES \"Employee\" (\"EmployeeId\")\\n)\\n\\n/*\\n3 rows from Employee table:\\nEmployeeId\\tLastName\\tFirstName\\tTitle\\tReportsTo\\tBirthDate\\tHireDate\\tAddress\\tCity\\tState\\tCountry\\tPostalCode\\tPhone\\tFax\\tEmail\\n1\\tAdams\\tAndrew\\tGeneral Manager\\tNone\\t1962-02-18 00:00:00\\t2002-08-14 00:00:00\\t11120 Jasper Ave NW\\tEdmonton\\tAB\\tCanada\\tT5K 2N1\\t+1 (780) 428-9482\\t+1 (780) 428-3457\\tandrew@chinookcorp.com\\n2\\tEdwards\\tNancy\\tSales Manager\\t1\\t1958-12-08 00:00:00\\t2002-05-01 00:00:00\\t825 8 Ave SW\\tCalgary\\tAB\\tCanada\\tT2P 2T3\\t+1 (403) 262-3443\\t+1 (403) 262-3322\\tnancy@chinookcorp.com\\n3\\tPeacock\\tJane\\tSales Support Agent\\t2\\t1973-08-29 00:00:00\\t2002-04-01 00:00:00\\t1111 6 Ave SW\\tCalgary\\tAB\\tCanada\\tT2P 5M5\\t+1 (403) 262-3443\\t+1 (403) 262-6712\\tjane@chinookcorp.com\\n*/\\n\\n\\nCREATE TABLE \"Genre\" (\\n\\t\"GenreId\" INTEGER NOT NULL, \\n\\t\"Name\" NVARCHAR(120), \\n\\tPRIMARY KEY (\"GenreId\")\\n)\\n\\n/*\\n3 rows from Genre table:\\nGenreId\\tName\\n1\\tRock\\n2\\tJazz\\n3\\tMetal\\n*/\\n\\n\\nCREATE TABLE \"Invoice\" (\\n\\t\"InvoiceId\" INTEGER NOT NULL, \\n\\t\"CustomerId\" INTEGER NOT NULL, \\n\\t\"InvoiceDate\" DATETIME NOT NULL, \\n\\t\"BillingAddress\" NVARCHAR(70), \\n\\t\"BillingCity\" NVARCHAR(40), \\n\\t\"BillingState\" NVARCHAR(40), \\n\\t\"BillingCountry\" NVARCHAR(40), \\n\\t\"BillingPostalCode\" NVARCHAR(10), \\n\\t\"Total\" NUMERIC(10, 2) NOT NULL, \\n\\tPRIMARY KEY (\"InvoiceId\"), \\n\\tFOREIGN KEY(\"CustomerId\") REFERENCES \"Customer\" (\"CustomerId\")\\n)\\n\\n/*\\n3 rows from Invoice table:\\nInvoiceId\\tCustomerId\\tInvoiceDate\\tBillingAddress\\tBillingCity\\tBillingState\\tBillingCountry\\tBillingPostalCode\\tTotal\\n1\\t2\\t2009-01-01 00:00:00\\tTheodor-Heuss-Straße 34\\tStuttgart\\tNone\\tGermany\\t70174\\t1.98\\n2\\t4\\t2009-01-02 00:00:00\\tUllevålsveien 14\\tOslo\\tNone\\tNorway\\t0171\\t3.96\\n3\\t8\\t2009-01-03 00:00:00\\tGrétrystraat 63\\tBrussels\\tNone\\tBelgium\\t1000\\t5.94\\n*/\\n\\n\\nCREATE TABLE \"InvoiceLine\" (\\n\\t\"InvoiceLineId\" INTEGER NOT NULL, \\n\\t\"InvoiceId\" INTEGER NOT NULL, \\n\\t\"TrackId\" INTEGER NOT NULL, \\n\\t\"UnitPrice\" NUMERIC(10, 2) NOT NULL, \\n\\t\"Quantity\" INTEGER NOT NULL, \\n\\tPRIMARY KEY (\"InvoiceLineId\"), \\n\\tFOREIGN KEY(\"TrackId\") REFERENCES \"Track\" (\"TrackId\"), \\n\\tFOREIGN KEY(\"InvoiceId\") REFERENCES \"Invoice\" (\"InvoiceId\")\\n)\\n\\n/*\\n3 rows from InvoiceLine table:\\nInvoiceLineId\\tInvoiceId\\tTrackId\\tUnitPrice\\tQuantity\\n1\\t1\\t2\\t0.99\\t1\\n2\\t1\\t4\\t0.99\\t1\\n3\\t2\\t6\\t0.99\\t1\\n*/\\n\\n\\nCREATE TABLE \"MediaType\" (\\n\\t\"MediaTypeId\" INTEGER NOT NULL, \\n\\t\"Name\" NVARCHAR(120), \\n\\tPRIMARY KEY (\"MediaTypeId\")\\n)\\n\\n/*\\n3 rows from MediaType table:\\nMediaTypeId\\tName\\n1\\tMPEG audio file\\n2\\tProtected AAC audio file\\n3\\tProtected MPEG-4 video file\\n*/\\n\\n\\nCREATE TABLE \"Playlist\" (\\n\\t\"PlaylistId\" INTEGER NOT NULL, \\n\\t\"Name\" NVARCHAR(120), \\n\\tPRIMARY KEY (\"PlaylistId\")\\n)\\n\\n/*\\n3 rows from Playlist table:\\nPlaylistId\\tName\\n1\\tMusic\\n2\\tMovies\\n3\\tTV Shows\\n*/\\n\\n\\nCREATE TABLE \"PlaylistTrack\" (\\n\\t\"PlaylistId\" INTEGER NOT NULL, \\n\\t\"TrackId\" INTEGER NOT NULL, \\n\\tPRIMARY KEY (\"PlaylistId\", \"TrackId\"), \\n\\tFOREIGN KEY(\"TrackId\") REFERENCES \"Track\" (\"TrackId\"), \\n\\tFOREIGN KEY(\"PlaylistId\") REFERENCES \"Playlist\" (\"PlaylistId\")\\n)\\n\\n/*\\n3 rows from PlaylistTrack table:\\nPlaylistId\\tTrackId\\n1\\t3402\\n1\\t3389\\n1\\t3390\\n*/\\n\\n\\nCREATE TABLE \"Track\" (\\n\\t\"TrackId\" INTEGER NOT NULL, \\n\\t\"Name\" NVARCHAR(200) NOT NULL, \\n\\t\"AlbumId\" INTEGER, \\n\\t\"MediaTypeId\" INTEGER NOT NULL, \\n\\t\"GenreId\" INTEGER, \\n\\t\"Composer\" NVARCHAR(220), \\n\\t\"Milliseconds\" INTEGER NOT NULL, \\n\\t\"Bytes\" INTEGER, \\n\\t\"UnitPrice\" NUMERIC(10, 2) NOT NULL, \\n\\tPRIMARY KEY (\"TrackId\"), \\n\\tFOREIGN KEY(\"MediaTypeId\") REFERENCES \"MediaType\" (\"MediaTypeId\"), \\n\\tFOREIGN KEY(\"GenreId\") REFERENCES \"Genre\" (\"GenreId\"), \\n\\tFOREIGN KEY(\"AlbumId\") REFERENCES \"Album\" (\"AlbumId\")\\n)\\n\\n/*\\n3 rows from Track table:\\nTrackId\\tName\\tAlbumId\\tMediaTypeId\\tGenreId\\tComposer\\tMilliseconds\\tBytes\\tUnitPrice\\n1\\tFor Those About To Rock (We Salute You)\\t1\\t1\\t1\\tAngus Young, Malcolm Young, Brian Johnson\\t343719\\t11170334\\t0.99\\n2\\tBalls to the Wall\\t2\\t2\\t1\\tNone\\t342562\\t5510424\\t0.99\\n3\\tFast As a Shark\\t3\\t2\\t1\\tF. Baltes, S. Kaufman, U. Dirkscneider & W. Hoffman\\t230619\\t3990994\\t0.99\\n*/',\n",
       " 'table_names': 'Album, Artist, Customer, Employee, Genre, Invoice, InvoiceLine, MediaType, Playlist, PlaylistTrack, Track'}"
      ]
     },
     "execution_count": 47,
     "metadata": {},
     "output_type": "execute_result"
    }
   ],
   "source": [
    "toolkit.get_context()"
   ]
  },
  {
   "cell_type": "code",
   "execution_count": 48,
   "id": "7c8c3f9f",
   "metadata": {},
   "outputs": [
    {
     "data": {
      "text/plain": [
       "[QuerySQLDatabaseTool(description=\"Input to this tool is a detailed and correct SQL query, output is a result from the database. If the query is not correct, an error message will be returned. If an error is returned, rewrite the query, check the query, and try again. If you encounter an issue with Unknown column 'xxxx' in 'field list', use sql_db_schema to query the correct table fields.\", db=<langchain_community.utilities.sql_database.SQLDatabase object at 0x000001DA1A044F10>),\n",
       " InfoSQLDatabaseTool(description='Input to this tool is a comma-separated list of tables, output is the schema and sample rows for those tables. Be sure that the tables actually exist by calling sql_db_list_tables first! Example Input: table1, table2, table3', db=<langchain_community.utilities.sql_database.SQLDatabase object at 0x000001DA1A044F10>),\n",
       " ListSQLDatabaseTool(db=<langchain_community.utilities.sql_database.SQLDatabase object at 0x000001DA1A044F10>),\n",
       " QuerySQLCheckerTool(description='Use this tool to double check if your query is correct before executing it. Always use this tool before executing a query with sql_db_query!', db=<langchain_community.utilities.sql_database.SQLDatabase object at 0x000001DA1A044F10>, llm=ChatOllama(model='qwen2.5:7b', base_url='http://localhost:11434'), llm_chain=LLMChain(verbose=False, prompt=PromptTemplate(input_variables=['dialect', 'query'], input_types={}, partial_variables={}, template='\\n{query}\\nDouble check the {dialect} query above for common mistakes, including:\\n- Using NOT IN with NULL values\\n- Using UNION when UNION ALL should have been used\\n- Using BETWEEN for exclusive ranges\\n- Data type mismatch in predicates\\n- Properly quoting identifiers\\n- Using the correct number of arguments for functions\\n- Casting to the correct data type\\n- Using the proper columns for joins\\n\\nIf there are any of the above mistakes, rewrite the query. If there are no mistakes, just reproduce the original query.\\n\\nOutput the final SQL query only.\\n\\nSQL Query: '), llm=ChatOllama(model='qwen2.5:7b', base_url='http://localhost:11434'), output_parser=StrOutputParser(), llm_kwargs={}))]"
      ]
     },
     "execution_count": 48,
     "metadata": {},
     "output_type": "execute_result"
    }
   ],
   "source": [
    "tools = toolkit.get_tools()\n",
    "tools"
   ]
  },
  {
   "cell_type": "code",
   "execution_count": 49,
   "id": "2910cb89",
   "metadata": {},
   "outputs": [
    {
     "data": {
      "text/plain": [
       "\"[(1, 'For Those About To Rock We Salute You', 1), (2, 'Balls to the Wall', 2)]\""
      ]
     },
     "execution_count": 49,
     "metadata": {},
     "output_type": "execute_result"
    }
   ],
   "source": [
    "tools[0].invoke(\"select * from Album LIMIT 2\")"
   ]
  },
  {
   "cell_type": "code",
   "execution_count": 50,
   "id": "66612f6a",
   "metadata": {},
   "outputs": [],
   "source": [
    "from langgraph.prebuilt import create_react_agent\n",
    "from langchain_core.messages import HumanMessage"
   ]
  },
  {
   "cell_type": "code",
   "execution_count": 51,
   "id": "326fee0a",
   "metadata": {},
   "outputs": [],
   "source": [
    "agent_executor = create_react_agent(llm, tools, prompt=system_prompt)"
   ]
  },
  {
   "cell_type": "code",
   "execution_count": 52,
   "id": "11587e07",
   "metadata": {},
   "outputs": [
    {
     "data": {
      "image/png": "[encoded data removed]",
      "text/plain": [
       "<langgraph.graph.state.CompiledStateGraph object at 0x000001DA1DA667A0>"
      ]
     },
     "execution_count": 52,
     "metadata": {},
     "output_type": "execute_result"
    }
   ],
   "source": [
    "agent_executor"
   ]
  },
  {
   "cell_type": "code",
   "execution_count": 53,
   "id": "6a9d54dc",
   "metadata": {},
   "outputs": [
    {
     "name": "stdout",
     "output_type": "stream",
     "text": [
      "{'agent': {'messages': [AIMessage(content='', additional_kwargs={}, response_metadata={'model': 'qwen2.5:7b', 'created_at': '2025-06-11T08:37:54.2714426Z', 'done': True, 'done_reason': 'stop', 'total_duration': 5773790700, 'load_duration': 77161700, 'prompt_eval_count': 717, 'prompt_eval_duration': 1501000000, 'eval_count': 37, 'eval_duration': 4169000000, 'model_name': 'qwen2.5:7b'}, id='run--e977cdee-6675-40b3-b686-7c9534d018a5-0', tool_calls=[{'name': 'sql_db_list_tables', 'args': {}, 'id': '7948a98a-c388-45d3-8090-d9878cc4c3a2', 'type': 'tool_call'}], usage_metadata={'input_tokens': 717, 'output_tokens': 37, 'total_tokens': 754})]}}\n",
      "{'tools': {'messages': [ToolMessage(content='Album, Artist, Customer, Employee, Genre, Invoice, InvoiceLine, MediaType, Playlist, PlaylistTrack, Track', name='sql_db_list_tables', id='b24bbac1-83ce-410c-89e3-40e2c7636d6c', tool_call_id='7948a98a-c388-45d3-8090-d9878cc4c3a2')]}}\n",
      "{'agent': {'messages': [AIMessage(content='', additional_kwargs={}, response_metadata={'model': 'qwen2.5:7b', 'created_at': '2025-06-11T08:37:57.4655851Z', 'done': True, 'done_reason': 'stop', 'total_duration': 3182555000, 'load_duration': 75328200, 'prompt_eval_count': 776, 'prompt_eval_duration': 358000000, 'eval_count': 24, 'eval_duration': 2699000000, 'model_name': 'qwen2.5:7b'}, id='run--619dc716-719c-47ef-9ad5-f99e1c3ab2cc-0', tool_calls=[{'name': 'sql_db_schema', 'args': {'table_names': 'Invoice, Customer'}, 'id': '135214d6-0f20-4075-952b-7a7a7ba25d51', 'type': 'tool_call'}], usage_metadata={'input_tokens': 776, 'output_tokens': 24, 'total_tokens': 800})]}}\n",
      "{'tools': {'messages': [ToolMessage(content='\\nCREATE TABLE \"Customer\" (\\n\\t\"CustomerId\" INTEGER NOT NULL, \\n\\t\"FirstName\" NVARCHAR(40) NOT NULL, \\n\\t\"LastName\" NVARCHAR(20) NOT NULL, \\n\\t\"Company\" NVARCHAR(80), \\n\\t\"Address\" NVARCHAR(70), \\n\\t\"City\" NVARCHAR(40), \\n\\t\"State\" NVARCHAR(40), \\n\\t\"Country\" NVARCHAR(40), \\n\\t\"PostalCode\" NVARCHAR(10), \\n\\t\"Phone\" NVARCHAR(24), \\n\\t\"Fax\" NVARCHAR(24), \\n\\t\"Email\" NVARCHAR(60) NOT NULL, \\n\\t\"SupportRepId\" INTEGER, \\n\\tPRIMARY KEY (\"CustomerId\"), \\n\\tFOREIGN KEY(\"SupportRepId\") REFERENCES \"Employee\" (\"EmployeeId\")\\n)\\n\\n/*\\n3 rows from Customer table:\\nCustomerId\\tFirstName\\tLastName\\tCompany\\tAddress\\tCity\\tState\\tCountry\\tPostalCode\\tPhone\\tFax\\tEmail\\tSupportRepId\\n1\\tLuís\\tGonçalves\\tEmbraer - Empresa Brasileira de Aeronáutica S.A.\\tAv. Brigadeiro Faria Lima, 2170\\tSão José dos Campos\\tSP\\tBrazil\\t12227-000\\t+55 (12) 3923-5555\\t+55 (12) 3923-5566\\tluisg@embraer.com.br\\t3\\n2\\tLeonie\\tKöhler\\tNone\\tTheodor-Heuss-Straße 34\\tStuttgart\\tNone\\tGermany\\t70174\\t+49 0711 2842222\\tNone\\tleonekohler@surfeu.de\\t5\\n3\\tFrançois\\tTremblay\\tNone\\t1498 rue Bélanger\\tMontréal\\tQC\\tCanada\\tH2G 1A7\\t+1 (514) 721-4711\\tNone\\tftremblay@gmail.com\\t3\\n*/\\n\\n\\nCREATE TABLE \"Invoice\" (\\n\\t\"InvoiceId\" INTEGER NOT NULL, \\n\\t\"CustomerId\" INTEGER NOT NULL, \\n\\t\"InvoiceDate\" DATETIME NOT NULL, \\n\\t\"BillingAddress\" NVARCHAR(70), \\n\\t\"BillingCity\" NVARCHAR(40), \\n\\t\"BillingState\" NVARCHAR(40), \\n\\t\"BillingCountry\" NVARCHAR(40), \\n\\t\"BillingPostalCode\" NVARCHAR(10), \\n\\t\"Total\" NUMERIC(10, 2) NOT NULL, \\n\\tPRIMARY KEY (\"InvoiceId\"), \\n\\tFOREIGN KEY(\"CustomerId\") REFERENCES \"Customer\" (\"CustomerId\")\\n)\\n\\n/*\\n3 rows from Invoice table:\\nInvoiceId\\tCustomerId\\tInvoiceDate\\tBillingAddress\\tBillingCity\\tBillingState\\tBillingCountry\\tBillingPostalCode\\tTotal\\n1\\t2\\t2009-01-01 00:00:00\\tTheodor-Heuss-Straße 34\\tStuttgart\\tNone\\tGermany\\t70174\\t1.98\\n2\\t4\\t2009-01-02 00:00:00\\tUllevålsveien 14\\tOslo\\tNone\\tNorway\\t0171\\t3.96\\n3\\t8\\t2009-01-03 00:00:00\\tGrétrystraat 63\\tBrussels\\tNone\\tBelgium\\t1000\\t5.94\\n*/', name='sql_db_schema', id='a349e69b-a8de-408d-91fe-e0edddd09d0d', tool_call_id='135214d6-0f20-4075-952b-7a7a7ba25d51')]}}\n",
      "{'agent': {'messages': [AIMessage(content='', additional_kwargs={}, response_metadata={'model': 'qwen2.5:7b', 'created_at': '2025-06-11T08:38:07.7915472Z', 'done': True, 'done_reason': 'stop', 'total_duration': 10305844800, 'load_duration': 76814500, 'prompt_eval_count': 1588, 'prompt_eval_duration': 1530000000, 'eval_count': 56, 'eval_duration': 8528000000, 'model_name': 'qwen2.5:7b'}, id='run--37cc5d71-782d-49f9-a033-bc9a152ad67d-0', tool_calls=[{'name': 'sql_db_query_checker', 'args': {'query': 'SELECT c.Country, COUNT(*) as PurchaseCount FROM Invoice i JOIN Customer c ON i.CustomerId = c.CustomerId GROUP BY c.Country ORDER BY PurchaseCount DESC LIMIT 5'}, 'id': '7ebf4f35-31e8-4109-9564-0bcc67390210', 'type': 'tool_call'}], usage_metadata={'input_tokens': 1588, 'output_tokens': 56, 'total_tokens': 1644})]}}\n",
      "{'tools': {'messages': [ToolMessage(content='The provided SQL query appears to be correct and does not contain any of the common mistakes you\\'ve listed:\\n\\n- There is no `NOT IN` with NULL values.\\n- No `UNION` or `UNION ALL` was used in this query.\\n- The `BETWEEN` clause is not applicable here as there are no range conditions being set.\\n- There is no data type mismatch in predicates.\\n- Identifiers are not quoted, but in SQLite, identifiers do not need to be quoted unless they start with a number or contain special characters. In this case, \"Country\" and \"PurchaseCount\" are standard identifiers.\\n- The correct number of arguments for functions are used.\\n- There is no casting required here.\\n- The columns used in the `JOIN` clause are correctly specified.\\n\\nTherefore, the original query can be reproduced as follows:\\n\\n```sql\\nSELECT c.Country, COUNT(*) AS PurchaseCount \\nFROM Invoice i \\nJOIN Customer c ON i.CustomerId = c.CustomerId \\nGROUP BY c.Country \\nORDER BY PurchaseCount DESC \\nLIMIT 5;\\n```\\n\\nThis is the final SQL query.', name='sql_db_query_checker', id='75d3adda-745d-4152-81d5-68cc58311e2e', tool_call_id='7ebf4f35-31e8-4109-9564-0bcc67390210')]}}\n",
      "{'agent': {'messages': [AIMessage(content='', additional_kwargs={}, response_metadata={'model': 'qwen2.5:7b', 'created_at': '2025-06-11T08:38:48.2759485Z', 'done': True, 'done_reason': 'stop', 'total_duration': 11637475500, 'load_duration': 43358300, 'prompt_eval_count': 1884, 'prompt_eval_duration': 3294000000, 'eval_count': 55, 'eval_duration': 8186000000, 'model_name': 'qwen2.5:7b'}, id='run--2e50a827-7a1f-448a-932b-9baeabd14d06-0', tool_calls=[{'name': 'sql_db_query', 'args': {'query': 'SELECT c.Country, COUNT(*) as PurchaseCount FROM Invoice i JOIN Customer c ON i.CustomerId = c.CustomerId GROUP BY c.Country ORDER BY PurchaseCount DESC LIMIT 5'}, 'id': '1bbc8400-4767-4f20-bfc0-865dfe09d813', 'type': 'tool_call'}], usage_metadata={'input_tokens': 1884, 'output_tokens': 55, 'total_tokens': 1939})]}}\n",
      "{'tools': {'messages': [ToolMessage(content=\"[('USA', 91), ('Canada', 56), ('France', 35), ('Brazil', 35), ('Germany', 28)]\", name='sql_db_query', id='1c357531-aa6c-43bc-919f-557ba3de6a52', tool_call_id='1bbc8400-4767-4f20-bfc0-865dfe09d813')]}}\n",
      "{'agent': {'messages': [AIMessage(content='The country with the most purchases is the USA, followed by Canada, France, Brazil, and Germany. Here are the top 5 countries based on the number of purchases:\\n\\n1. **USA** - 91 purchases\\n2. **Canada** - 56 purchases\\n3. **France** - 35 purchases\\n4. **Brazil** - 35 purchases\\n5. **Germany** - 28 purchases\\n\\nIf you need more detailed information or analysis, feel free to ask!', additional_kwargs={}, response_metadata={'model': 'qwen2.5:7b', 'created_at': '2025-06-11T08:39:06.1762701Z', 'done': True, 'done_reason': 'stop', 'total_duration': 17857565400, 'load_duration': 82673800, 'prompt_eval_count': 1991, 'prompt_eval_duration': 452000000, 'eval_count': 105, 'eval_duration': 17090000000, 'model_name': 'qwen2.5:7b'}, id='run--cb4a83cb-fc81-4d8f-852d-f4523879fa99-0', usage_metadata={'input_tokens': 1991, 'output_tokens': 105, 'total_tokens': 2096})]}}\n"
     ]
    }
   ],
   "source": [
    "question = \"Which country's customers have made the most purchases?\"\n",
    "query = {\"messages\": [HumanMessage(question)]}\n",
    "\n",
    "for step in agent_executor.stream(query, stream_mode=\"updates\"):\n",
    "    print(step)"
   ]
  }
 ],
 "metadata": {
  "kernelspec": {
   "display_name": "my_chatbot",
   "language": "python",
   "name": "python3"
  },
  "language_info": {
   "codemirror_mode": {
    "name": "ipython",
    "version": 3
   },
   "file_extension": ".py",
   "mimetype": "text/x-python",
   "name": "python",
   "nbconvert_exporter": "python",
   "pygments_lexer": "ipython3",
   "version": "3.10.18"
  }
 },
 "nbformat": 4,
 "nbformat_minor": 5
}
